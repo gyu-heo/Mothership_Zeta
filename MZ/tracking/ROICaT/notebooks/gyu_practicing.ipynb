{
 "cells": [
  {
   "cell_type": "markdown",
   "id": "2b915a34",
   "metadata": {},
   "source": [
    "# Alignment"
   ]
  },
  {
   "cell_type": "code",
   "execution_count": 1,
   "id": "ae8d85e0",
   "metadata": {},
   "outputs": [
    {
     "data": {
      "text/html": [
       "<style>.container {width:95% !important; }</style>"
      ],
      "text/plain": [
       "<IPython.core.display.HTML object>"
      ]
     },
     "metadata": {},
     "output_type": "display_data"
    }
   ],
   "source": [
    "# widen jupyter notebook window\n",
    "from IPython.display import display, HTML\n",
    "display(HTML(\"<style>.container {width:95% !important; }</style>\"))"
   ]
  },
  {
   "cell_type": "code",
   "execution_count": 2,
   "id": "d0f1b0e0",
   "metadata": {},
   "outputs": [],
   "source": [
    "import numpy as np\n",
    "import cv2\n",
    "import scipy.sparse\n",
    "from tqdm import tqdm\n",
    "\n",
    "from ipywidgets import interact, widgets\n",
    "\n",
    "import sparse\n",
    "import torch\n",
    "import spconv.pytorch as spconv\n",
    "from concurrent.futures import ProcessPoolExecutor, ThreadPoolExecutor\n",
    "import multiprocessing as mp\n",
    "import os\n",
    "import hashlib\n",
    "from pathlib import Path\n",
    "import copy\n",
    "import pickle\n",
    "import matplotlib.pyplot as plt\n",
    "\n",
    "import sys\n",
    "\n",
    "import torchvision\n",
    "\n",
    "method='createOptFlow_DeepFlow'\n",
    "kwargs_method=None\n",
    "return_sparse=True\n",
    "normalize=True"
   ]
  },
  {
   "cell_type": "code",
   "execution_count": 3,
   "id": "4a15f074",
   "metadata": {},
   "outputs": [],
   "source": [
    "dir_github = Path(r'/n/data1/hms/neurobio/sabatini/gyu/github_clone').resolve()\n",
    "\n",
    "sys.path.append(str(dir_github))\n",
    "\n",
    "%load_ext autoreload\n",
    "%autoreload 2\n",
    "from ROICaT.tracking import data_importing, visualization, alignment, blurring, helpers, ROInet, scatteringWaveletTransformer, similarity_graph, cluster_assignment"
   ]
  },
  {
   "cell_type": "code",
   "execution_count": null,
   "id": "0bb0e8a3",
   "metadata": {},
   "outputs": [],
   "source": [
    "# simulated data"
   ]
  },
  {
   "cell_type": "code",
   "execution_count": null,
   "id": "65cc837b",
   "metadata": {},
   "outputs": [],
   "source": [
    "dir_sf = \"/n/data1/hms/neurobio/sabatini/gyu/github_clone/ROICaT_paper/data_Valerio_email4_SFandFOV/data.rbp10.plane0.npz\"\n",
    "file = np.load(dir_sf, allow_pickle=True)\n",
    "ROIs = file['spatialFootprints'][:3]"
   ]
  },
  {
   "cell_type": "code",
   "execution_count": null,
   "id": "3281cf60",
   "metadata": {},
   "outputs": [],
   "source": []
  },
  {
   "cell_type": "code",
   "execution_count": null,
   "id": "bf488d29",
   "metadata": {},
   "outputs": [],
   "source": []
  },
  {
   "cell_type": "code",
   "execution_count": null,
   "id": "07bdca04",
   "metadata": {},
   "outputs": [],
   "source": []
  },
  {
   "cell_type": "code",
   "execution_count": null,
   "id": "addc82eb",
   "metadata": {},
   "outputs": [],
   "source": []
  },
  {
   "cell_type": "code",
   "execution_count": null,
   "id": "611790bb",
   "metadata": {},
   "outputs": [],
   "source": []
  },
  {
   "cell_type": "code",
   "execution_count": null,
   "id": "5e02bef8",
   "metadata": {},
   "outputs": [],
   "source": []
  },
  {
   "cell_type": "code",
   "execution_count": 4,
   "id": "daae0a0c",
   "metadata": {},
   "outputs": [],
   "source": [
    "dir_sf = \"/n/data1/hms/neurobio/sabatini/gyu/github_clone/ROICaT_paper/data_Valerio_email4_SFandFOV/data.rbp10.plane0.npz\"\n",
    "file = np.load(dir_sf, allow_pickle=True)\n",
    "ROIs = file['spatialFootprints'][:3]\n",
    "FOVs = file['FOVs'][:3]\n",
    "templateFOV = FOVs[0]"
   ]
  },
  {
   "cell_type": "code",
   "execution_count": 5,
   "id": "2c8def44",
   "metadata": {},
   "outputs": [],
   "source": [
    "dims = templateFOV.shape\n",
    "x_grid, y_grid = np.meshgrid(np.arange(0., dims[1]).astype(np.float32), np.arange(0., dims[0]).astype(np.float32))"
   ]
  },
  {
   "cell_type": "code",
   "execution_count": 6,
   "id": "fa21b201",
   "metadata": {},
   "outputs": [],
   "source": [
    "template_norm = np.uint8(templateFOV * (templateFOV > 0) * (1/templateFOV.max()) * 255)\n",
    "FOVs_norm    = [np.uint8(FOVs[ii] * (FOVs[ii] > 0) * (1/FOVs[ii].max()) * 255) for ii in range(len(FOVs))]"
   ]
  },
  {
   "cell_type": "code",
   "execution_count": 7,
   "id": "3765fc9c",
   "metadata": {},
   "outputs": [],
   "source": [
    "def safe_ROI_remap(img_ROI, x_remap, y_remap):\n",
    "    img_ROI_remap = cv2.remap(\n",
    "        img_ROI.astype(np.float32),\n",
    "        x_remap,\n",
    "        y_remap, \n",
    "        cv2.INTER_LINEAR\n",
    "    )\n",
    "    if img_ROI_remap.sum() == 0:\n",
    "        img_ROI_remap = img_ROI\n",
    "    return img_ROI_remap"
   ]
  },
  {
   "cell_type": "code",
   "execution_count": 8,
   "id": "331f2b73",
   "metadata": {},
   "outputs": [],
   "source": [
    "ROIs_aligned, FOVs_aligned, flows = [], [], []"
   ]
  },
  {
   "cell_type": "code",
   "execution_count": 9,
   "id": "d2b74f60",
   "metadata": {},
   "outputs": [
    {
     "name": "stderr",
     "output_type": "stream",
     "text": [
      "100%|██████████| 3/3 [01:11<00:00, 23.93s/it]\n"
     ]
    }
   ],
   "source": [
    "for ii in tqdm(range(len(FOVs)), mininterval=60):\n",
    "            if method == 'createOptFlow_DeepFlow':\n",
    "                flow = cv2.optflow.createOptFlow_DeepFlow().calc(\n",
    "                    template_norm,\n",
    "                    FOVs_norm[ii],\n",
    "                    None\n",
    "                )\n",
    "                \n",
    "            x_remap = (flow[:, :, 0] + x_grid).astype(np.float32)\n",
    "            y_remap = (flow[:, :, 1] + y_grid).astype(np.float32)\n",
    "\n",
    "            rois_toUse = ROIs[ii].toarray().astype(np.float32).reshape(ROIs[ii].shape[0], FOVs[ii].shape[0], FOVs[ii].shape[1]) if type(ROIs[ii]) is scipy.sparse.csr_matrix else ROIs[ii].astype(np.float32)\n",
    "\n",
    "            ROI_aligned = np.stack([safe_ROI_remap(img, x_remap, y_remap) for img in rois_toUse], axis=0)\n",
    "    #         ROI_aligned = np.stack([img.astype(np.float32) for img in ROIs[ii]], axis=0)\n",
    "            FOV_aligned = cv2.remap(FOVs_norm[ii], x_remap, y_remap, cv2.INTER_NEAREST)\n",
    "\n",
    "            if normalize:\n",
    "                ROI_aligned = ROI_aligned / np.sum(ROI_aligned, axis=(1,2), keepdims=True)\n",
    "            \n",
    "            if return_sparse:\n",
    "                ROIs_aligned.append(scipy.sparse.csr_matrix(ROI_aligned.reshape(ROI_aligned.shape[0], -1)))\n",
    "                FOVs_aligned.append(FOV_aligned)\n",
    "                flows.append(flow)\n",
    "            else:\n",
    "                ROIs_aligned.append(ROI_aligned)\n",
    "                FOVs_aligned.append(FOV_aligned)\n",
    "                flows.append(flow)\n",
    "\n",
    "            ## remove NaNs from ROIs\n",
    "            for ii in range(len(ROIs_aligned)):\n",
    "                ROIs_aligned[ii].data[np.isnan(ROIs_aligned[ii].data)] = 0"
   ]
  },
  {
   "cell_type": "code",
   "execution_count": null,
   "id": "00b1c2ef",
   "metadata": {},
   "outputs": [],
   "source": [
    "len(ROI_aligned)"
   ]
  },
  {
   "cell_type": "code",
   "execution_count": null,
   "id": "a8f2badd",
   "metadata": {
    "scrolled": true
   },
   "outputs": [],
   "source": [
    "ROI_aligned[0].shape"
   ]
  },
  {
   "cell_type": "code",
   "execution_count": 11,
   "id": "8b775cff",
   "metadata": {},
   "outputs": [],
   "source": [
    "test_images = [testsf.toarray().sum(0).reshape([512, 705]) for testsf in ROI_aligned]"
   ]
  },
  {
   "cell_type": "code",
   "execution_count": 12,
   "id": "87c21d1b",
   "metadata": {
    "scrolled": true
   },
   "outputs": [
    {
     "data": {
      "image/png": "[encoded data removed]",
      "text/plain": [
       "<Figure size 640x480 with 1 Axes>"
      ]
     },
     "metadata": {},
     "output_type": "display_data"
    },
    {
     "data": {
      "application/vnd.jupyter.widget-view+json": {
       "model_id": "ecd9635f9800435f95bea99bb6de0328",
       "version_major": 2,
       "version_minor": 0
      },
      "text/plain": [
       "interactive(children=(IntSlider(value=0, description='i_frame', max=2), Output()), _dom_classes=('widget-inter…"
      ]
     },
     "metadata": {},
     "output_type": "display_data"
    }
   ],
   "source": [
    "fig = plt.figure()\n",
    "ax = fig.add_subplot()\n",
    "imshow_FOV = ax.imshow(test_images[0])\n",
    "\n",
    "def update(i_frame = 0):\n",
    "    fig.canvas.draw_idle()\n",
    "    imshow_FOV.set_data(test_images[i_frame])\n",
    "\n",
    "interact(update, i_frame=widgets.IntSlider(min=0, max=len(test_images)-1, step=1, value=0));"
   ]
  },
  {
   "cell_type": "code",
   "execution_count": 13,
   "id": "dc421691",
   "metadata": {
    "scrolled": true
   },
   "outputs": [
    {
     "data": {
      "text/plain": [
       "<matplotlib.image.AxesImage at 0x7f89daf888e0>"
      ]
     },
     "execution_count": 13,
     "metadata": {},
     "output_type": "execute_result"
    },
    {
     "data": {
      "image/png": "[encoded data removed]",
      "text/plain": [
       "<Figure size 640x480 with 1 Axes>"
      ]
     },
     "metadata": {},
     "output_type": "display_data"
    }
   ],
   "source": [
    "plt.imshow(test_images[2])"
   ]
  },
  {
   "cell_type": "code",
   "execution_count": 14,
   "id": "83366a2d",
   "metadata": {},
   "outputs": [
    {
     "data": {
      "text/plain": [
       "<matplotlib.image.AxesImage at 0x7f89daef44f0>"
      ]
     },
     "execution_count": 14,
     "metadata": {},
     "output_type": "execute_result"
    },
    {
     "data": {
      "image/png": "[encoded data removed]",
      "text/plain": [
       "<Figure size 640x480 with 1 Axes>"
      ]
     },
     "metadata": {},
     "output_type": "display_data"
    }
   ],
   "source": [
    "plt.imshow(test_images[1])"
   ]
  },
  {
   "cell_type": "markdown",
   "id": "139fb849",
   "metadata": {},
   "source": [
    "# Blurring"
   ]
  },
  {
   "cell_type": "code",
   "execution_count": null,
   "id": "e59001e4",
   "metadata": {},
   "outputs": [],
   "source": [
    "# frame_shape=(dims[0], dims[1])\n",
    "# kernel_halfWidth=1.4\n",
    "# device='cuda:0'\n",
    "# plot_kernel=False"
   ]
  },
  {
   "cell_type": "code",
   "execution_count": null,
   "id": "33132758",
   "metadata": {},
   "outputs": [],
   "source": [
    "# width = kernel_halfWidth * 2\n",
    "# kernel_size = int((width//2)*2) + 3"
   ]
  },
  {
   "cell_type": "code",
   "execution_count": null,
   "id": "1154247d",
   "metadata": {},
   "outputs": [],
   "source": [
    "# def cosine_kernel_2D(center=(5,5), image_size=(11,11), width=5):\n",
    "#     \"\"\"\n",
    "#     Generate a 2D cosine kernel\n",
    "#     RH 2021\n",
    "    \n",
    "#     Args:\n",
    "#         center (tuple):  \n",
    "#             The mean position (X, Y) - where high value expected. 0-indexed. Make second value 0 to make 1D\n",
    "#         image_size (tuple): \n",
    "#             The total image size (width, height). Make second value 0 to make 1D\n",
    "#         width (scalar): \n",
    "#             The full width of one cycle of the cosine\n",
    "    \n",
    "#     Return:\n",
    "#         k_cos (np.ndarray): \n",
    "#             2D or 1D array of the cosine kernel\n",
    "#     \"\"\"\n",
    "#     x, y = np.meshgrid(range(image_size[1]), range(image_size[0]))  # note dim 1:X and dim 2:Y\n",
    "#     dist = np.sqrt((y - int(center[1])) ** 2 + (x - int(center[0])) ** 2)\n",
    "#     dist_scaled = (dist/(width/2))*np.pi\n",
    "#     dist_scaled[np.abs(dist_scaled > np.pi)] = np.pi\n",
    "#     k_cos = (np.cos(dist_scaled) + 1)/2\n",
    "#     return k_cos"
   ]
  },
  {
   "cell_type": "code",
   "execution_count": null,
   "id": "e670393b",
   "metadata": {},
   "outputs": [],
   "source": [
    "# kernel_tmp = cosine_kernel_2D(\n",
    "#         center=(kernel_size//2, kernel_size//2), \n",
    "#         image_size=(kernel_size, kernel_size),\n",
    "#         width=width\n",
    "#     )"
   ]
  },
  {
   "cell_type": "code",
   "execution_count": null,
   "id": "4f912bed",
   "metadata": {},
   "outputs": [],
   "source": [
    "# plt.imshow(kernel_tmp)"
   ]
  },
  {
   "cell_type": "code",
   "execution_count": null,
   "id": "6a1e3028",
   "metadata": {},
   "outputs": [],
   "source": [
    "# kernel = kernel_tmp / kernel_tmp.sum()"
   ]
  },
  {
   "cell_type": "code",
   "execution_count": null,
   "id": "84071c2f",
   "metadata": {
    "scrolled": true
   },
   "outputs": [],
   "source": [
    "# plt.imshow(kernel)"
   ]
  },
  {
   "cell_type": "code",
   "execution_count": null,
   "id": "24045afa",
   "metadata": {},
   "outputs": [],
   "source": [
    "# kernel_prep = torch.as_tensor(\n",
    "#             kernel[:,:,None,None], \n",
    "#             dtype=torch.float32,\n",
    "#             device=device\n",
    "#         ).contiguous()"
   ]
  },
  {
   "cell_type": "code",
   "execution_count": null,
   "id": "37abf4a7",
   "metadata": {},
   "outputs": [],
   "source": [
    "# conv = spconv.SparseConv2d(\n",
    "#             in_channels=1, \n",
    "#             out_channels=1,\n",
    "#             kernel_size=kernel.shape, \n",
    "#             stride=1, \n",
    "#             padding=kernel.shape[0]//2, \n",
    "#             dilation=1, \n",
    "#             groups=1, \n",
    "#             bias=False\n",
    "#         )"
   ]
  },
  {
   "cell_type": "code",
   "execution_count": null,
   "id": "c6b88039",
   "metadata": {},
   "outputs": [],
   "source": [
    "# conv.weight = torch.nn.Parameter(data=kernel_prep, requires_grad=False)"
   ]
  },
  {
   "cell_type": "code",
   "execution_count": null,
   "id": "5b59d4a6",
   "metadata": {},
   "outputs": [],
   "source": [
    "# spatialFootprints = ROIs_aligned\n",
    "# batch_size=2000\n",
    "# num_batches=100"
   ]
  },
  {
   "cell_type": "code",
   "execution_count": null,
   "id": "b70c3d4c",
   "metadata": {},
   "outputs": [],
   "source": [
    "# sf_coo = [sparse.as_coo(sf).reshape((sf.shape[0], frame_shape[0], frame_shape[1])) for sf in spatialFootprints]"
   ]
  },
  {
   "cell_type": "code",
   "execution_count": null,
   "id": "e9782a08",
   "metadata": {},
   "outputs": [],
   "source": [
    "# def _sparse_conv2D(sf_sparseCOO):\n",
    "#         \"\"\"\n",
    "#         Method to perform a 2D convolution on a sparse matrix.\n",
    "\n",
    "#         Args:\n",
    "#             sf_sparseCOO (sparse.COO):\n",
    "#                 The sparse matrix to convolve.\n",
    "#                 shape: (num_ROIs, frame_shape[0], frame_shape[1])\n",
    "#         \"\"\"\n",
    "#         images_spconv = pydata_sparse_to_spconv(\n",
    "#             sf_sparseCOO,\n",
    "#             device=device\n",
    "#         )\n",
    "\n",
    "#         images_conv = conv(images_spconv)\n",
    "#         return sparse_convert_spconv_to_scipy(images_conv)"
   ]
  },
  {
   "cell_type": "code",
   "execution_count": null,
   "id": "0a5f2f81",
   "metadata": {},
   "outputs": [],
   "source": [
    "# def make_batches(iterable, batch_size=None, num_batches=None, min_batch_size=0, return_idx=False, length=None):\n",
    "#     \"\"\"\n",
    "#     Make batches of data or any other iterable.\n",
    "#     RH 2021\n",
    "\n",
    "#     Args:\n",
    "#         iterable (iterable):\n",
    "#             iterable to be batched\n",
    "#         batch_size (int):\n",
    "#             size of each batch\n",
    "#             if None, then batch_size based on num_batches\n",
    "#         num_batches (int):\n",
    "#             number of batches to make\n",
    "#         min_batch_size (int):\n",
    "#             minimum size of each batch\n",
    "#         return_idx (bool):\n",
    "#             whether to return the indices of the batches.\n",
    "#             output will be [start, end] idx\n",
    "#         length (int):\n",
    "#             length of the iterable.\n",
    "#             if None, then length is len(iterable)\n",
    "#             This is useful if you want to make batches of \n",
    "#              something that doesn't have a __len__ method.\n",
    "    \n",
    "#     Returns:\n",
    "#         output (iterable):\n",
    "#             batches of iterable\n",
    "#     \"\"\"\n",
    "\n",
    "#     if length is None:\n",
    "#         l = len(iterable)\n",
    "#     else:\n",
    "#         l = length\n",
    "    \n",
    "#     if batch_size is None:\n",
    "#         batch_size = np.int64(np.ceil(l / num_batches))\n",
    "    \n",
    "#     for start in range(0, l, batch_size):\n",
    "#         end = min(start + batch_size, l)\n",
    "#         if (end-start) < min_batch_size:\n",
    "#             break\n",
    "#         else:\n",
    "#             if return_idx:\n",
    "#                 yield iterable[start:end], [start, end]\n",
    "#             else:\n",
    "#                 yield iterable[start:end]"
   ]
  },
  {
   "cell_type": "code",
   "execution_count": null,
   "id": "623ae2f2",
   "metadata": {},
   "outputs": [],
   "source": [
    "# def pydata_sparse_to_spconv(sp_array, device='cpu'):\n",
    "#     coo = sparse.COO(sp_array)\n",
    "#     idx_raw = torch.as_tensor(coo.coords.T, dtype=torch.int32, device=device).contiguous()\n",
    "#     spconv_array = spconv.SparseConvTensor(\n",
    "#         features=torch.as_tensor(coo.reshape((-1)).T.data, dtype=torch.float32, device=device)[:,None].contiguous(),\n",
    "#         indices=idx_raw,\n",
    "#         spatial_shape=coo.shape[1:], \n",
    "#         batch_size=coo.shape[0]\n",
    "#     )\n",
    "#     return spconv_array"
   ]
  },
  {
   "cell_type": "code",
   "execution_count": null,
   "id": "4f6537a5",
   "metadata": {},
   "outputs": [],
   "source": [
    "# def sparse_convert_spconv_to_scipy(sp_arr):\n",
    "#     coo = sparse.COO(\n",
    "#         coords=sp_arr.indices.T.to('cpu'),\n",
    "#         data=sp_arr.features.squeeze().to('cpu'),\n",
    "#         shape=[sp_arr.batch_size] + sp_arr.spatial_shape\n",
    "#     )\n",
    "#     return coo.reshape((coo.shape[0], -1)).to_scipy_sparse().tocsr()"
   ]
  },
  {
   "cell_type": "code",
   "execution_count": null,
   "id": "75e973c9",
   "metadata": {
    "scrolled": true
   },
   "outputs": [],
   "source": [
    "# ROIs_blurred = [scipy.sparse.vstack([_sparse_conv2D(\n",
    "#             sf_sparseCOO=batch, \n",
    "#         ) for batch in make_batches(sf, batch_size=batch_size, num_batches=num_batches)]) for sf in sf_coo]"
   ]
  },
  {
   "cell_type": "markdown",
   "id": "fbe87adc",
   "metadata": {},
   "source": [
    "Sth is wrong on my side?"
   ]
  },
  {
   "cell_type": "code",
   "execution_count": null,
   "id": "a58ae4ea",
   "metadata": {},
   "outputs": [],
   "source": []
  },
  {
   "cell_type": "markdown",
   "id": "137ae9cf",
   "metadata": {},
   "source": [
    "# Neural network embedding distances"
   ]
  },
  {
   "cell_type": "code",
   "execution_count": 10,
   "id": "56f73aa9",
   "metadata": {},
   "outputs": [],
   "source": [
    "hash_dict_true = {\n",
    "    'params': ('params.json', '877e17df8fa511a03bc99cd507a54403'),\n",
    "    'model': ('model.py', '6ef5c29793ae16a64e43e8cab33d9ff4'),\n",
    "    'state_dict': ('ConvNext_tiny__1_0_unfrozen__simCLR.pth', 'a5fae4c9ea95f2c78b4690222b2928a5'),\n",
    "}"
   ]
  },
  {
   "cell_type": "code",
   "execution_count": 11,
   "id": "c3521020",
   "metadata": {},
   "outputs": [
    {
     "data": {
      "text/plain": [
       "'/n/data1/hms/neurobio/sabatini/gyu/github_clone/ROICaT/notebooks'"
      ]
     },
     "execution_count": 11,
     "metadata": {},
     "output_type": "execute_result"
    }
   ],
   "source": [
    "pwd"
   ]
  },
  {
   "cell_type": "code",
   "execution_count": 12,
   "id": "005bb7d1",
   "metadata": {},
   "outputs": [],
   "source": [
    "# dir_networkFiles='/n/data1/hms/neurobio/sabatini/gyu/github_clone/ROICaT/notebooks'\n",
    "# gDriveID='1FCcPZUuOR7xG-hdO6Ei6mx8YnKysVsa8'"
   ]
  },
  {
   "cell_type": "code",
   "execution_count": 13,
   "id": "77ea17f0",
   "metadata": {},
   "outputs": [],
   "source": [
    "# sys.path.append(dir_networkFiles)\n",
    "import model"
   ]
  },
  {
   "cell_type": "code",
   "execution_count": 14,
   "id": "f3edf191",
   "metadata": {
    "scrolled": true
   },
   "outputs": [
    {
     "name": "stderr",
     "output_type": "stream",
     "text": [
      "/home/gyh930/.conda/envs/ROICaT/lib/python3.9/site-packages/torchvision/models/_utils.py:208: UserWarning: The parameter 'pretrained' is deprecated since 0.13 and will be removed in 0.15, please use 'weights' instead.\n",
      "  warnings.warn(\n",
      "/home/gyh930/.conda/envs/ROICaT/lib/python3.9/site-packages/torchvision/models/_utils.py:223: UserWarning: Arguments other than a weight enum or `None` for 'weights' are deprecated since 0.13 and will be removed in 0.15. The current behavior is equivalent to passing `weights=ConvNeXt_Tiny_Weights.IMAGENET1K_V1`. You can also use `weights=ConvNeXt_Tiny_Weights.DEFAULT` to get the most up-to-date weights.\n",
      "  warnings.warn(msg)\n"
     ]
    }
   ],
   "source": [
    "import json\n",
    "with open('/n/data1/hms/neurobio/sabatini/gyu/github_clone/ROICaT/notebooks/params.json') as f:\n",
    "            params_model = json.load(f)\n",
    "            net = model.make_model(params_model)"
   ]
  },
  {
   "cell_type": "code",
   "execution_count": 15,
   "id": "643b1445",
   "metadata": {},
   "outputs": [
    {
     "data": {
      "text/plain": [
       "ModelTackOn(\n",
       "  (base_model): Sequential(\n",
       "    (0): Sequential(\n",
       "      (0): Sequential(\n",
       "        (0): Conv2dNormActivation(\n",
       "          (0): Conv2d(3, 96, kernel_size=(4, 4), stride=(4, 4))\n",
       "          (1): LayerNorm2d((96,), eps=1e-06, elementwise_affine=True)\n",
       "        )\n",
       "        (1): Sequential(\n",
       "          (0): CNBlock(\n",
       "            (block): Sequential(\n",
       "              (0): Conv2d(96, 96, kernel_size=(7, 7), stride=(1, 1), padding=(3, 3), groups=96)\n",
       "              (1): Permute()\n",
       "              (2): LayerNorm((96,), eps=1e-06, elementwise_affine=True)\n",
       "              (3): Linear(in_features=96, out_features=384, bias=True)\n",
       "              (4): GELU(approximate=none)\n",
       "              (5): Linear(in_features=384, out_features=96, bias=True)\n",
       "              (6): Permute()\n",
       "            )\n",
       "            (stochastic_depth): StochasticDepth(p=0.0, mode=row)\n",
       "          )\n",
       "          (1): CNBlock(\n",
       "            (block): Sequential(\n",
       "              (0): Conv2d(96, 96, kernel_size=(7, 7), stride=(1, 1), padding=(3, 3), groups=96)\n",
       "              (1): Permute()\n",
       "              (2): LayerNorm((96,), eps=1e-06, elementwise_affine=True)\n",
       "              (3): Linear(in_features=96, out_features=384, bias=True)\n",
       "              (4): GELU(approximate=none)\n",
       "              (5): Linear(in_features=384, out_features=96, bias=True)\n",
       "              (6): Permute()\n",
       "            )\n",
       "            (stochastic_depth): StochasticDepth(p=0.0058823529411764705, mode=row)\n",
       "          )\n",
       "          (2): CNBlock(\n",
       "            (block): Sequential(\n",
       "              (0): Conv2d(96, 96, kernel_size=(7, 7), stride=(1, 1), padding=(3, 3), groups=96)\n",
       "              (1): Permute()\n",
       "              (2): LayerNorm((96,), eps=1e-06, elementwise_affine=True)\n",
       "              (3): Linear(in_features=96, out_features=384, bias=True)\n",
       "              (4): GELU(approximate=none)\n",
       "              (5): Linear(in_features=384, out_features=96, bias=True)\n",
       "              (6): Permute()\n",
       "            )\n",
       "            (stochastic_depth): StochasticDepth(p=0.011764705882352941, mode=row)\n",
       "          )\n",
       "        )\n",
       "        (2): Sequential(\n",
       "          (0): LayerNorm2d((96,), eps=1e-06, elementwise_affine=True)\n",
       "          (1): Conv2d(96, 192, kernel_size=(2, 2), stride=(2, 2))\n",
       "        )\n",
       "        (3): Sequential(\n",
       "          (0): CNBlock(\n",
       "            (block): Sequential(\n",
       "              (0): Conv2d(192, 192, kernel_size=(7, 7), stride=(1, 1), padding=(3, 3), groups=192)\n",
       "              (1): Permute()\n",
       "              (2): LayerNorm((192,), eps=1e-06, elementwise_affine=True)\n",
       "              (3): Linear(in_features=192, out_features=768, bias=True)\n",
       "              (4): GELU(approximate=none)\n",
       "              (5): Linear(in_features=768, out_features=192, bias=True)\n",
       "              (6): Permute()\n",
       "            )\n",
       "            (stochastic_depth): StochasticDepth(p=0.017647058823529415, mode=row)\n",
       "          )\n",
       "          (1): CNBlock(\n",
       "            (block): Sequential(\n",
       "              (0): Conv2d(192, 192, kernel_size=(7, 7), stride=(1, 1), padding=(3, 3), groups=192)\n",
       "              (1): Permute()\n",
       "              (2): LayerNorm((192,), eps=1e-06, elementwise_affine=True)\n",
       "              (3): Linear(in_features=192, out_features=768, bias=True)\n",
       "              (4): GELU(approximate=none)\n",
       "              (5): Linear(in_features=768, out_features=192, bias=True)\n",
       "              (6): Permute()\n",
       "            )\n",
       "            (stochastic_depth): StochasticDepth(p=0.023529411764705882, mode=row)\n",
       "          )\n",
       "          (2): CNBlock(\n",
       "            (block): Sequential(\n",
       "              (0): Conv2d(192, 192, kernel_size=(7, 7), stride=(1, 1), padding=(3, 3), groups=192)\n",
       "              (1): Permute()\n",
       "              (2): LayerNorm((192,), eps=1e-06, elementwise_affine=True)\n",
       "              (3): Linear(in_features=192, out_features=768, bias=True)\n",
       "              (4): GELU(approximate=none)\n",
       "              (5): Linear(in_features=768, out_features=192, bias=True)\n",
       "              (6): Permute()\n",
       "            )\n",
       "            (stochastic_depth): StochasticDepth(p=0.029411764705882353, mode=row)\n",
       "          )\n",
       "        )\n",
       "        (4): Sequential(\n",
       "          (0): LayerNorm2d((192,), eps=1e-06, elementwise_affine=True)\n",
       "          (1): Conv2d(192, 384, kernel_size=(2, 2), stride=(2, 2))\n",
       "        )\n",
       "        (5): Sequential(\n",
       "          (0): CNBlock(\n",
       "            (block): Sequential(\n",
       "              (0): Conv2d(384, 384, kernel_size=(7, 7), stride=(1, 1), padding=(3, 3), groups=384)\n",
       "              (1): Permute()\n",
       "              (2): LayerNorm((384,), eps=1e-06, elementwise_affine=True)\n",
       "              (3): Linear(in_features=384, out_features=1536, bias=True)\n",
       "              (4): GELU(approximate=none)\n",
       "              (5): Linear(in_features=1536, out_features=384, bias=True)\n",
       "              (6): Permute()\n",
       "            )\n",
       "            (stochastic_depth): StochasticDepth(p=0.03529411764705883, mode=row)\n",
       "          )\n",
       "          (1): CNBlock(\n",
       "            (block): Sequential(\n",
       "              (0): Conv2d(384, 384, kernel_size=(7, 7), stride=(1, 1), padding=(3, 3), groups=384)\n",
       "              (1): Permute()\n",
       "              (2): LayerNorm((384,), eps=1e-06, elementwise_affine=True)\n",
       "              (3): Linear(in_features=384, out_features=1536, bias=True)\n",
       "              (4): GELU(approximate=none)\n",
       "              (5): Linear(in_features=1536, out_features=384, bias=True)\n",
       "              (6): Permute()\n",
       "            )\n",
       "            (stochastic_depth): StochasticDepth(p=0.0411764705882353, mode=row)\n",
       "          )\n",
       "          (2): CNBlock(\n",
       "            (block): Sequential(\n",
       "              (0): Conv2d(384, 384, kernel_size=(7, 7), stride=(1, 1), padding=(3, 3), groups=384)\n",
       "              (1): Permute()\n",
       "              (2): LayerNorm((384,), eps=1e-06, elementwise_affine=True)\n",
       "              (3): Linear(in_features=384, out_features=1536, bias=True)\n",
       "              (4): GELU(approximate=none)\n",
       "              (5): Linear(in_features=1536, out_features=384, bias=True)\n",
       "              (6): Permute()\n",
       "            )\n",
       "            (stochastic_depth): StochasticDepth(p=0.047058823529411764, mode=row)\n",
       "          )\n",
       "          (3): CNBlock(\n",
       "            (block): Sequential(\n",
       "              (0): Conv2d(384, 384, kernel_size=(7, 7), stride=(1, 1), padding=(3, 3), groups=384)\n",
       "              (1): Permute()\n",
       "              (2): LayerNorm((384,), eps=1e-06, elementwise_affine=True)\n",
       "              (3): Linear(in_features=384, out_features=1536, bias=True)\n",
       "              (4): GELU(approximate=none)\n",
       "              (5): Linear(in_features=1536, out_features=384, bias=True)\n",
       "              (6): Permute()\n",
       "            )\n",
       "            (stochastic_depth): StochasticDepth(p=0.052941176470588235, mode=row)\n",
       "          )\n",
       "          (4): CNBlock(\n",
       "            (block): Sequential(\n",
       "              (0): Conv2d(384, 384, kernel_size=(7, 7), stride=(1, 1), padding=(3, 3), groups=384)\n",
       "              (1): Permute()\n",
       "              (2): LayerNorm((384,), eps=1e-06, elementwise_affine=True)\n",
       "              (3): Linear(in_features=384, out_features=1536, bias=True)\n",
       "              (4): GELU(approximate=none)\n",
       "              (5): Linear(in_features=1536, out_features=384, bias=True)\n",
       "              (6): Permute()\n",
       "            )\n",
       "            (stochastic_depth): StochasticDepth(p=0.058823529411764705, mode=row)\n",
       "          )\n",
       "          (5): CNBlock(\n",
       "            (block): Sequential(\n",
       "              (0): Conv2d(384, 384, kernel_size=(7, 7), stride=(1, 1), padding=(3, 3), groups=384)\n",
       "              (1): Permute()\n",
       "              (2): LayerNorm((384,), eps=1e-06, elementwise_affine=True)\n",
       "              (3): Linear(in_features=384, out_features=1536, bias=True)\n",
       "              (4): GELU(approximate=none)\n",
       "              (5): Linear(in_features=1536, out_features=384, bias=True)\n",
       "              (6): Permute()\n",
       "            )\n",
       "            (stochastic_depth): StochasticDepth(p=0.06470588235294118, mode=row)\n",
       "          )\n",
       "          (6): CNBlock(\n",
       "            (block): Sequential(\n",
       "              (0): Conv2d(384, 384, kernel_size=(7, 7), stride=(1, 1), padding=(3, 3), groups=384)\n",
       "              (1): Permute()\n",
       "              (2): LayerNorm((384,), eps=1e-06, elementwise_affine=True)\n",
       "              (3): Linear(in_features=384, out_features=1536, bias=True)\n",
       "              (4): GELU(approximate=none)\n",
       "              (5): Linear(in_features=1536, out_features=384, bias=True)\n",
       "              (6): Permute()\n",
       "            )\n",
       "            (stochastic_depth): StochasticDepth(p=0.07058823529411766, mode=row)\n",
       "          )\n",
       "          (7): CNBlock(\n",
       "            (block): Sequential(\n",
       "              (0): Conv2d(384, 384, kernel_size=(7, 7), stride=(1, 1), padding=(3, 3), groups=384)\n",
       "              (1): Permute()\n",
       "              (2): LayerNorm((384,), eps=1e-06, elementwise_affine=True)\n",
       "              (3): Linear(in_features=384, out_features=1536, bias=True)\n",
       "              (4): GELU(approximate=none)\n",
       "              (5): Linear(in_features=1536, out_features=384, bias=True)\n",
       "              (6): Permute()\n",
       "            )\n",
       "            (stochastic_depth): StochasticDepth(p=0.07647058823529412, mode=row)\n",
       "          )\n",
       "          (8): CNBlock(\n",
       "            (block): Sequential(\n",
       "              (0): Conv2d(384, 384, kernel_size=(7, 7), stride=(1, 1), padding=(3, 3), groups=384)\n",
       "              (1): Permute()\n",
       "              (2): LayerNorm((384,), eps=1e-06, elementwise_affine=True)\n",
       "              (3): Linear(in_features=384, out_features=1536, bias=True)\n",
       "              (4): GELU(approximate=none)\n",
       "              (5): Linear(in_features=1536, out_features=384, bias=True)\n",
       "              (6): Permute()\n",
       "            )\n",
       "            (stochastic_depth): StochasticDepth(p=0.0823529411764706, mode=row)\n",
       "          )\n",
       "        )\n",
       "        (6): Sequential(\n",
       "          (0): LayerNorm2d((384,), eps=1e-06, elementwise_affine=True)\n",
       "          (1): Conv2d(384, 768, kernel_size=(2, 2), stride=(2, 2))\n",
       "        )\n",
       "      )\n",
       "    )\n",
       "    (1): AdaptiveAvgPool2d(output_size=1)\n",
       "    (2): Flatten(start_dim=1, end_dim=-1)\n",
       "  )\n",
       "  (PreHead_0): Linear(in_features=768, out_features=256, bias=True)\n",
       "  (PreHead_0_NonLinearity): GELU(approximate=none)\n",
       "  (PostHead_0): Linear(in_features=256, out_features=128, bias=True)\n",
       "  (PostHead_0_NonLinearity): GELU(approximate=none)\n",
       ")"
      ]
     },
     "execution_count": 15,
     "metadata": {},
     "output_type": "execute_result"
    }
   ],
   "source": [
    "for param in net.parameters():\n",
    "    param.requires_grad = False\n",
    "net.eval()"
   ]
  },
  {
   "cell_type": "code",
   "execution_count": 16,
   "id": "0a4052b1",
   "metadata": {},
   "outputs": [],
   "source": [
    "torchvision_model = params_model['torchvision_model']\n",
    "n_block_toInclude = params_model['n_block_toInclude']\n",
    "pre_head_fc_sizes = params_model['pre_head_fc_sizes']\n",
    "post_head_fc_sizes = params_model['post_head_fc_sizes']\n",
    "head_nonlinearity = params_model['head_nonlinearity']\n",
    "image_shape = [3,224,224]"
   ]
  },
  {
   "cell_type": "code",
   "execution_count": 17,
   "id": "049e0b0a",
   "metadata": {},
   "outputs": [
    {
     "name": "stdout",
     "output_type": "stream",
     "text": [
      "convnext_tiny\n",
      "7\n",
      "[256]\n",
      "[128]\n",
      "GELU\n"
     ]
    }
   ],
   "source": [
    "print(torchvision_model)\n",
    "print(n_block_toInclude)\n",
    "print(pre_head_fc_sizes)\n",
    "print(post_head_fc_sizes)\n",
    "print(head_nonlinearity)"
   ]
  },
  {
   "cell_type": "code",
   "execution_count": 18,
   "id": "7f7d6742",
   "metadata": {},
   "outputs": [],
   "source": [
    "base_model_frozen = torchvision.models.__dict__[torchvision_model](pretrained=True)"
   ]
  },
  {
   "cell_type": "code",
   "execution_count": 19,
   "id": "a6691989",
   "metadata": {},
   "outputs": [
    {
     "data": {
      "text/plain": [
       "ConvNeXt(\n",
       "  (features): Sequential(\n",
       "    (0): Conv2dNormActivation(\n",
       "      (0): Conv2d(3, 96, kernel_size=(4, 4), stride=(4, 4))\n",
       "      (1): LayerNorm2d((96,), eps=1e-06, elementwise_affine=True)\n",
       "    )\n",
       "    (1): Sequential(\n",
       "      (0): CNBlock(\n",
       "        (block): Sequential(\n",
       "          (0): Conv2d(96, 96, kernel_size=(7, 7), stride=(1, 1), padding=(3, 3), groups=96)\n",
       "          (1): Permute()\n",
       "          (2): LayerNorm((96,), eps=1e-06, elementwise_affine=True)\n",
       "          (3): Linear(in_features=96, out_features=384, bias=True)\n",
       "          (4): GELU(approximate=none)\n",
       "          (5): Linear(in_features=384, out_features=96, bias=True)\n",
       "          (6): Permute()\n",
       "        )\n",
       "        (stochastic_depth): StochasticDepth(p=0.0, mode=row)\n",
       "      )\n",
       "      (1): CNBlock(\n",
       "        (block): Sequential(\n",
       "          (0): Conv2d(96, 96, kernel_size=(7, 7), stride=(1, 1), padding=(3, 3), groups=96)\n",
       "          (1): Permute()\n",
       "          (2): LayerNorm((96,), eps=1e-06, elementwise_affine=True)\n",
       "          (3): Linear(in_features=96, out_features=384, bias=True)\n",
       "          (4): GELU(approximate=none)\n",
       "          (5): Linear(in_features=384, out_features=96, bias=True)\n",
       "          (6): Permute()\n",
       "        )\n",
       "        (stochastic_depth): StochasticDepth(p=0.0058823529411764705, mode=row)\n",
       "      )\n",
       "      (2): CNBlock(\n",
       "        (block): Sequential(\n",
       "          (0): Conv2d(96, 96, kernel_size=(7, 7), stride=(1, 1), padding=(3, 3), groups=96)\n",
       "          (1): Permute()\n",
       "          (2): LayerNorm((96,), eps=1e-06, elementwise_affine=True)\n",
       "          (3): Linear(in_features=96, out_features=384, bias=True)\n",
       "          (4): GELU(approximate=none)\n",
       "          (5): Linear(in_features=384, out_features=96, bias=True)\n",
       "          (6): Permute()\n",
       "        )\n",
       "        (stochastic_depth): StochasticDepth(p=0.011764705882352941, mode=row)\n",
       "      )\n",
       "    )\n",
       "    (2): Sequential(\n",
       "      (0): LayerNorm2d((96,), eps=1e-06, elementwise_affine=True)\n",
       "      (1): Conv2d(96, 192, kernel_size=(2, 2), stride=(2, 2))\n",
       "    )\n",
       "    (3): Sequential(\n",
       "      (0): CNBlock(\n",
       "        (block): Sequential(\n",
       "          (0): Conv2d(192, 192, kernel_size=(7, 7), stride=(1, 1), padding=(3, 3), groups=192)\n",
       "          (1): Permute()\n",
       "          (2): LayerNorm((192,), eps=1e-06, elementwise_affine=True)\n",
       "          (3): Linear(in_features=192, out_features=768, bias=True)\n",
       "          (4): GELU(approximate=none)\n",
       "          (5): Linear(in_features=768, out_features=192, bias=True)\n",
       "          (6): Permute()\n",
       "        )\n",
       "        (stochastic_depth): StochasticDepth(p=0.017647058823529415, mode=row)\n",
       "      )\n",
       "      (1): CNBlock(\n",
       "        (block): Sequential(\n",
       "          (0): Conv2d(192, 192, kernel_size=(7, 7), stride=(1, 1), padding=(3, 3), groups=192)\n",
       "          (1): Permute()\n",
       "          (2): LayerNorm((192,), eps=1e-06, elementwise_affine=True)\n",
       "          (3): Linear(in_features=192, out_features=768, bias=True)\n",
       "          (4): GELU(approximate=none)\n",
       "          (5): Linear(in_features=768, out_features=192, bias=True)\n",
       "          (6): Permute()\n",
       "        )\n",
       "        (stochastic_depth): StochasticDepth(p=0.023529411764705882, mode=row)\n",
       "      )\n",
       "      (2): CNBlock(\n",
       "        (block): Sequential(\n",
       "          (0): Conv2d(192, 192, kernel_size=(7, 7), stride=(1, 1), padding=(3, 3), groups=192)\n",
       "          (1): Permute()\n",
       "          (2): LayerNorm((192,), eps=1e-06, elementwise_affine=True)\n",
       "          (3): Linear(in_features=192, out_features=768, bias=True)\n",
       "          (4): GELU(approximate=none)\n",
       "          (5): Linear(in_features=768, out_features=192, bias=True)\n",
       "          (6): Permute()\n",
       "        )\n",
       "        (stochastic_depth): StochasticDepth(p=0.029411764705882353, mode=row)\n",
       "      )\n",
       "    )\n",
       "    (4): Sequential(\n",
       "      (0): LayerNorm2d((192,), eps=1e-06, elementwise_affine=True)\n",
       "      (1): Conv2d(192, 384, kernel_size=(2, 2), stride=(2, 2))\n",
       "    )\n",
       "    (5): Sequential(\n",
       "      (0): CNBlock(\n",
       "        (block): Sequential(\n",
       "          (0): Conv2d(384, 384, kernel_size=(7, 7), stride=(1, 1), padding=(3, 3), groups=384)\n",
       "          (1): Permute()\n",
       "          (2): LayerNorm((384,), eps=1e-06, elementwise_affine=True)\n",
       "          (3): Linear(in_features=384, out_features=1536, bias=True)\n",
       "          (4): GELU(approximate=none)\n",
       "          (5): Linear(in_features=1536, out_features=384, bias=True)\n",
       "          (6): Permute()\n",
       "        )\n",
       "        (stochastic_depth): StochasticDepth(p=0.03529411764705883, mode=row)\n",
       "      )\n",
       "      (1): CNBlock(\n",
       "        (block): Sequential(\n",
       "          (0): Conv2d(384, 384, kernel_size=(7, 7), stride=(1, 1), padding=(3, 3), groups=384)\n",
       "          (1): Permute()\n",
       "          (2): LayerNorm((384,), eps=1e-06, elementwise_affine=True)\n",
       "          (3): Linear(in_features=384, out_features=1536, bias=True)\n",
       "          (4): GELU(approximate=none)\n",
       "          (5): Linear(in_features=1536, out_features=384, bias=True)\n",
       "          (6): Permute()\n",
       "        )\n",
       "        (stochastic_depth): StochasticDepth(p=0.0411764705882353, mode=row)\n",
       "      )\n",
       "      (2): CNBlock(\n",
       "        (block): Sequential(\n",
       "          (0): Conv2d(384, 384, kernel_size=(7, 7), stride=(1, 1), padding=(3, 3), groups=384)\n",
       "          (1): Permute()\n",
       "          (2): LayerNorm((384,), eps=1e-06, elementwise_affine=True)\n",
       "          (3): Linear(in_features=384, out_features=1536, bias=True)\n",
       "          (4): GELU(approximate=none)\n",
       "          (5): Linear(in_features=1536, out_features=384, bias=True)\n",
       "          (6): Permute()\n",
       "        )\n",
       "        (stochastic_depth): StochasticDepth(p=0.047058823529411764, mode=row)\n",
       "      )\n",
       "      (3): CNBlock(\n",
       "        (block): Sequential(\n",
       "          (0): Conv2d(384, 384, kernel_size=(7, 7), stride=(1, 1), padding=(3, 3), groups=384)\n",
       "          (1): Permute()\n",
       "          (2): LayerNorm((384,), eps=1e-06, elementwise_affine=True)\n",
       "          (3): Linear(in_features=384, out_features=1536, bias=True)\n",
       "          (4): GELU(approximate=none)\n",
       "          (5): Linear(in_features=1536, out_features=384, bias=True)\n",
       "          (6): Permute()\n",
       "        )\n",
       "        (stochastic_depth): StochasticDepth(p=0.052941176470588235, mode=row)\n",
       "      )\n",
       "      (4): CNBlock(\n",
       "        (block): Sequential(\n",
       "          (0): Conv2d(384, 384, kernel_size=(7, 7), stride=(1, 1), padding=(3, 3), groups=384)\n",
       "          (1): Permute()\n",
       "          (2): LayerNorm((384,), eps=1e-06, elementwise_affine=True)\n",
       "          (3): Linear(in_features=384, out_features=1536, bias=True)\n",
       "          (4): GELU(approximate=none)\n",
       "          (5): Linear(in_features=1536, out_features=384, bias=True)\n",
       "          (6): Permute()\n",
       "        )\n",
       "        (stochastic_depth): StochasticDepth(p=0.058823529411764705, mode=row)\n",
       "      )\n",
       "      (5): CNBlock(\n",
       "        (block): Sequential(\n",
       "          (0): Conv2d(384, 384, kernel_size=(7, 7), stride=(1, 1), padding=(3, 3), groups=384)\n",
       "          (1): Permute()\n",
       "          (2): LayerNorm((384,), eps=1e-06, elementwise_affine=True)\n",
       "          (3): Linear(in_features=384, out_features=1536, bias=True)\n",
       "          (4): GELU(approximate=none)\n",
       "          (5): Linear(in_features=1536, out_features=384, bias=True)\n",
       "          (6): Permute()\n",
       "        )\n",
       "        (stochastic_depth): StochasticDepth(p=0.06470588235294118, mode=row)\n",
       "      )\n",
       "      (6): CNBlock(\n",
       "        (block): Sequential(\n",
       "          (0): Conv2d(384, 384, kernel_size=(7, 7), stride=(1, 1), padding=(3, 3), groups=384)\n",
       "          (1): Permute()\n",
       "          (2): LayerNorm((384,), eps=1e-06, elementwise_affine=True)\n",
       "          (3): Linear(in_features=384, out_features=1536, bias=True)\n",
       "          (4): GELU(approximate=none)\n",
       "          (5): Linear(in_features=1536, out_features=384, bias=True)\n",
       "          (6): Permute()\n",
       "        )\n",
       "        (stochastic_depth): StochasticDepth(p=0.07058823529411766, mode=row)\n",
       "      )\n",
       "      (7): CNBlock(\n",
       "        (block): Sequential(\n",
       "          (0): Conv2d(384, 384, kernel_size=(7, 7), stride=(1, 1), padding=(3, 3), groups=384)\n",
       "          (1): Permute()\n",
       "          (2): LayerNorm((384,), eps=1e-06, elementwise_affine=True)\n",
       "          (3): Linear(in_features=384, out_features=1536, bias=True)\n",
       "          (4): GELU(approximate=none)\n",
       "          (5): Linear(in_features=1536, out_features=384, bias=True)\n",
       "          (6): Permute()\n",
       "        )\n",
       "        (stochastic_depth): StochasticDepth(p=0.07647058823529412, mode=row)\n",
       "      )\n",
       "      (8): CNBlock(\n",
       "        (block): Sequential(\n",
       "          (0): Conv2d(384, 384, kernel_size=(7, 7), stride=(1, 1), padding=(3, 3), groups=384)\n",
       "          (1): Permute()\n",
       "          (2): LayerNorm((384,), eps=1e-06, elementwise_affine=True)\n",
       "          (3): Linear(in_features=384, out_features=1536, bias=True)\n",
       "          (4): GELU(approximate=none)\n",
       "          (5): Linear(in_features=1536, out_features=384, bias=True)\n",
       "          (6): Permute()\n",
       "        )\n",
       "        (stochastic_depth): StochasticDepth(p=0.0823529411764706, mode=row)\n",
       "      )\n",
       "    )\n",
       "    (6): Sequential(\n",
       "      (0): LayerNorm2d((384,), eps=1e-06, elementwise_affine=True)\n",
       "      (1): Conv2d(384, 768, kernel_size=(2, 2), stride=(2, 2))\n",
       "    )\n",
       "    (7): Sequential(\n",
       "      (0): CNBlock(\n",
       "        (block): Sequential(\n",
       "          (0): Conv2d(768, 768, kernel_size=(7, 7), stride=(1, 1), padding=(3, 3), groups=768)\n",
       "          (1): Permute()\n",
       "          (2): LayerNorm((768,), eps=1e-06, elementwise_affine=True)\n",
       "          (3): Linear(in_features=768, out_features=3072, bias=True)\n",
       "          (4): GELU(approximate=none)\n",
       "          (5): Linear(in_features=3072, out_features=768, bias=True)\n",
       "          (6): Permute()\n",
       "        )\n",
       "        (stochastic_depth): StochasticDepth(p=0.08823529411764706, mode=row)\n",
       "      )\n",
       "      (1): CNBlock(\n",
       "        (block): Sequential(\n",
       "          (0): Conv2d(768, 768, kernel_size=(7, 7), stride=(1, 1), padding=(3, 3), groups=768)\n",
       "          (1): Permute()\n",
       "          (2): LayerNorm((768,), eps=1e-06, elementwise_affine=True)\n",
       "          (3): Linear(in_features=768, out_features=3072, bias=True)\n",
       "          (4): GELU(approximate=none)\n",
       "          (5): Linear(in_features=3072, out_features=768, bias=True)\n",
       "          (6): Permute()\n",
       "        )\n",
       "        (stochastic_depth): StochasticDepth(p=0.09411764705882353, mode=row)\n",
       "      )\n",
       "      (2): CNBlock(\n",
       "        (block): Sequential(\n",
       "          (0): Conv2d(768, 768, kernel_size=(7, 7), stride=(1, 1), padding=(3, 3), groups=768)\n",
       "          (1): Permute()\n",
       "          (2): LayerNorm((768,), eps=1e-06, elementwise_affine=True)\n",
       "          (3): Linear(in_features=768, out_features=3072, bias=True)\n",
       "          (4): GELU(approximate=none)\n",
       "          (5): Linear(in_features=3072, out_features=768, bias=True)\n",
       "          (6): Permute()\n",
       "        )\n",
       "        (stochastic_depth): StochasticDepth(p=0.1, mode=row)\n",
       "      )\n",
       "    )\n",
       "  )\n",
       "  (avgpool): AdaptiveAvgPool2d(output_size=1)\n",
       "  (classifier): Sequential(\n",
       "    (0): LayerNorm2d((768,), eps=1e-06, elementwise_affine=True)\n",
       "    (1): Flatten(start_dim=1, end_dim=-1)\n",
       "    (2): Linear(in_features=768, out_features=1000, bias=True)\n",
       "  )\n",
       ")"
      ]
     },
     "execution_count": 19,
     "metadata": {},
     "output_type": "execute_result"
    }
   ],
   "source": [
    "base_model_frozen"
   ]
  },
  {
   "cell_type": "code",
   "execution_count": 20,
   "id": "ecd3da73",
   "metadata": {},
   "outputs": [],
   "source": [
    "model_chopped = torch.nn.Sequential(list(base_model_frozen.children())[0][:n_block_toInclude])"
   ]
  },
  {
   "cell_type": "code",
   "execution_count": 21,
   "id": "e0ad68f8",
   "metadata": {},
   "outputs": [],
   "source": [
    "model_chopped_pooled = torch.nn.Sequential(model_chopped, torch.nn.AdaptiveAvgPool2d(output_size=1), torch.nn.Flatten())"
   ]
  },
  {
   "cell_type": "code",
   "execution_count": 22,
   "id": "49ec7cbd",
   "metadata": {},
   "outputs": [
    {
     "data": {
      "text/plain": [
       "Sequential(\n",
       "  (0): Sequential(\n",
       "    (0): Sequential(\n",
       "      (0): Conv2dNormActivation(\n",
       "        (0): Conv2d(3, 96, kernel_size=(4, 4), stride=(4, 4))\n",
       "        (1): LayerNorm2d((96,), eps=1e-06, elementwise_affine=True)\n",
       "      )\n",
       "      (1): Sequential(\n",
       "        (0): CNBlock(\n",
       "          (block): Sequential(\n",
       "            (0): Conv2d(96, 96, kernel_size=(7, 7), stride=(1, 1), padding=(3, 3), groups=96)\n",
       "            (1): Permute()\n",
       "            (2): LayerNorm((96,), eps=1e-06, elementwise_affine=True)\n",
       "            (3): Linear(in_features=96, out_features=384, bias=True)\n",
       "            (4): GELU(approximate=none)\n",
       "            (5): Linear(in_features=384, out_features=96, bias=True)\n",
       "            (6): Permute()\n",
       "          )\n",
       "          (stochastic_depth): StochasticDepth(p=0.0, mode=row)\n",
       "        )\n",
       "        (1): CNBlock(\n",
       "          (block): Sequential(\n",
       "            (0): Conv2d(96, 96, kernel_size=(7, 7), stride=(1, 1), padding=(3, 3), groups=96)\n",
       "            (1): Permute()\n",
       "            (2): LayerNorm((96,), eps=1e-06, elementwise_affine=True)\n",
       "            (3): Linear(in_features=96, out_features=384, bias=True)\n",
       "            (4): GELU(approximate=none)\n",
       "            (5): Linear(in_features=384, out_features=96, bias=True)\n",
       "            (6): Permute()\n",
       "          )\n",
       "          (stochastic_depth): StochasticDepth(p=0.0058823529411764705, mode=row)\n",
       "        )\n",
       "        (2): CNBlock(\n",
       "          (block): Sequential(\n",
       "            (0): Conv2d(96, 96, kernel_size=(7, 7), stride=(1, 1), padding=(3, 3), groups=96)\n",
       "            (1): Permute()\n",
       "            (2): LayerNorm((96,), eps=1e-06, elementwise_affine=True)\n",
       "            (3): Linear(in_features=96, out_features=384, bias=True)\n",
       "            (4): GELU(approximate=none)\n",
       "            (5): Linear(in_features=384, out_features=96, bias=True)\n",
       "            (6): Permute()\n",
       "          )\n",
       "          (stochastic_depth): StochasticDepth(p=0.011764705882352941, mode=row)\n",
       "        )\n",
       "      )\n",
       "      (2): Sequential(\n",
       "        (0): LayerNorm2d((96,), eps=1e-06, elementwise_affine=True)\n",
       "        (1): Conv2d(96, 192, kernel_size=(2, 2), stride=(2, 2))\n",
       "      )\n",
       "      (3): Sequential(\n",
       "        (0): CNBlock(\n",
       "          (block): Sequential(\n",
       "            (0): Conv2d(192, 192, kernel_size=(7, 7), stride=(1, 1), padding=(3, 3), groups=192)\n",
       "            (1): Permute()\n",
       "            (2): LayerNorm((192,), eps=1e-06, elementwise_affine=True)\n",
       "            (3): Linear(in_features=192, out_features=768, bias=True)\n",
       "            (4): GELU(approximate=none)\n",
       "            (5): Linear(in_features=768, out_features=192, bias=True)\n",
       "            (6): Permute()\n",
       "          )\n",
       "          (stochastic_depth): StochasticDepth(p=0.017647058823529415, mode=row)\n",
       "        )\n",
       "        (1): CNBlock(\n",
       "          (block): Sequential(\n",
       "            (0): Conv2d(192, 192, kernel_size=(7, 7), stride=(1, 1), padding=(3, 3), groups=192)\n",
       "            (1): Permute()\n",
       "            (2): LayerNorm((192,), eps=1e-06, elementwise_affine=True)\n",
       "            (3): Linear(in_features=192, out_features=768, bias=True)\n",
       "            (4): GELU(approximate=none)\n",
       "            (5): Linear(in_features=768, out_features=192, bias=True)\n",
       "            (6): Permute()\n",
       "          )\n",
       "          (stochastic_depth): StochasticDepth(p=0.023529411764705882, mode=row)\n",
       "        )\n",
       "        (2): CNBlock(\n",
       "          (block): Sequential(\n",
       "            (0): Conv2d(192, 192, kernel_size=(7, 7), stride=(1, 1), padding=(3, 3), groups=192)\n",
       "            (1): Permute()\n",
       "            (2): LayerNorm((192,), eps=1e-06, elementwise_affine=True)\n",
       "            (3): Linear(in_features=192, out_features=768, bias=True)\n",
       "            (4): GELU(approximate=none)\n",
       "            (5): Linear(in_features=768, out_features=192, bias=True)\n",
       "            (6): Permute()\n",
       "          )\n",
       "          (stochastic_depth): StochasticDepth(p=0.029411764705882353, mode=row)\n",
       "        )\n",
       "      )\n",
       "      (4): Sequential(\n",
       "        (0): LayerNorm2d((192,), eps=1e-06, elementwise_affine=True)\n",
       "        (1): Conv2d(192, 384, kernel_size=(2, 2), stride=(2, 2))\n",
       "      )\n",
       "      (5): Sequential(\n",
       "        (0): CNBlock(\n",
       "          (block): Sequential(\n",
       "            (0): Conv2d(384, 384, kernel_size=(7, 7), stride=(1, 1), padding=(3, 3), groups=384)\n",
       "            (1): Permute()\n",
       "            (2): LayerNorm((384,), eps=1e-06, elementwise_affine=True)\n",
       "            (3): Linear(in_features=384, out_features=1536, bias=True)\n",
       "            (4): GELU(approximate=none)\n",
       "            (5): Linear(in_features=1536, out_features=384, bias=True)\n",
       "            (6): Permute()\n",
       "          )\n",
       "          (stochastic_depth): StochasticDepth(p=0.03529411764705883, mode=row)\n",
       "        )\n",
       "        (1): CNBlock(\n",
       "          (block): Sequential(\n",
       "            (0): Conv2d(384, 384, kernel_size=(7, 7), stride=(1, 1), padding=(3, 3), groups=384)\n",
       "            (1): Permute()\n",
       "            (2): LayerNorm((384,), eps=1e-06, elementwise_affine=True)\n",
       "            (3): Linear(in_features=384, out_features=1536, bias=True)\n",
       "            (4): GELU(approximate=none)\n",
       "            (5): Linear(in_features=1536, out_features=384, bias=True)\n",
       "            (6): Permute()\n",
       "          )\n",
       "          (stochastic_depth): StochasticDepth(p=0.0411764705882353, mode=row)\n",
       "        )\n",
       "        (2): CNBlock(\n",
       "          (block): Sequential(\n",
       "            (0): Conv2d(384, 384, kernel_size=(7, 7), stride=(1, 1), padding=(3, 3), groups=384)\n",
       "            (1): Permute()\n",
       "            (2): LayerNorm((384,), eps=1e-06, elementwise_affine=True)\n",
       "            (3): Linear(in_features=384, out_features=1536, bias=True)\n",
       "            (4): GELU(approximate=none)\n",
       "            (5): Linear(in_features=1536, out_features=384, bias=True)\n",
       "            (6): Permute()\n",
       "          )\n",
       "          (stochastic_depth): StochasticDepth(p=0.047058823529411764, mode=row)\n",
       "        )\n",
       "        (3): CNBlock(\n",
       "          (block): Sequential(\n",
       "            (0): Conv2d(384, 384, kernel_size=(7, 7), stride=(1, 1), padding=(3, 3), groups=384)\n",
       "            (1): Permute()\n",
       "            (2): LayerNorm((384,), eps=1e-06, elementwise_affine=True)\n",
       "            (3): Linear(in_features=384, out_features=1536, bias=True)\n",
       "            (4): GELU(approximate=none)\n",
       "            (5): Linear(in_features=1536, out_features=384, bias=True)\n",
       "            (6): Permute()\n",
       "          )\n",
       "          (stochastic_depth): StochasticDepth(p=0.052941176470588235, mode=row)\n",
       "        )\n",
       "        (4): CNBlock(\n",
       "          (block): Sequential(\n",
       "            (0): Conv2d(384, 384, kernel_size=(7, 7), stride=(1, 1), padding=(3, 3), groups=384)\n",
       "            (1): Permute()\n",
       "            (2): LayerNorm((384,), eps=1e-06, elementwise_affine=True)\n",
       "            (3): Linear(in_features=384, out_features=1536, bias=True)\n",
       "            (4): GELU(approximate=none)\n",
       "            (5): Linear(in_features=1536, out_features=384, bias=True)\n",
       "            (6): Permute()\n",
       "          )\n",
       "          (stochastic_depth): StochasticDepth(p=0.058823529411764705, mode=row)\n",
       "        )\n",
       "        (5): CNBlock(\n",
       "          (block): Sequential(\n",
       "            (0): Conv2d(384, 384, kernel_size=(7, 7), stride=(1, 1), padding=(3, 3), groups=384)\n",
       "            (1): Permute()\n",
       "            (2): LayerNorm((384,), eps=1e-06, elementwise_affine=True)\n",
       "            (3): Linear(in_features=384, out_features=1536, bias=True)\n",
       "            (4): GELU(approximate=none)\n",
       "            (5): Linear(in_features=1536, out_features=384, bias=True)\n",
       "            (6): Permute()\n",
       "          )\n",
       "          (stochastic_depth): StochasticDepth(p=0.06470588235294118, mode=row)\n",
       "        )\n",
       "        (6): CNBlock(\n",
       "          (block): Sequential(\n",
       "            (0): Conv2d(384, 384, kernel_size=(7, 7), stride=(1, 1), padding=(3, 3), groups=384)\n",
       "            (1): Permute()\n",
       "            (2): LayerNorm((384,), eps=1e-06, elementwise_affine=True)\n",
       "            (3): Linear(in_features=384, out_features=1536, bias=True)\n",
       "            (4): GELU(approximate=none)\n",
       "            (5): Linear(in_features=1536, out_features=384, bias=True)\n",
       "            (6): Permute()\n",
       "          )\n",
       "          (stochastic_depth): StochasticDepth(p=0.07058823529411766, mode=row)\n",
       "        )\n",
       "        (7): CNBlock(\n",
       "          (block): Sequential(\n",
       "            (0): Conv2d(384, 384, kernel_size=(7, 7), stride=(1, 1), padding=(3, 3), groups=384)\n",
       "            (1): Permute()\n",
       "            (2): LayerNorm((384,), eps=1e-06, elementwise_affine=True)\n",
       "            (3): Linear(in_features=384, out_features=1536, bias=True)\n",
       "            (4): GELU(approximate=none)\n",
       "            (5): Linear(in_features=1536, out_features=384, bias=True)\n",
       "            (6): Permute()\n",
       "          )\n",
       "          (stochastic_depth): StochasticDepth(p=0.07647058823529412, mode=row)\n",
       "        )\n",
       "        (8): CNBlock(\n",
       "          (block): Sequential(\n",
       "            (0): Conv2d(384, 384, kernel_size=(7, 7), stride=(1, 1), padding=(3, 3), groups=384)\n",
       "            (1): Permute()\n",
       "            (2): LayerNorm((384,), eps=1e-06, elementwise_affine=True)\n",
       "            (3): Linear(in_features=384, out_features=1536, bias=True)\n",
       "            (4): GELU(approximate=none)\n",
       "            (5): Linear(in_features=1536, out_features=384, bias=True)\n",
       "            (6): Permute()\n",
       "          )\n",
       "          (stochastic_depth): StochasticDepth(p=0.0823529411764706, mode=row)\n",
       "        )\n",
       "      )\n",
       "      (6): Sequential(\n",
       "        (0): LayerNorm2d((384,), eps=1e-06, elementwise_affine=True)\n",
       "        (1): Conv2d(384, 768, kernel_size=(2, 2), stride=(2, 2))\n",
       "      )\n",
       "    )\n",
       "  )\n",
       "  (1): AdaptiveAvgPool2d(output_size=1)\n",
       "  (2): Flatten(start_dim=1, end_dim=-1)\n",
       ")"
      ]
     },
     "execution_count": 22,
     "metadata": {},
     "output_type": "execute_result"
    }
   ],
   "source": [
    "model_chopped_pooled"
   ]
  },
  {
   "cell_type": "code",
   "execution_count": 23,
   "id": "01f98e4b",
   "metadata": {},
   "outputs": [],
   "source": [
    "data_dim = tuple([1] + image_shape)"
   ]
  },
  {
   "cell_type": "code",
   "execution_count": 24,
   "id": "db10df61",
   "metadata": {},
   "outputs": [],
   "source": [
    "model = model.ModelTackOn(\n",
    "    #     model_chopped.to('cpu'),\n",
    "        model_chopped_pooled.to('cpu'),\n",
    "        base_model_frozen.to('cpu'),\n",
    "        data_dim=data_dim,\n",
    "        pre_head_fc_sizes=pre_head_fc_sizes, \n",
    "        post_head_fc_sizes=post_head_fc_sizes, \n",
    "        classifier_fc_sizes=None,\n",
    "        nonlinearity=head_nonlinearity,\n",
    "        kwargs_nonlinearity={},\n",
    "    )"
   ]
  },
  {
   "cell_type": "code",
   "execution_count": 25,
   "id": "09bf7c01",
   "metadata": {},
   "outputs": [
    {
     "data": {
      "text/plain": [
       "ModelTackOn(\n",
       "  (base_model): Sequential(\n",
       "    (0): Sequential(\n",
       "      (0): Sequential(\n",
       "        (0): Conv2dNormActivation(\n",
       "          (0): Conv2d(3, 96, kernel_size=(4, 4), stride=(4, 4))\n",
       "          (1): LayerNorm2d((96,), eps=1e-06, elementwise_affine=True)\n",
       "        )\n",
       "        (1): Sequential(\n",
       "          (0): CNBlock(\n",
       "            (block): Sequential(\n",
       "              (0): Conv2d(96, 96, kernel_size=(7, 7), stride=(1, 1), padding=(3, 3), groups=96)\n",
       "              (1): Permute()\n",
       "              (2): LayerNorm((96,), eps=1e-06, elementwise_affine=True)\n",
       "              (3): Linear(in_features=96, out_features=384, bias=True)\n",
       "              (4): GELU(approximate=none)\n",
       "              (5): Linear(in_features=384, out_features=96, bias=True)\n",
       "              (6): Permute()\n",
       "            )\n",
       "            (stochastic_depth): StochasticDepth(p=0.0, mode=row)\n",
       "          )\n",
       "          (1): CNBlock(\n",
       "            (block): Sequential(\n",
       "              (0): Conv2d(96, 96, kernel_size=(7, 7), stride=(1, 1), padding=(3, 3), groups=96)\n",
       "              (1): Permute()\n",
       "              (2): LayerNorm((96,), eps=1e-06, elementwise_affine=True)\n",
       "              (3): Linear(in_features=96, out_features=384, bias=True)\n",
       "              (4): GELU(approximate=none)\n",
       "              (5): Linear(in_features=384, out_features=96, bias=True)\n",
       "              (6): Permute()\n",
       "            )\n",
       "            (stochastic_depth): StochasticDepth(p=0.0058823529411764705, mode=row)\n",
       "          )\n",
       "          (2): CNBlock(\n",
       "            (block): Sequential(\n",
       "              (0): Conv2d(96, 96, kernel_size=(7, 7), stride=(1, 1), padding=(3, 3), groups=96)\n",
       "              (1): Permute()\n",
       "              (2): LayerNorm((96,), eps=1e-06, elementwise_affine=True)\n",
       "              (3): Linear(in_features=96, out_features=384, bias=True)\n",
       "              (4): GELU(approximate=none)\n",
       "              (5): Linear(in_features=384, out_features=96, bias=True)\n",
       "              (6): Permute()\n",
       "            )\n",
       "            (stochastic_depth): StochasticDepth(p=0.011764705882352941, mode=row)\n",
       "          )\n",
       "        )\n",
       "        (2): Sequential(\n",
       "          (0): LayerNorm2d((96,), eps=1e-06, elementwise_affine=True)\n",
       "          (1): Conv2d(96, 192, kernel_size=(2, 2), stride=(2, 2))\n",
       "        )\n",
       "        (3): Sequential(\n",
       "          (0): CNBlock(\n",
       "            (block): Sequential(\n",
       "              (0): Conv2d(192, 192, kernel_size=(7, 7), stride=(1, 1), padding=(3, 3), groups=192)\n",
       "              (1): Permute()\n",
       "              (2): LayerNorm((192,), eps=1e-06, elementwise_affine=True)\n",
       "              (3): Linear(in_features=192, out_features=768, bias=True)\n",
       "              (4): GELU(approximate=none)\n",
       "              (5): Linear(in_features=768, out_features=192, bias=True)\n",
       "              (6): Permute()\n",
       "            )\n",
       "            (stochastic_depth): StochasticDepth(p=0.017647058823529415, mode=row)\n",
       "          )\n",
       "          (1): CNBlock(\n",
       "            (block): Sequential(\n",
       "              (0): Conv2d(192, 192, kernel_size=(7, 7), stride=(1, 1), padding=(3, 3), groups=192)\n",
       "              (1): Permute()\n",
       "              (2): LayerNorm((192,), eps=1e-06, elementwise_affine=True)\n",
       "              (3): Linear(in_features=192, out_features=768, bias=True)\n",
       "              (4): GELU(approximate=none)\n",
       "              (5): Linear(in_features=768, out_features=192, bias=True)\n",
       "              (6): Permute()\n",
       "            )\n",
       "            (stochastic_depth): StochasticDepth(p=0.023529411764705882, mode=row)\n",
       "          )\n",
       "          (2): CNBlock(\n",
       "            (block): Sequential(\n",
       "              (0): Conv2d(192, 192, kernel_size=(7, 7), stride=(1, 1), padding=(3, 3), groups=192)\n",
       "              (1): Permute()\n",
       "              (2): LayerNorm((192,), eps=1e-06, elementwise_affine=True)\n",
       "              (3): Linear(in_features=192, out_features=768, bias=True)\n",
       "              (4): GELU(approximate=none)\n",
       "              (5): Linear(in_features=768, out_features=192, bias=True)\n",
       "              (6): Permute()\n",
       "            )\n",
       "            (stochastic_depth): StochasticDepth(p=0.029411764705882353, mode=row)\n",
       "          )\n",
       "        )\n",
       "        (4): Sequential(\n",
       "          (0): LayerNorm2d((192,), eps=1e-06, elementwise_affine=True)\n",
       "          (1): Conv2d(192, 384, kernel_size=(2, 2), stride=(2, 2))\n",
       "        )\n",
       "        (5): Sequential(\n",
       "          (0): CNBlock(\n",
       "            (block): Sequential(\n",
       "              (0): Conv2d(384, 384, kernel_size=(7, 7), stride=(1, 1), padding=(3, 3), groups=384)\n",
       "              (1): Permute()\n",
       "              (2): LayerNorm((384,), eps=1e-06, elementwise_affine=True)\n",
       "              (3): Linear(in_features=384, out_features=1536, bias=True)\n",
       "              (4): GELU(approximate=none)\n",
       "              (5): Linear(in_features=1536, out_features=384, bias=True)\n",
       "              (6): Permute()\n",
       "            )\n",
       "            (stochastic_depth): StochasticDepth(p=0.03529411764705883, mode=row)\n",
       "          )\n",
       "          (1): CNBlock(\n",
       "            (block): Sequential(\n",
       "              (0): Conv2d(384, 384, kernel_size=(7, 7), stride=(1, 1), padding=(3, 3), groups=384)\n",
       "              (1): Permute()\n",
       "              (2): LayerNorm((384,), eps=1e-06, elementwise_affine=True)\n",
       "              (3): Linear(in_features=384, out_features=1536, bias=True)\n",
       "              (4): GELU(approximate=none)\n",
       "              (5): Linear(in_features=1536, out_features=384, bias=True)\n",
       "              (6): Permute()\n",
       "            )\n",
       "            (stochastic_depth): StochasticDepth(p=0.0411764705882353, mode=row)\n",
       "          )\n",
       "          (2): CNBlock(\n",
       "            (block): Sequential(\n",
       "              (0): Conv2d(384, 384, kernel_size=(7, 7), stride=(1, 1), padding=(3, 3), groups=384)\n",
       "              (1): Permute()\n",
       "              (2): LayerNorm((384,), eps=1e-06, elementwise_affine=True)\n",
       "              (3): Linear(in_features=384, out_features=1536, bias=True)\n",
       "              (4): GELU(approximate=none)\n",
       "              (5): Linear(in_features=1536, out_features=384, bias=True)\n",
       "              (6): Permute()\n",
       "            )\n",
       "            (stochastic_depth): StochasticDepth(p=0.047058823529411764, mode=row)\n",
       "          )\n",
       "          (3): CNBlock(\n",
       "            (block): Sequential(\n",
       "              (0): Conv2d(384, 384, kernel_size=(7, 7), stride=(1, 1), padding=(3, 3), groups=384)\n",
       "              (1): Permute()\n",
       "              (2): LayerNorm((384,), eps=1e-06, elementwise_affine=True)\n",
       "              (3): Linear(in_features=384, out_features=1536, bias=True)\n",
       "              (4): GELU(approximate=none)\n",
       "              (5): Linear(in_features=1536, out_features=384, bias=True)\n",
       "              (6): Permute()\n",
       "            )\n",
       "            (stochastic_depth): StochasticDepth(p=0.052941176470588235, mode=row)\n",
       "          )\n",
       "          (4): CNBlock(\n",
       "            (block): Sequential(\n",
       "              (0): Conv2d(384, 384, kernel_size=(7, 7), stride=(1, 1), padding=(3, 3), groups=384)\n",
       "              (1): Permute()\n",
       "              (2): LayerNorm((384,), eps=1e-06, elementwise_affine=True)\n",
       "              (3): Linear(in_features=384, out_features=1536, bias=True)\n",
       "              (4): GELU(approximate=none)\n",
       "              (5): Linear(in_features=1536, out_features=384, bias=True)\n",
       "              (6): Permute()\n",
       "            )\n",
       "            (stochastic_depth): StochasticDepth(p=0.058823529411764705, mode=row)\n",
       "          )\n",
       "          (5): CNBlock(\n",
       "            (block): Sequential(\n",
       "              (0): Conv2d(384, 384, kernel_size=(7, 7), stride=(1, 1), padding=(3, 3), groups=384)\n",
       "              (1): Permute()\n",
       "              (2): LayerNorm((384,), eps=1e-06, elementwise_affine=True)\n",
       "              (3): Linear(in_features=384, out_features=1536, bias=True)\n",
       "              (4): GELU(approximate=none)\n",
       "              (5): Linear(in_features=1536, out_features=384, bias=True)\n",
       "              (6): Permute()\n",
       "            )\n",
       "            (stochastic_depth): StochasticDepth(p=0.06470588235294118, mode=row)\n",
       "          )\n",
       "          (6): CNBlock(\n",
       "            (block): Sequential(\n",
       "              (0): Conv2d(384, 384, kernel_size=(7, 7), stride=(1, 1), padding=(3, 3), groups=384)\n",
       "              (1): Permute()\n",
       "              (2): LayerNorm((384,), eps=1e-06, elementwise_affine=True)\n",
       "              (3): Linear(in_features=384, out_features=1536, bias=True)\n",
       "              (4): GELU(approximate=none)\n",
       "              (5): Linear(in_features=1536, out_features=384, bias=True)\n",
       "              (6): Permute()\n",
       "            )\n",
       "            (stochastic_depth): StochasticDepth(p=0.07058823529411766, mode=row)\n",
       "          )\n",
       "          (7): CNBlock(\n",
       "            (block): Sequential(\n",
       "              (0): Conv2d(384, 384, kernel_size=(7, 7), stride=(1, 1), padding=(3, 3), groups=384)\n",
       "              (1): Permute()\n",
       "              (2): LayerNorm((384,), eps=1e-06, elementwise_affine=True)\n",
       "              (3): Linear(in_features=384, out_features=1536, bias=True)\n",
       "              (4): GELU(approximate=none)\n",
       "              (5): Linear(in_features=1536, out_features=384, bias=True)\n",
       "              (6): Permute()\n",
       "            )\n",
       "            (stochastic_depth): StochasticDepth(p=0.07647058823529412, mode=row)\n",
       "          )\n",
       "          (8): CNBlock(\n",
       "            (block): Sequential(\n",
       "              (0): Conv2d(384, 384, kernel_size=(7, 7), stride=(1, 1), padding=(3, 3), groups=384)\n",
       "              (1): Permute()\n",
       "              (2): LayerNorm((384,), eps=1e-06, elementwise_affine=True)\n",
       "              (3): Linear(in_features=384, out_features=1536, bias=True)\n",
       "              (4): GELU(approximate=none)\n",
       "              (5): Linear(in_features=1536, out_features=384, bias=True)\n",
       "              (6): Permute()\n",
       "            )\n",
       "            (stochastic_depth): StochasticDepth(p=0.0823529411764706, mode=row)\n",
       "          )\n",
       "        )\n",
       "        (6): Sequential(\n",
       "          (0): LayerNorm2d((384,), eps=1e-06, elementwise_affine=True)\n",
       "          (1): Conv2d(384, 768, kernel_size=(2, 2), stride=(2, 2))\n",
       "        )\n",
       "      )\n",
       "    )\n",
       "    (1): AdaptiveAvgPool2d(output_size=1)\n",
       "    (2): Flatten(start_dim=1, end_dim=-1)\n",
       "  )\n",
       "  (PreHead_0): Linear(in_features=768, out_features=256, bias=True)\n",
       "  (PreHead_0_NonLinearity): GELU(approximate=none)\n",
       "  (PostHead_0): Linear(in_features=256, out_features=128, bias=True)\n",
       "  (PostHead_0_NonLinearity): GELU(approximate=none)\n",
       ")"
      ]
     },
     "execution_count": 25,
     "metadata": {},
     "output_type": "execute_result"
    }
   ],
   "source": [
    "model.eval()"
   ]
  },
  {
   "cell_type": "code",
   "execution_count": 26,
   "id": "65b79207",
   "metadata": {},
   "outputs": [
    {
     "data": {
      "text/plain": [
       "768"
      ]
     },
     "execution_count": 26,
     "metadata": {},
     "output_type": "execute_result"
    }
   ],
   "source": [
    "model_chopped_pooled(torch.rand(*(data_dim))).data.squeeze().shape[0]"
   ]
  },
  {
   "cell_type": "code",
   "execution_count": 27,
   "id": "23396e0b",
   "metadata": {},
   "outputs": [],
   "source": [
    "model.prep_contrast()"
   ]
  },
  {
   "cell_type": "code",
   "execution_count": 28,
   "id": "496404b4",
   "metadata": {},
   "outputs": [
    {
     "data": {
      "text/plain": [
       "ModelTackOn(\n",
       "  (base_model): Sequential(\n",
       "    (0): Sequential(\n",
       "      (0): Sequential(\n",
       "        (0): Conv2dNormActivation(\n",
       "          (0): Conv2d(3, 96, kernel_size=(4, 4), stride=(4, 4))\n",
       "          (1): LayerNorm2d((96,), eps=1e-06, elementwise_affine=True)\n",
       "        )\n",
       "        (1): Sequential(\n",
       "          (0): CNBlock(\n",
       "            (block): Sequential(\n",
       "              (0): Conv2d(96, 96, kernel_size=(7, 7), stride=(1, 1), padding=(3, 3), groups=96)\n",
       "              (1): Permute()\n",
       "              (2): LayerNorm((96,), eps=1e-06, elementwise_affine=True)\n",
       "              (3): Linear(in_features=96, out_features=384, bias=True)\n",
       "              (4): GELU(approximate=none)\n",
       "              (5): Linear(in_features=384, out_features=96, bias=True)\n",
       "              (6): Permute()\n",
       "            )\n",
       "            (stochastic_depth): StochasticDepth(p=0.0, mode=row)\n",
       "          )\n",
       "          (1): CNBlock(\n",
       "            (block): Sequential(\n",
       "              (0): Conv2d(96, 96, kernel_size=(7, 7), stride=(1, 1), padding=(3, 3), groups=96)\n",
       "              (1): Permute()\n",
       "              (2): LayerNorm((96,), eps=1e-06, elementwise_affine=True)\n",
       "              (3): Linear(in_features=96, out_features=384, bias=True)\n",
       "              (4): GELU(approximate=none)\n",
       "              (5): Linear(in_features=384, out_features=96, bias=True)\n",
       "              (6): Permute()\n",
       "            )\n",
       "            (stochastic_depth): StochasticDepth(p=0.0058823529411764705, mode=row)\n",
       "          )\n",
       "          (2): CNBlock(\n",
       "            (block): Sequential(\n",
       "              (0): Conv2d(96, 96, kernel_size=(7, 7), stride=(1, 1), padding=(3, 3), groups=96)\n",
       "              (1): Permute()\n",
       "              (2): LayerNorm((96,), eps=1e-06, elementwise_affine=True)\n",
       "              (3): Linear(in_features=96, out_features=384, bias=True)\n",
       "              (4): GELU(approximate=none)\n",
       "              (5): Linear(in_features=384, out_features=96, bias=True)\n",
       "              (6): Permute()\n",
       "            )\n",
       "            (stochastic_depth): StochasticDepth(p=0.011764705882352941, mode=row)\n",
       "          )\n",
       "        )\n",
       "        (2): Sequential(\n",
       "          (0): LayerNorm2d((96,), eps=1e-06, elementwise_affine=True)\n",
       "          (1): Conv2d(96, 192, kernel_size=(2, 2), stride=(2, 2))\n",
       "        )\n",
       "        (3): Sequential(\n",
       "          (0): CNBlock(\n",
       "            (block): Sequential(\n",
       "              (0): Conv2d(192, 192, kernel_size=(7, 7), stride=(1, 1), padding=(3, 3), groups=192)\n",
       "              (1): Permute()\n",
       "              (2): LayerNorm((192,), eps=1e-06, elementwise_affine=True)\n",
       "              (3): Linear(in_features=192, out_features=768, bias=True)\n",
       "              (4): GELU(approximate=none)\n",
       "              (5): Linear(in_features=768, out_features=192, bias=True)\n",
       "              (6): Permute()\n",
       "            )\n",
       "            (stochastic_depth): StochasticDepth(p=0.017647058823529415, mode=row)\n",
       "          )\n",
       "          (1): CNBlock(\n",
       "            (block): Sequential(\n",
       "              (0): Conv2d(192, 192, kernel_size=(7, 7), stride=(1, 1), padding=(3, 3), groups=192)\n",
       "              (1): Permute()\n",
       "              (2): LayerNorm((192,), eps=1e-06, elementwise_affine=True)\n",
       "              (3): Linear(in_features=192, out_features=768, bias=True)\n",
       "              (4): GELU(approximate=none)\n",
       "              (5): Linear(in_features=768, out_features=192, bias=True)\n",
       "              (6): Permute()\n",
       "            )\n",
       "            (stochastic_depth): StochasticDepth(p=0.023529411764705882, mode=row)\n",
       "          )\n",
       "          (2): CNBlock(\n",
       "            (block): Sequential(\n",
       "              (0): Conv2d(192, 192, kernel_size=(7, 7), stride=(1, 1), padding=(3, 3), groups=192)\n",
       "              (1): Permute()\n",
       "              (2): LayerNorm((192,), eps=1e-06, elementwise_affine=True)\n",
       "              (3): Linear(in_features=192, out_features=768, bias=True)\n",
       "              (4): GELU(approximate=none)\n",
       "              (5): Linear(in_features=768, out_features=192, bias=True)\n",
       "              (6): Permute()\n",
       "            )\n",
       "            (stochastic_depth): StochasticDepth(p=0.029411764705882353, mode=row)\n",
       "          )\n",
       "        )\n",
       "        (4): Sequential(\n",
       "          (0): LayerNorm2d((192,), eps=1e-06, elementwise_affine=True)\n",
       "          (1): Conv2d(192, 384, kernel_size=(2, 2), stride=(2, 2))\n",
       "        )\n",
       "        (5): Sequential(\n",
       "          (0): CNBlock(\n",
       "            (block): Sequential(\n",
       "              (0): Conv2d(384, 384, kernel_size=(7, 7), stride=(1, 1), padding=(3, 3), groups=384)\n",
       "              (1): Permute()\n",
       "              (2): LayerNorm((384,), eps=1e-06, elementwise_affine=True)\n",
       "              (3): Linear(in_features=384, out_features=1536, bias=True)\n",
       "              (4): GELU(approximate=none)\n",
       "              (5): Linear(in_features=1536, out_features=384, bias=True)\n",
       "              (6): Permute()\n",
       "            )\n",
       "            (stochastic_depth): StochasticDepth(p=0.03529411764705883, mode=row)\n",
       "          )\n",
       "          (1): CNBlock(\n",
       "            (block): Sequential(\n",
       "              (0): Conv2d(384, 384, kernel_size=(7, 7), stride=(1, 1), padding=(3, 3), groups=384)\n",
       "              (1): Permute()\n",
       "              (2): LayerNorm((384,), eps=1e-06, elementwise_affine=True)\n",
       "              (3): Linear(in_features=384, out_features=1536, bias=True)\n",
       "              (4): GELU(approximate=none)\n",
       "              (5): Linear(in_features=1536, out_features=384, bias=True)\n",
       "              (6): Permute()\n",
       "            )\n",
       "            (stochastic_depth): StochasticDepth(p=0.0411764705882353, mode=row)\n",
       "          )\n",
       "          (2): CNBlock(\n",
       "            (block): Sequential(\n",
       "              (0): Conv2d(384, 384, kernel_size=(7, 7), stride=(1, 1), padding=(3, 3), groups=384)\n",
       "              (1): Permute()\n",
       "              (2): LayerNorm((384,), eps=1e-06, elementwise_affine=True)\n",
       "              (3): Linear(in_features=384, out_features=1536, bias=True)\n",
       "              (4): GELU(approximate=none)\n",
       "              (5): Linear(in_features=1536, out_features=384, bias=True)\n",
       "              (6): Permute()\n",
       "            )\n",
       "            (stochastic_depth): StochasticDepth(p=0.047058823529411764, mode=row)\n",
       "          )\n",
       "          (3): CNBlock(\n",
       "            (block): Sequential(\n",
       "              (0): Conv2d(384, 384, kernel_size=(7, 7), stride=(1, 1), padding=(3, 3), groups=384)\n",
       "              (1): Permute()\n",
       "              (2): LayerNorm((384,), eps=1e-06, elementwise_affine=True)\n",
       "              (3): Linear(in_features=384, out_features=1536, bias=True)\n",
       "              (4): GELU(approximate=none)\n",
       "              (5): Linear(in_features=1536, out_features=384, bias=True)\n",
       "              (6): Permute()\n",
       "            )\n",
       "            (stochastic_depth): StochasticDepth(p=0.052941176470588235, mode=row)\n",
       "          )\n",
       "          (4): CNBlock(\n",
       "            (block): Sequential(\n",
       "              (0): Conv2d(384, 384, kernel_size=(7, 7), stride=(1, 1), padding=(3, 3), groups=384)\n",
       "              (1): Permute()\n",
       "              (2): LayerNorm((384,), eps=1e-06, elementwise_affine=True)\n",
       "              (3): Linear(in_features=384, out_features=1536, bias=True)\n",
       "              (4): GELU(approximate=none)\n",
       "              (5): Linear(in_features=1536, out_features=384, bias=True)\n",
       "              (6): Permute()\n",
       "            )\n",
       "            (stochastic_depth): StochasticDepth(p=0.058823529411764705, mode=row)\n",
       "          )\n",
       "          (5): CNBlock(\n",
       "            (block): Sequential(\n",
       "              (0): Conv2d(384, 384, kernel_size=(7, 7), stride=(1, 1), padding=(3, 3), groups=384)\n",
       "              (1): Permute()\n",
       "              (2): LayerNorm((384,), eps=1e-06, elementwise_affine=True)\n",
       "              (3): Linear(in_features=384, out_features=1536, bias=True)\n",
       "              (4): GELU(approximate=none)\n",
       "              (5): Linear(in_features=1536, out_features=384, bias=True)\n",
       "              (6): Permute()\n",
       "            )\n",
       "            (stochastic_depth): StochasticDepth(p=0.06470588235294118, mode=row)\n",
       "          )\n",
       "          (6): CNBlock(\n",
       "            (block): Sequential(\n",
       "              (0): Conv2d(384, 384, kernel_size=(7, 7), stride=(1, 1), padding=(3, 3), groups=384)\n",
       "              (1): Permute()\n",
       "              (2): LayerNorm((384,), eps=1e-06, elementwise_affine=True)\n",
       "              (3): Linear(in_features=384, out_features=1536, bias=True)\n",
       "              (4): GELU(approximate=none)\n",
       "              (5): Linear(in_features=1536, out_features=384, bias=True)\n",
       "              (6): Permute()\n",
       "            )\n",
       "            (stochastic_depth): StochasticDepth(p=0.07058823529411766, mode=row)\n",
       "          )\n",
       "          (7): CNBlock(\n",
       "            (block): Sequential(\n",
       "              (0): Conv2d(384, 384, kernel_size=(7, 7), stride=(1, 1), padding=(3, 3), groups=384)\n",
       "              (1): Permute()\n",
       "              (2): LayerNorm((384,), eps=1e-06, elementwise_affine=True)\n",
       "              (3): Linear(in_features=384, out_features=1536, bias=True)\n",
       "              (4): GELU(approximate=none)\n",
       "              (5): Linear(in_features=1536, out_features=384, bias=True)\n",
       "              (6): Permute()\n",
       "            )\n",
       "            (stochastic_depth): StochasticDepth(p=0.07647058823529412, mode=row)\n",
       "          )\n",
       "          (8): CNBlock(\n",
       "            (block): Sequential(\n",
       "              (0): Conv2d(384, 384, kernel_size=(7, 7), stride=(1, 1), padding=(3, 3), groups=384)\n",
       "              (1): Permute()\n",
       "              (2): LayerNorm((384,), eps=1e-06, elementwise_affine=True)\n",
       "              (3): Linear(in_features=384, out_features=1536, bias=True)\n",
       "              (4): GELU(approximate=none)\n",
       "              (5): Linear(in_features=1536, out_features=384, bias=True)\n",
       "              (6): Permute()\n",
       "            )\n",
       "            (stochastic_depth): StochasticDepth(p=0.0823529411764706, mode=row)\n",
       "          )\n",
       "        )\n",
       "        (6): Sequential(\n",
       "          (0): LayerNorm2d((384,), eps=1e-06, elementwise_affine=True)\n",
       "          (1): Conv2d(384, 768, kernel_size=(2, 2), stride=(2, 2))\n",
       "        )\n",
       "      )\n",
       "    )\n",
       "    (1): AdaptiveAvgPool2d(output_size=1)\n",
       "    (2): Flatten(start_dim=1, end_dim=-1)\n",
       "  )\n",
       "  (PreHead_0): Linear(in_features=768, out_features=256, bias=True)\n",
       "  (PreHead_0_NonLinearity): GELU(approximate=none)\n",
       "  (PostHead_0): Linear(in_features=256, out_features=128, bias=True)\n",
       "  (PostHead_0_NonLinearity): GELU(approximate=none)\n",
       ")"
      ]
     },
     "execution_count": 28,
     "metadata": {},
     "output_type": "execute_result"
    }
   ],
   "source": [
    "model.eval()"
   ]
  },
  {
   "cell_type": "code",
   "execution_count": 29,
   "id": "66764790",
   "metadata": {},
   "outputs": [
    {
     "data": {
      "text/plain": [
       "<bound method _forward_unimplemented of ModelTackOn(\n",
       "  (base_model): Sequential(\n",
       "    (0): Sequential(\n",
       "      (0): Sequential(\n",
       "        (0): Conv2dNormActivation(\n",
       "          (0): Conv2d(3, 96, kernel_size=(4, 4), stride=(4, 4))\n",
       "          (1): LayerNorm2d((96,), eps=1e-06, elementwise_affine=True)\n",
       "        )\n",
       "        (1): Sequential(\n",
       "          (0): CNBlock(\n",
       "            (block): Sequential(\n",
       "              (0): Conv2d(96, 96, kernel_size=(7, 7), stride=(1, 1), padding=(3, 3), groups=96)\n",
       "              (1): Permute()\n",
       "              (2): LayerNorm((96,), eps=1e-06, elementwise_affine=True)\n",
       "              (3): Linear(in_features=96, out_features=384, bias=True)\n",
       "              (4): GELU(approximate=none)\n",
       "              (5): Linear(in_features=384, out_features=96, bias=True)\n",
       "              (6): Permute()\n",
       "            )\n",
       "            (stochastic_depth): StochasticDepth(p=0.0, mode=row)\n",
       "          )\n",
       "          (1): CNBlock(\n",
       "            (block): Sequential(\n",
       "              (0): Conv2d(96, 96, kernel_size=(7, 7), stride=(1, 1), padding=(3, 3), groups=96)\n",
       "              (1): Permute()\n",
       "              (2): LayerNorm((96,), eps=1e-06, elementwise_affine=True)\n",
       "              (3): Linear(in_features=96, out_features=384, bias=True)\n",
       "              (4): GELU(approximate=none)\n",
       "              (5): Linear(in_features=384, out_features=96, bias=True)\n",
       "              (6): Permute()\n",
       "            )\n",
       "            (stochastic_depth): StochasticDepth(p=0.0058823529411764705, mode=row)\n",
       "          )\n",
       "          (2): CNBlock(\n",
       "            (block): Sequential(\n",
       "              (0): Conv2d(96, 96, kernel_size=(7, 7), stride=(1, 1), padding=(3, 3), groups=96)\n",
       "              (1): Permute()\n",
       "              (2): LayerNorm((96,), eps=1e-06, elementwise_affine=True)\n",
       "              (3): Linear(in_features=96, out_features=384, bias=True)\n",
       "              (4): GELU(approximate=none)\n",
       "              (5): Linear(in_features=384, out_features=96, bias=True)\n",
       "              (6): Permute()\n",
       "            )\n",
       "            (stochastic_depth): StochasticDepth(p=0.011764705882352941, mode=row)\n",
       "          )\n",
       "        )\n",
       "        (2): Sequential(\n",
       "          (0): LayerNorm2d((96,), eps=1e-06, elementwise_affine=True)\n",
       "          (1): Conv2d(96, 192, kernel_size=(2, 2), stride=(2, 2))\n",
       "        )\n",
       "        (3): Sequential(\n",
       "          (0): CNBlock(\n",
       "            (block): Sequential(\n",
       "              (0): Conv2d(192, 192, kernel_size=(7, 7), stride=(1, 1), padding=(3, 3), groups=192)\n",
       "              (1): Permute()\n",
       "              (2): LayerNorm((192,), eps=1e-06, elementwise_affine=True)\n",
       "              (3): Linear(in_features=192, out_features=768, bias=True)\n",
       "              (4): GELU(approximate=none)\n",
       "              (5): Linear(in_features=768, out_features=192, bias=True)\n",
       "              (6): Permute()\n",
       "            )\n",
       "            (stochastic_depth): StochasticDepth(p=0.017647058823529415, mode=row)\n",
       "          )\n",
       "          (1): CNBlock(\n",
       "            (block): Sequential(\n",
       "              (0): Conv2d(192, 192, kernel_size=(7, 7), stride=(1, 1), padding=(3, 3), groups=192)\n",
       "              (1): Permute()\n",
       "              (2): LayerNorm((192,), eps=1e-06, elementwise_affine=True)\n",
       "              (3): Linear(in_features=192, out_features=768, bias=True)\n",
       "              (4): GELU(approximate=none)\n",
       "              (5): Linear(in_features=768, out_features=192, bias=True)\n",
       "              (6): Permute()\n",
       "            )\n",
       "            (stochastic_depth): StochasticDepth(p=0.023529411764705882, mode=row)\n",
       "          )\n",
       "          (2): CNBlock(\n",
       "            (block): Sequential(\n",
       "              (0): Conv2d(192, 192, kernel_size=(7, 7), stride=(1, 1), padding=(3, 3), groups=192)\n",
       "              (1): Permute()\n",
       "              (2): LayerNorm((192,), eps=1e-06, elementwise_affine=True)\n",
       "              (3): Linear(in_features=192, out_features=768, bias=True)\n",
       "              (4): GELU(approximate=none)\n",
       "              (5): Linear(in_features=768, out_features=192, bias=True)\n",
       "              (6): Permute()\n",
       "            )\n",
       "            (stochastic_depth): StochasticDepth(p=0.029411764705882353, mode=row)\n",
       "          )\n",
       "        )\n",
       "        (4): Sequential(\n",
       "          (0): LayerNorm2d((192,), eps=1e-06, elementwise_affine=True)\n",
       "          (1): Conv2d(192, 384, kernel_size=(2, 2), stride=(2, 2))\n",
       "        )\n",
       "        (5): Sequential(\n",
       "          (0): CNBlock(\n",
       "            (block): Sequential(\n",
       "              (0): Conv2d(384, 384, kernel_size=(7, 7), stride=(1, 1), padding=(3, 3), groups=384)\n",
       "              (1): Permute()\n",
       "              (2): LayerNorm((384,), eps=1e-06, elementwise_affine=True)\n",
       "              (3): Linear(in_features=384, out_features=1536, bias=True)\n",
       "              (4): GELU(approximate=none)\n",
       "              (5): Linear(in_features=1536, out_features=384, bias=True)\n",
       "              (6): Permute()\n",
       "            )\n",
       "            (stochastic_depth): StochasticDepth(p=0.03529411764705883, mode=row)\n",
       "          )\n",
       "          (1): CNBlock(\n",
       "            (block): Sequential(\n",
       "              (0): Conv2d(384, 384, kernel_size=(7, 7), stride=(1, 1), padding=(3, 3), groups=384)\n",
       "              (1): Permute()\n",
       "              (2): LayerNorm((384,), eps=1e-06, elementwise_affine=True)\n",
       "              (3): Linear(in_features=384, out_features=1536, bias=True)\n",
       "              (4): GELU(approximate=none)\n",
       "              (5): Linear(in_features=1536, out_features=384, bias=True)\n",
       "              (6): Permute()\n",
       "            )\n",
       "            (stochastic_depth): StochasticDepth(p=0.0411764705882353, mode=row)\n",
       "          )\n",
       "          (2): CNBlock(\n",
       "            (block): Sequential(\n",
       "              (0): Conv2d(384, 384, kernel_size=(7, 7), stride=(1, 1), padding=(3, 3), groups=384)\n",
       "              (1): Permute()\n",
       "              (2): LayerNorm((384,), eps=1e-06, elementwise_affine=True)\n",
       "              (3): Linear(in_features=384, out_features=1536, bias=True)\n",
       "              (4): GELU(approximate=none)\n",
       "              (5): Linear(in_features=1536, out_features=384, bias=True)\n",
       "              (6): Permute()\n",
       "            )\n",
       "            (stochastic_depth): StochasticDepth(p=0.047058823529411764, mode=row)\n",
       "          )\n",
       "          (3): CNBlock(\n",
       "            (block): Sequential(\n",
       "              (0): Conv2d(384, 384, kernel_size=(7, 7), stride=(1, 1), padding=(3, 3), groups=384)\n",
       "              (1): Permute()\n",
       "              (2): LayerNorm((384,), eps=1e-06, elementwise_affine=True)\n",
       "              (3): Linear(in_features=384, out_features=1536, bias=True)\n",
       "              (4): GELU(approximate=none)\n",
       "              (5): Linear(in_features=1536, out_features=384, bias=True)\n",
       "              (6): Permute()\n",
       "            )\n",
       "            (stochastic_depth): StochasticDepth(p=0.052941176470588235, mode=row)\n",
       "          )\n",
       "          (4): CNBlock(\n",
       "            (block): Sequential(\n",
       "              (0): Conv2d(384, 384, kernel_size=(7, 7), stride=(1, 1), padding=(3, 3), groups=384)\n",
       "              (1): Permute()\n",
       "              (2): LayerNorm((384,), eps=1e-06, elementwise_affine=True)\n",
       "              (3): Linear(in_features=384, out_features=1536, bias=True)\n",
       "              (4): GELU(approximate=none)\n",
       "              (5): Linear(in_features=1536, out_features=384, bias=True)\n",
       "              (6): Permute()\n",
       "            )\n",
       "            (stochastic_depth): StochasticDepth(p=0.058823529411764705, mode=row)\n",
       "          )\n",
       "          (5): CNBlock(\n",
       "            (block): Sequential(\n",
       "              (0): Conv2d(384, 384, kernel_size=(7, 7), stride=(1, 1), padding=(3, 3), groups=384)\n",
       "              (1): Permute()\n",
       "              (2): LayerNorm((384,), eps=1e-06, elementwise_affine=True)\n",
       "              (3): Linear(in_features=384, out_features=1536, bias=True)\n",
       "              (4): GELU(approximate=none)\n",
       "              (5): Linear(in_features=1536, out_features=384, bias=True)\n",
       "              (6): Permute()\n",
       "            )\n",
       "            (stochastic_depth): StochasticDepth(p=0.06470588235294118, mode=row)\n",
       "          )\n",
       "          (6): CNBlock(\n",
       "            (block): Sequential(\n",
       "              (0): Conv2d(384, 384, kernel_size=(7, 7), stride=(1, 1), padding=(3, 3), groups=384)\n",
       "              (1): Permute()\n",
       "              (2): LayerNorm((384,), eps=1e-06, elementwise_affine=True)\n",
       "              (3): Linear(in_features=384, out_features=1536, bias=True)\n",
       "              (4): GELU(approximate=none)\n",
       "              (5): Linear(in_features=1536, out_features=384, bias=True)\n",
       "              (6): Permute()\n",
       "            )\n",
       "            (stochastic_depth): StochasticDepth(p=0.07058823529411766, mode=row)\n",
       "          )\n",
       "          (7): CNBlock(\n",
       "            (block): Sequential(\n",
       "              (0): Conv2d(384, 384, kernel_size=(7, 7), stride=(1, 1), padding=(3, 3), groups=384)\n",
       "              (1): Permute()\n",
       "              (2): LayerNorm((384,), eps=1e-06, elementwise_affine=True)\n",
       "              (3): Linear(in_features=384, out_features=1536, bias=True)\n",
       "              (4): GELU(approximate=none)\n",
       "              (5): Linear(in_features=1536, out_features=384, bias=True)\n",
       "              (6): Permute()\n",
       "            )\n",
       "            (stochastic_depth): StochasticDepth(p=0.07647058823529412, mode=row)\n",
       "          )\n",
       "          (8): CNBlock(\n",
       "            (block): Sequential(\n",
       "              (0): Conv2d(384, 384, kernel_size=(7, 7), stride=(1, 1), padding=(3, 3), groups=384)\n",
       "              (1): Permute()\n",
       "              (2): LayerNorm((384,), eps=1e-06, elementwise_affine=True)\n",
       "              (3): Linear(in_features=384, out_features=1536, bias=True)\n",
       "              (4): GELU(approximate=none)\n",
       "              (5): Linear(in_features=1536, out_features=384, bias=True)\n",
       "              (6): Permute()\n",
       "            )\n",
       "            (stochastic_depth): StochasticDepth(p=0.0823529411764706, mode=row)\n",
       "          )\n",
       "        )\n",
       "        (6): Sequential(\n",
       "          (0): LayerNorm2d((384,), eps=1e-06, elementwise_affine=True)\n",
       "          (1): Conv2d(384, 768, kernel_size=(2, 2), stride=(2, 2))\n",
       "        )\n",
       "      )\n",
       "    )\n",
       "    (1): AdaptiveAvgPool2d(output_size=1)\n",
       "    (2): Flatten(start_dim=1, end_dim=-1)\n",
       "  )\n",
       "  (PreHead_0): Linear(in_features=768, out_features=256, bias=True)\n",
       "  (PreHead_0_NonLinearity): GELU(approximate=none)\n",
       "  (PostHead_0): Linear(in_features=256, out_features=128, bias=True)\n",
       "  (PostHead_0_NonLinearity): GELU(approximate=none)\n",
       ")>"
      ]
     },
     "execution_count": 29,
     "metadata": {},
     "output_type": "execute_result"
    }
   ],
   "source": [
    "model.forward"
   ]
  },
  {
   "cell_type": "code",
   "execution_count": 30,
   "id": "2d8bb188",
   "metadata": {},
   "outputs": [],
   "source": [
    "model.forward = model.forward_head"
   ]
  },
  {
   "cell_type": "code",
   "execution_count": 31,
   "id": "3d308b03",
   "metadata": {},
   "outputs": [
    {
     "data": {
      "text/plain": [
       "<bound method ModelTackOn.forward_head of ModelTackOn(\n",
       "  (base_model): Sequential(\n",
       "    (0): Sequential(\n",
       "      (0): Sequential(\n",
       "        (0): Conv2dNormActivation(\n",
       "          (0): Conv2d(3, 96, kernel_size=(4, 4), stride=(4, 4))\n",
       "          (1): LayerNorm2d((96,), eps=1e-06, elementwise_affine=True)\n",
       "        )\n",
       "        (1): Sequential(\n",
       "          (0): CNBlock(\n",
       "            (block): Sequential(\n",
       "              (0): Conv2d(96, 96, kernel_size=(7, 7), stride=(1, 1), padding=(3, 3), groups=96)\n",
       "              (1): Permute()\n",
       "              (2): LayerNorm((96,), eps=1e-06, elementwise_affine=True)\n",
       "              (3): Linear(in_features=96, out_features=384, bias=True)\n",
       "              (4): GELU(approximate=none)\n",
       "              (5): Linear(in_features=384, out_features=96, bias=True)\n",
       "              (6): Permute()\n",
       "            )\n",
       "            (stochastic_depth): StochasticDepth(p=0.0, mode=row)\n",
       "          )\n",
       "          (1): CNBlock(\n",
       "            (block): Sequential(\n",
       "              (0): Conv2d(96, 96, kernel_size=(7, 7), stride=(1, 1), padding=(3, 3), groups=96)\n",
       "              (1): Permute()\n",
       "              (2): LayerNorm((96,), eps=1e-06, elementwise_affine=True)\n",
       "              (3): Linear(in_features=96, out_features=384, bias=True)\n",
       "              (4): GELU(approximate=none)\n",
       "              (5): Linear(in_features=384, out_features=96, bias=True)\n",
       "              (6): Permute()\n",
       "            )\n",
       "            (stochastic_depth): StochasticDepth(p=0.0058823529411764705, mode=row)\n",
       "          )\n",
       "          (2): CNBlock(\n",
       "            (block): Sequential(\n",
       "              (0): Conv2d(96, 96, kernel_size=(7, 7), stride=(1, 1), padding=(3, 3), groups=96)\n",
       "              (1): Permute()\n",
       "              (2): LayerNorm((96,), eps=1e-06, elementwise_affine=True)\n",
       "              (3): Linear(in_features=96, out_features=384, bias=True)\n",
       "              (4): GELU(approximate=none)\n",
       "              (5): Linear(in_features=384, out_features=96, bias=True)\n",
       "              (6): Permute()\n",
       "            )\n",
       "            (stochastic_depth): StochasticDepth(p=0.011764705882352941, mode=row)\n",
       "          )\n",
       "        )\n",
       "        (2): Sequential(\n",
       "          (0): LayerNorm2d((96,), eps=1e-06, elementwise_affine=True)\n",
       "          (1): Conv2d(96, 192, kernel_size=(2, 2), stride=(2, 2))\n",
       "        )\n",
       "        (3): Sequential(\n",
       "          (0): CNBlock(\n",
       "            (block): Sequential(\n",
       "              (0): Conv2d(192, 192, kernel_size=(7, 7), stride=(1, 1), padding=(3, 3), groups=192)\n",
       "              (1): Permute()\n",
       "              (2): LayerNorm((192,), eps=1e-06, elementwise_affine=True)\n",
       "              (3): Linear(in_features=192, out_features=768, bias=True)\n",
       "              (4): GELU(approximate=none)\n",
       "              (5): Linear(in_features=768, out_features=192, bias=True)\n",
       "              (6): Permute()\n",
       "            )\n",
       "            (stochastic_depth): StochasticDepth(p=0.017647058823529415, mode=row)\n",
       "          )\n",
       "          (1): CNBlock(\n",
       "            (block): Sequential(\n",
       "              (0): Conv2d(192, 192, kernel_size=(7, 7), stride=(1, 1), padding=(3, 3), groups=192)\n",
       "              (1): Permute()\n",
       "              (2): LayerNorm((192,), eps=1e-06, elementwise_affine=True)\n",
       "              (3): Linear(in_features=192, out_features=768, bias=True)\n",
       "              (4): GELU(approximate=none)\n",
       "              (5): Linear(in_features=768, out_features=192, bias=True)\n",
       "              (6): Permute()\n",
       "            )\n",
       "            (stochastic_depth): StochasticDepth(p=0.023529411764705882, mode=row)\n",
       "          )\n",
       "          (2): CNBlock(\n",
       "            (block): Sequential(\n",
       "              (0): Conv2d(192, 192, kernel_size=(7, 7), stride=(1, 1), padding=(3, 3), groups=192)\n",
       "              (1): Permute()\n",
       "              (2): LayerNorm((192,), eps=1e-06, elementwise_affine=True)\n",
       "              (3): Linear(in_features=192, out_features=768, bias=True)\n",
       "              (4): GELU(approximate=none)\n",
       "              (5): Linear(in_features=768, out_features=192, bias=True)\n",
       "              (6): Permute()\n",
       "            )\n",
       "            (stochastic_depth): StochasticDepth(p=0.029411764705882353, mode=row)\n",
       "          )\n",
       "        )\n",
       "        (4): Sequential(\n",
       "          (0): LayerNorm2d((192,), eps=1e-06, elementwise_affine=True)\n",
       "          (1): Conv2d(192, 384, kernel_size=(2, 2), stride=(2, 2))\n",
       "        )\n",
       "        (5): Sequential(\n",
       "          (0): CNBlock(\n",
       "            (block): Sequential(\n",
       "              (0): Conv2d(384, 384, kernel_size=(7, 7), stride=(1, 1), padding=(3, 3), groups=384)\n",
       "              (1): Permute()\n",
       "              (2): LayerNorm((384,), eps=1e-06, elementwise_affine=True)\n",
       "              (3): Linear(in_features=384, out_features=1536, bias=True)\n",
       "              (4): GELU(approximate=none)\n",
       "              (5): Linear(in_features=1536, out_features=384, bias=True)\n",
       "              (6): Permute()\n",
       "            )\n",
       "            (stochastic_depth): StochasticDepth(p=0.03529411764705883, mode=row)\n",
       "          )\n",
       "          (1): CNBlock(\n",
       "            (block): Sequential(\n",
       "              (0): Conv2d(384, 384, kernel_size=(7, 7), stride=(1, 1), padding=(3, 3), groups=384)\n",
       "              (1): Permute()\n",
       "              (2): LayerNorm((384,), eps=1e-06, elementwise_affine=True)\n",
       "              (3): Linear(in_features=384, out_features=1536, bias=True)\n",
       "              (4): GELU(approximate=none)\n",
       "              (5): Linear(in_features=1536, out_features=384, bias=True)\n",
       "              (6): Permute()\n",
       "            )\n",
       "            (stochastic_depth): StochasticDepth(p=0.0411764705882353, mode=row)\n",
       "          )\n",
       "          (2): CNBlock(\n",
       "            (block): Sequential(\n",
       "              (0): Conv2d(384, 384, kernel_size=(7, 7), stride=(1, 1), padding=(3, 3), groups=384)\n",
       "              (1): Permute()\n",
       "              (2): LayerNorm((384,), eps=1e-06, elementwise_affine=True)\n",
       "              (3): Linear(in_features=384, out_features=1536, bias=True)\n",
       "              (4): GELU(approximate=none)\n",
       "              (5): Linear(in_features=1536, out_features=384, bias=True)\n",
       "              (6): Permute()\n",
       "            )\n",
       "            (stochastic_depth): StochasticDepth(p=0.047058823529411764, mode=row)\n",
       "          )\n",
       "          (3): CNBlock(\n",
       "            (block): Sequential(\n",
       "              (0): Conv2d(384, 384, kernel_size=(7, 7), stride=(1, 1), padding=(3, 3), groups=384)\n",
       "              (1): Permute()\n",
       "              (2): LayerNorm((384,), eps=1e-06, elementwise_affine=True)\n",
       "              (3): Linear(in_features=384, out_features=1536, bias=True)\n",
       "              (4): GELU(approximate=none)\n",
       "              (5): Linear(in_features=1536, out_features=384, bias=True)\n",
       "              (6): Permute()\n",
       "            )\n",
       "            (stochastic_depth): StochasticDepth(p=0.052941176470588235, mode=row)\n",
       "          )\n",
       "          (4): CNBlock(\n",
       "            (block): Sequential(\n",
       "              (0): Conv2d(384, 384, kernel_size=(7, 7), stride=(1, 1), padding=(3, 3), groups=384)\n",
       "              (1): Permute()\n",
       "              (2): LayerNorm((384,), eps=1e-06, elementwise_affine=True)\n",
       "              (3): Linear(in_features=384, out_features=1536, bias=True)\n",
       "              (4): GELU(approximate=none)\n",
       "              (5): Linear(in_features=1536, out_features=384, bias=True)\n",
       "              (6): Permute()\n",
       "            )\n",
       "            (stochastic_depth): StochasticDepth(p=0.058823529411764705, mode=row)\n",
       "          )\n",
       "          (5): CNBlock(\n",
       "            (block): Sequential(\n",
       "              (0): Conv2d(384, 384, kernel_size=(7, 7), stride=(1, 1), padding=(3, 3), groups=384)\n",
       "              (1): Permute()\n",
       "              (2): LayerNorm((384,), eps=1e-06, elementwise_affine=True)\n",
       "              (3): Linear(in_features=384, out_features=1536, bias=True)\n",
       "              (4): GELU(approximate=none)\n",
       "              (5): Linear(in_features=1536, out_features=384, bias=True)\n",
       "              (6): Permute()\n",
       "            )\n",
       "            (stochastic_depth): StochasticDepth(p=0.06470588235294118, mode=row)\n",
       "          )\n",
       "          (6): CNBlock(\n",
       "            (block): Sequential(\n",
       "              (0): Conv2d(384, 384, kernel_size=(7, 7), stride=(1, 1), padding=(3, 3), groups=384)\n",
       "              (1): Permute()\n",
       "              (2): LayerNorm((384,), eps=1e-06, elementwise_affine=True)\n",
       "              (3): Linear(in_features=384, out_features=1536, bias=True)\n",
       "              (4): GELU(approximate=none)\n",
       "              (5): Linear(in_features=1536, out_features=384, bias=True)\n",
       "              (6): Permute()\n",
       "            )\n",
       "            (stochastic_depth): StochasticDepth(p=0.07058823529411766, mode=row)\n",
       "          )\n",
       "          (7): CNBlock(\n",
       "            (block): Sequential(\n",
       "              (0): Conv2d(384, 384, kernel_size=(7, 7), stride=(1, 1), padding=(3, 3), groups=384)\n",
       "              (1): Permute()\n",
       "              (2): LayerNorm((384,), eps=1e-06, elementwise_affine=True)\n",
       "              (3): Linear(in_features=384, out_features=1536, bias=True)\n",
       "              (4): GELU(approximate=none)\n",
       "              (5): Linear(in_features=1536, out_features=384, bias=True)\n",
       "              (6): Permute()\n",
       "            )\n",
       "            (stochastic_depth): StochasticDepth(p=0.07647058823529412, mode=row)\n",
       "          )\n",
       "          (8): CNBlock(\n",
       "            (block): Sequential(\n",
       "              (0): Conv2d(384, 384, kernel_size=(7, 7), stride=(1, 1), padding=(3, 3), groups=384)\n",
       "              (1): Permute()\n",
       "              (2): LayerNorm((384,), eps=1e-06, elementwise_affine=True)\n",
       "              (3): Linear(in_features=384, out_features=1536, bias=True)\n",
       "              (4): GELU(approximate=none)\n",
       "              (5): Linear(in_features=1536, out_features=384, bias=True)\n",
       "              (6): Permute()\n",
       "            )\n",
       "            (stochastic_depth): StochasticDepth(p=0.0823529411764706, mode=row)\n",
       "          )\n",
       "        )\n",
       "        (6): Sequential(\n",
       "          (0): LayerNorm2d((384,), eps=1e-06, elementwise_affine=True)\n",
       "          (1): Conv2d(384, 768, kernel_size=(2, 2), stride=(2, 2))\n",
       "        )\n",
       "      )\n",
       "    )\n",
       "    (1): AdaptiveAvgPool2d(output_size=1)\n",
       "    (2): Flatten(start_dim=1, end_dim=-1)\n",
       "  )\n",
       "  (PreHead_0): Linear(in_features=768, out_features=256, bias=True)\n",
       "  (PreHead_0_NonLinearity): GELU(approximate=none)\n",
       "  (PostHead_0): Linear(in_features=256, out_features=128, bias=True)\n",
       "  (PostHead_0_NonLinearity): GELU(approximate=none)\n",
       ")>"
      ]
     },
     "execution_count": 31,
     "metadata": {},
     "output_type": "execute_result"
    }
   ],
   "source": [
    "model.forward"
   ]
  },
  {
   "cell_type": "code",
   "execution_count": 35,
   "id": "ae3f82ef",
   "metadata": {},
   "outputs": [],
   "source": [
    "transforms = torch.nn.Sequential(\n",
    "            ROInet.ScaleDynamicRange(scaler_bounds=(0,1)),\n",
    "            torchvision.transforms.Resize(\n",
    "                size=(224, 224),\n",
    "                interpolation=torchvision.transforms.InterpolationMode.BILINEAR\n",
    "            ), \n",
    "            ROInet.TileChannels(dim=0, n_channels=3),\n",
    "        )"
   ]
  },
  {
   "cell_type": "code",
   "execution_count": 36,
   "id": "32fdeb83",
   "metadata": {
    "scrolled": true
   },
   "outputs": [
    {
     "data": {
      "text/plain": [
       "Sequential(\n",
       "  (0): ScaleDynamicRange(scaler_bounds=(0, 1))\n",
       "  (1): Resize(size=(224, 224), interpolation=bilinear, max_size=None, antialias=None)\n",
       "  (2): TileChannels(dim=0)\n",
       ")"
      ]
     },
     "execution_count": 36,
     "metadata": {},
     "output_type": "execute_result"
    }
   ],
   "source": [
    "transforms"
   ]
  },
  {
   "cell_type": "code",
   "execution_count": 37,
   "id": "2387cf9a",
   "metadata": {},
   "outputs": [],
   "source": [
    "transforms_scripted = torch.jit.script(transforms)"
   ]
  },
  {
   "cell_type": "code",
   "execution_count": null,
   "id": "9fca19e2",
   "metadata": {},
   "outputs": [],
   "source": []
  },
  {
   "cell_type": "code",
   "execution_count": 38,
   "id": "e5504dea",
   "metadata": {},
   "outputs": [
    {
     "name": "stdout",
     "output_type": "stream",
     "text": [
      "Successful hash comparison. Found matching files: {'params': '/n/data1/hms/neurobio/sabatini/gyu/github_clone/ROICaT/notebooks/params.json', 'model': '/n/data1/hms/neurobio/sabatini/gyu/github_clone/ROICaT/notebooks/model.py', 'state_dict': '/n/data1/hms/neurobio/sabatini/gyu/github_clone/ROICaT/notebooks/ConvNext_tiny__1_0_unfrozen__simCLR.pth'}\n",
      "Imported model from /n/data1/hms/neurobio/sabatini/gyu/github_clone/ROICaT/notebooks/model.py\n",
      "Loaded params_model from /n/data1/hms/neurobio/sabatini/gyu/github_clone/ROICaT/notebooks/params.json\n",
      "Generated network using params_model\n",
      "Loaded state_dict into network from /n/data1/hms/neurobio/sabatini/gyu/github_clone/ROICaT/notebooks/ConvNext_tiny__1_0_unfrozen__simCLR.pth\n",
      "Loaded network onto device cuda:0\n"
     ]
    }
   ],
   "source": [
    "roinet = ROInet.ROInet_embedder(\n",
    "    device='cuda:0',\n",
    "    dir_networkFiles='/n/data1/hms/neurobio/sabatini/gyu/github_clone/ROICaT/notebooks',\n",
    "    download_from_gDrive='check_local_first',\n",
    "    gDriveID='1FCcPZUuOR7xG-hdO6Ei6mx8YnKysVsa8',\n",
    "    hash_dict_networkFiles=hash_dict_true,\n",
    "    verbose=True,\n",
    ")"
   ]
  },
  {
   "cell_type": "code",
   "execution_count": 153,
   "id": "020045fb",
   "metadata": {},
   "outputs": [],
   "source": [
    "ROIs_aligned_np = [roisparse.toarray() for roisparse in ROIs_aligned]"
   ]
  },
  {
   "cell_type": "code",
   "execution_count": 152,
   "id": "8eae02a2",
   "metadata": {},
   "outputs": [
    {
     "data": {
      "text/plain": [
       "{'data': (139917249892368, False),\n",
       " 'strides': None,\n",
       " 'descr': [('', '<f4')],\n",
       " 'typestr': '<f4',\n",
       " 'shape': (2775, 360960),\n",
       " 'version': 3}"
      ]
     },
     "execution_count": 152,
     "metadata": {},
     "output_type": "execute_result"
    }
   ],
   "source": [
    "ROIs_aligned[0].toarray().__array_interface__"
   ]
  },
  {
   "cell_type": "code",
   "execution_count": 154,
   "id": "386b9899",
   "metadata": {
    "scrolled": true
   },
   "outputs": [
    {
     "name": "stdout",
     "output_type": "stream",
     "text": [
      "Starting: resizing ROIs\n"
     ]
    },
    {
     "name": "stderr",
     "output_type": "stream",
     "text": [
      "\n",
      "  0%|          | 0/3 [00:00<?, ?it/s]\u001b[A\n",
      " 67%|██████▋   | 2/3 [01:55<00:57, 57.61s/it]\u001b[A\n",
      " 67%|██████▋   | 2/3 [02:06<00:57, 57.61s/it]\u001b[A\n",
      "100%|██████████| 3/3 [02:59<00:00, 59.76s/it]\u001b[A\n"
     ]
    },
    {
     "name": "stdout",
     "output_type": "stream",
     "text": [
      "Completed: resizing ROIs\n",
      "Defined image transformations: Sequential(\n",
      "  (0): ScaleDynamicRange(scaler_bounds=(0, 1))\n",
      "  (1): Resize(size=(224, 224), interpolation=bilinear, max_size=None, antialias=None)\n",
      "  (2): TileChannels(dim=0)\n",
      ")\n",
      "Defined dataset\n",
      "Defined dataloader\n"
     ]
    }
   ],
   "source": [
    "roinet.generate_dataloader(\n",
    "    ROI_images=ROIs_aligned_np,\n",
    "    um_per_pixel=1,\n",
    "    pref_plot=False,\n",
    "    batchSize_dataloader=8,\n",
    "    pinMemory_dataloader=True,\n",
    "    numWorkers_dataloader=mp.cpu_count(),\n",
    "    persistentWorkers_dataloader=True,\n",
    "    prefetchFactor_dataloader=2,    \n",
    ");"
   ]
  },
  {
   "cell_type": "code",
   "execution_count": 156,
   "id": "037764c2",
   "metadata": {
    "scrolled": false
   },
   "outputs": [
    {
     "data": {
      "text/plain": [
       "(8993, 360960, 1)"
      ]
     },
     "execution_count": 156,
     "metadata": {},
     "output_type": "execute_result"
    }
   ],
   "source": [
    "roinet.ROI_images_rs.shape"
   ]
  },
  {
   "cell_type": "code",
   "execution_count": 157,
   "id": "d2ae79f9",
   "metadata": {
    "scrolled": true
   },
   "outputs": [
    {
     "name": "stdout",
     "output_type": "stream",
     "text": [
      "starting: running data through network\n"
     ]
    },
    {
     "name": "stderr",
     "output_type": "stream",
     "text": [
      "\n",
      "  0%|          | 0/1125 [00:00<?, ?it/s]\u001b[A/home/gyh930/.conda/envs/ROICaT/lib/python3.9/site-packages/torch/nn/modules/module.py:1130: UserWarning: operator() profile_node %247 : int = prim::profile_ivalue(%out_dtype.1)\n",
      " does not have profile information (Triggered internally at  ../torch/csrc/jit/codegen/cuda/graph_fuser.cpp:104.)\n",
      "  return forward_call(*input, **kwargs)\n",
      "/home/gyh930/.conda/envs/ROICaT/lib/python3.9/site-packages/torch/nn/modules/module.py:1130: UserWarning: operator() profile_node %247 : int = prim::profile_ivalue(%out_dtype.1)\n",
      " does not have profile information (Triggered internally at  ../torch/csrc/jit/codegen/cuda/graph_fuser.cpp:104.)\n",
      "  return forward_call(*input, **kwargs)\n",
      "/home/gyh930/.conda/envs/ROICaT/lib/python3.9/site-packages/torch/nn/modules/module.py:1130: UserWarning: operator() profile_node %247 : int = prim::profile_ivalue(%out_dtype.1)\n",
      " does not have profile information (Triggered internally at  ../torch/csrc/jit/codegen/cuda/graph_fuser.cpp:104.)\n",
      "  return forward_call(*input, **kwargs)\n",
      "/home/gyh930/.conda/envs/ROICaT/lib/python3.9/site-packages/torch/nn/modules/module.py:1130: UserWarning: operator() profile_node %247 : int = prim::profile_ivalue(%out_dtype.1)\n",
      " does not have profile information (Triggered internally at  ../torch/csrc/jit/codegen/cuda/graph_fuser.cpp:104.)\n",
      "  return forward_call(*input, **kwargs)\n",
      "/home/gyh930/.conda/envs/ROICaT/lib/python3.9/site-packages/torch/nn/modules/module.py:1130: UserWarning: operator() profile_node %247 : int = prim::profile_ivalue(%out_dtype.1)\n",
      " does not have profile information (Triggered internally at  ../torch/csrc/jit/codegen/cuda/graph_fuser.cpp:104.)\n",
      "  return forward_call(*input, **kwargs)\n",
      "/home/gyh930/.conda/envs/ROICaT/lib/python3.9/site-packages/torch/nn/modules/module.py:1130: UserWarning: operator() profile_node %247 : int = prim::profile_ivalue(%out_dtype.1)\n",
      " does not have profile information (Triggered internally at  ../torch/csrc/jit/codegen/cuda/graph_fuser.cpp:104.)\n",
      "  return forward_call(*input, **kwargs)\n",
      "/home/gyh930/.conda/envs/ROICaT/lib/python3.9/site-packages/torch/nn/modules/module.py:1130: UserWarning: operator() profile_node %247 : int = prim::profile_ivalue(%out_dtype.1)\n",
      " does not have profile information (Triggered internally at  ../torch/csrc/jit/codegen/cuda/graph_fuser.cpp:104.)\n",
      "  return forward_call(*input, **kwargs)\n",
      "/home/gyh930/.conda/envs/ROICaT/lib/python3.9/site-packages/torch/nn/modules/module.py:1130: UserWarning: operator() profile_node %247 : int = prim::profile_ivalue(%out_dtype.1)\n",
      " does not have profile information (Triggered internally at  ../torch/csrc/jit/codegen/cuda/graph_fuser.cpp:104.)\n",
      "  return forward_call(*input, **kwargs)\n",
      "\n",
      "  0%|          | 1/1125 [01:09<21:30:08, 68.87s/it]\u001b[A/home/gyh930/.conda/envs/ROICaT/lib/python3.9/site-packages/torch/nn/modules/module.py:1130: UserWarning: operator() profile_node %247 : int = prim::profile_ivalue(%out_dtype.1)\n",
      " does not have profile information (Triggered internally at  ../torch/csrc/jit/codegen/cuda/graph_fuser.cpp:104.)\n",
      "  return forward_call(*input, **kwargs)\n",
      "/home/gyh930/.conda/envs/ROICaT/lib/python3.9/site-packages/torch/nn/modules/module.py:1130: UserWarning: operator() profile_node %247 : int = prim::profile_ivalue(%out_dtype.1)\n",
      " does not have profile information (Triggered internally at  ../torch/csrc/jit/codegen/cuda/graph_fuser.cpp:104.)\n",
      "  return forward_call(*input, **kwargs)\n",
      "/home/gyh930/.conda/envs/ROICaT/lib/python3.9/site-packages/torch/nn/modules/module.py:1130: UserWarning: operator() profile_node %247 : int = prim::profile_ivalue(%out_dtype.1)\n",
      " does not have profile information (Triggered internally at  ../torch/csrc/jit/codegen/cuda/graph_fuser.cpp:104.)\n",
      "  return forward_call(*input, **kwargs)\n",
      "/home/gyh930/.conda/envs/ROICaT/lib/python3.9/site-packages/torch/nn/modules/module.py:1130: UserWarning: operator() profile_node %247 : int = prim::profile_ivalue(%out_dtype.1)\n",
      " does not have profile information (Triggered internally at  ../torch/csrc/jit/codegen/cuda/graph_fuser.cpp:104.)\n",
      "  return forward_call(*input, **kwargs)\n",
      "/home/gyh930/.conda/envs/ROICaT/lib/python3.9/site-packages/torch/nn/modules/module.py:1130: UserWarning: operator() profile_node %247 : int = prim::profile_ivalue(%out_dtype.1)\n",
      " does not have profile information (Triggered internally at  ../torch/csrc/jit/codegen/cuda/graph_fuser.cpp:104.)\n",
      "  return forward_call(*input, **kwargs)\n",
      "/home/gyh930/.conda/envs/ROICaT/lib/python3.9/site-packages/torch/nn/modules/module.py:1130: UserWarning: operator() profile_node %247 : int = prim::profile_ivalue(%out_dtype.1)\n",
      " does not have profile information (Triggered internally at  ../torch/csrc/jit/codegen/cuda/graph_fuser.cpp:104.)\n",
      "  return forward_call(*input, **kwargs)\n",
      "/home/gyh930/.conda/envs/ROICaT/lib/python3.9/site-packages/torch/nn/modules/module.py:1130: UserWarning: operator() profile_node %247 : int = prim::profile_ivalue(%out_dtype.1)\n",
      " does not have profile information (Triggered internally at  ../torch/csrc/jit/codegen/cuda/graph_fuser.cpp:104.)\n",
      "  return forward_call(*input, **kwargs)\n",
      "/home/gyh930/.conda/envs/ROICaT/lib/python3.9/site-packages/torch/nn/modules/module.py:1130: UserWarning: operator() profile_node %247 : int = prim::profile_ivalue(%out_dtype.1)\n",
      " does not have profile information (Triggered internally at  ../torch/csrc/jit/codegen/cuda/graph_fuser.cpp:104.)\n",
      "  return forward_call(*input, **kwargs)\n",
      "/home/gyh930/.conda/envs/ROICaT/lib/python3.9/site-packages/torch/nn/modules/module.py:1130: UserWarning: operator() profile_node %247 : int = prim::profile_ivalue(%out_dtype.1)\n",
      " does not have profile information (Triggered internally at  ../torch/csrc/jit/codegen/cuda/graph_fuser.cpp:104.)\n",
      "  return forward_call(*input, **kwargs)\n",
      "/home/gyh930/.conda/envs/ROICaT/lib/python3.9/site-packages/torch/nn/modules/module.py:1130: UserWarning: operator() profile_node %247 : int = prim::profile_ivalue(%out_dtype.1)\n",
      " does not have profile information (Triggered internally at  ../torch/csrc/jit/codegen/cuda/graph_fuser.cpp:104.)\n",
      "  return forward_call(*input, **kwargs)\n",
      "/home/gyh930/.conda/envs/ROICaT/lib/python3.9/site-packages/torch/nn/modules/module.py:1130: UserWarning: operator() profile_node %247 : int = prim::profile_ivalue(%out_dtype.1)\n",
      " does not have profile information (Triggered internally at  ../torch/csrc/jit/codegen/cuda/graph_fuser.cpp:104.)\n",
      "  return forward_call(*input, **kwargs)\n",
      "/home/gyh930/.conda/envs/ROICaT/lib/python3.9/site-packages/torch/nn/modules/module.py:1130: UserWarning: operator() profile_node %247 : int = prim::profile_ivalue(%out_dtype.1)\n",
      " does not have profile information (Triggered internally at  ../torch/csrc/jit/codegen/cuda/graph_fuser.cpp:104.)\n",
      "  return forward_call(*input, **kwargs)\n",
      "/home/gyh930/.conda/envs/ROICaT/lib/python3.9/site-packages/torch/nn/modules/module.py:1130: UserWarning: operator() profile_node %247 : int = prim::profile_ivalue(%out_dtype.1)\n",
      " does not have profile information (Triggered internally at  ../torch/csrc/jit/codegen/cuda/graph_fuser.cpp:104.)\n",
      "  return forward_call(*input, **kwargs)\n",
      "/home/gyh930/.conda/envs/ROICaT/lib/python3.9/site-packages/torch/nn/modules/module.py:1130: UserWarning: operator() profile_node %247 : int = prim::profile_ivalue(%out_dtype.1)\n",
      " does not have profile information (Triggered internally at  ../torch/csrc/jit/codegen/cuda/graph_fuser.cpp:104.)\n",
      "  return forward_call(*input, **kwargs)\n",
      "/home/gyh930/.conda/envs/ROICaT/lib/python3.9/site-packages/torch/nn/modules/module.py:1130: UserWarning: operator() profile_node %247 : int = prim::profile_ivalue(%out_dtype.1)\n",
      " does not have profile information (Triggered internally at  ../torch/csrc/jit/codegen/cuda/graph_fuser.cpp:104.)\n",
      "  return forward_call(*input, **kwargs)\n",
      "/home/gyh930/.conda/envs/ROICaT/lib/python3.9/site-packages/torch/nn/modules/module.py:1130: UserWarning: operator() profile_node %247 : int = prim::profile_ivalue(%out_dtype.1)\n",
      " does not have profile information (Triggered internally at  ../torch/csrc/jit/codegen/cuda/graph_fuser.cpp:104.)\n",
      "  return forward_call(*input, **kwargs)\n",
      "/home/gyh930/.conda/envs/ROICaT/lib/python3.9/site-packages/torch/nn/modules/module.py:1130: UserWarning: operator() profile_node %247 : int = prim::profile_ivalue(%out_dtype.1)\n",
      " does not have profile information (Triggered internally at  ../torch/csrc/jit/codegen/cuda/graph_fuser.cpp:104.)\n",
      "  return forward_call(*input, **kwargs)\n"
     ]
    },
    {
     "name": "stderr",
     "output_type": "stream",
     "text": [
      "/home/gyh930/.conda/envs/ROICaT/lib/python3.9/site-packages/torch/nn/modules/module.py:1130: UserWarning: operator() profile_node %247 : int = prim::profile_ivalue(%out_dtype.1)\n",
      " does not have profile information (Triggered internally at  ../torch/csrc/jit/codegen/cuda/graph_fuser.cpp:104.)\n",
      "  return forward_call(*input, **kwargs)\n",
      "/home/gyh930/.conda/envs/ROICaT/lib/python3.9/site-packages/torch/nn/modules/module.py:1130: UserWarning: operator() profile_node %247 : int = prim::profile_ivalue(%out_dtype.1)\n",
      " does not have profile information (Triggered internally at  ../torch/csrc/jit/codegen/cuda/graph_fuser.cpp:104.)\n",
      "  return forward_call(*input, **kwargs)\n",
      "/home/gyh930/.conda/envs/ROICaT/lib/python3.9/site-packages/torch/nn/modules/module.py:1130: UserWarning: operator() profile_node %247 : int = prim::profile_ivalue(%out_dtype.1)\n",
      " does not have profile information (Triggered internally at  ../torch/csrc/jit/codegen/cuda/graph_fuser.cpp:104.)\n",
      "  return forward_call(*input, **kwargs)\n",
      "/home/gyh930/.conda/envs/ROICaT/lib/python3.9/site-packages/torch/nn/modules/module.py:1130: UserWarning: operator() profile_node %247 : int = prim::profile_ivalue(%out_dtype.1)\n",
      " does not have profile information (Triggered internally at  ../torch/csrc/jit/codegen/cuda/graph_fuser.cpp:104.)\n",
      "  return forward_call(*input, **kwargs)\n",
      "/home/gyh930/.conda/envs/ROICaT/lib/python3.9/site-packages/torch/nn/modules/module.py:1130: UserWarning: operator() profile_node %247 : int = prim::profile_ivalue(%out_dtype.1)\n",
      " does not have profile information (Triggered internally at  ../torch/csrc/jit/codegen/cuda/graph_fuser.cpp:104.)\n",
      "  return forward_call(*input, **kwargs)\n",
      "/home/gyh930/.conda/envs/ROICaT/lib/python3.9/site-packages/torch/nn/modules/module.py:1130: UserWarning: operator() profile_node %247 : int = prim::profile_ivalue(%out_dtype.1)\n",
      " does not have profile information (Triggered internally at  ../torch/csrc/jit/codegen/cuda/graph_fuser.cpp:104.)\n",
      "  return forward_call(*input, **kwargs)\n",
      "/home/gyh930/.conda/envs/ROICaT/lib/python3.9/site-packages/torch/nn/modules/module.py:1130: UserWarning: operator() profile_node %247 : int = prim::profile_ivalue(%out_dtype.1)\n",
      " does not have profile information (Triggered internally at  ../torch/csrc/jit/codegen/cuda/graph_fuser.cpp:104.)\n",
      "  return forward_call(*input, **kwargs)\n",
      "/home/gyh930/.conda/envs/ROICaT/lib/python3.9/site-packages/torch/nn/modules/module.py:1130: UserWarning: operator() profile_node %247 : int = prim::profile_ivalue(%out_dtype.1)\n",
      " does not have profile information (Triggered internally at  ../torch/csrc/jit/codegen/cuda/graph_fuser.cpp:104.)\n",
      "  return forward_call(*input, **kwargs)\n",
      "/home/gyh930/.conda/envs/ROICaT/lib/python3.9/site-packages/torch/nn/modules/module.py:1130: UserWarning: operator() profile_node %247 : int = prim::profile_ivalue(%out_dtype.1)\n",
      " does not have profile information (Triggered internally at  ../torch/csrc/jit/codegen/cuda/graph_fuser.cpp:104.)\n",
      "  return forward_call(*input, **kwargs)\n",
      "/home/gyh930/.conda/envs/ROICaT/lib/python3.9/site-packages/torch/nn/modules/module.py:1130: UserWarning: operator() profile_node %247 : int = prim::profile_ivalue(%out_dtype.1)\n",
      " does not have profile information (Triggered internally at  ../torch/csrc/jit/codegen/cuda/graph_fuser.cpp:104.)\n",
      "  return forward_call(*input, **kwargs)\n",
      "/home/gyh930/.conda/envs/ROICaT/lib/python3.9/site-packages/torch/nn/modules/module.py:1130: UserWarning: operator() profile_node %247 : int = prim::profile_ivalue(%out_dtype.1)\n",
      " does not have profile information (Triggered internally at  ../torch/csrc/jit/codegen/cuda/graph_fuser.cpp:104.)\n",
      "  return forward_call(*input, **kwargs)\n",
      "/home/gyh930/.conda/envs/ROICaT/lib/python3.9/site-packages/torch/nn/modules/module.py:1130: UserWarning: operator() profile_node %247 : int = prim::profile_ivalue(%out_dtype.1)\n",
      " does not have profile information (Triggered internally at  ../torch/csrc/jit/codegen/cuda/graph_fuser.cpp:104.)\n",
      "  return forward_call(*input, **kwargs)\n",
      "/home/gyh930/.conda/envs/ROICaT/lib/python3.9/site-packages/torch/nn/modules/module.py:1130: UserWarning: operator() profile_node %247 : int = prim::profile_ivalue(%out_dtype.1)\n",
      " does not have profile information (Triggered internally at  ../torch/csrc/jit/codegen/cuda/graph_fuser.cpp:104.)\n",
      "  return forward_call(*input, **kwargs)\n",
      "/home/gyh930/.conda/envs/ROICaT/lib/python3.9/site-packages/torch/nn/modules/module.py:1130: UserWarning: operator() profile_node %247 : int = prim::profile_ivalue(%out_dtype.1)\n",
      " does not have profile information (Triggered internally at  ../torch/csrc/jit/codegen/cuda/graph_fuser.cpp:104.)\n",
      "  return forward_call(*input, **kwargs)\n",
      "/home/gyh930/.conda/envs/ROICaT/lib/python3.9/site-packages/torch/nn/modules/module.py:1130: UserWarning: operator() profile_node %247 : int = prim::profile_ivalue(%out_dtype.1)\n",
      " does not have profile information (Triggered internally at  ../torch/csrc/jit/codegen/cuda/graph_fuser.cpp:104.)\n",
      "  return forward_call(*input, **kwargs)\n",
      "/home/gyh930/.conda/envs/ROICaT/lib/python3.9/site-packages/torch/nn/modules/module.py:1130: UserWarning: operator() profile_node %247 : int = prim::profile_ivalue(%out_dtype.1)\n",
      " does not have profile information (Triggered internally at  ../torch/csrc/jit/codegen/cuda/graph_fuser.cpp:104.)\n",
      "  return forward_call(*input, **kwargs)\n",
      "/home/gyh930/.conda/envs/ROICaT/lib/python3.9/site-packages/torch/nn/modules/module.py:1130: UserWarning: operator() profile_node %247 : int = prim::profile_ivalue(%out_dtype.1)\n",
      " does not have profile information (Triggered internally at  ../torch/csrc/jit/codegen/cuda/graph_fuser.cpp:104.)\n",
      "  return forward_call(*input, **kwargs)\n",
      "/home/gyh930/.conda/envs/ROICaT/lib/python3.9/site-packages/torch/nn/modules/module.py:1130: UserWarning: operator() profile_node %247 : int = prim::profile_ivalue(%out_dtype.1)\n",
      " does not have profile information (Triggered internally at  ../torch/csrc/jit/codegen/cuda/graph_fuser.cpp:104.)\n",
      "  return forward_call(*input, **kwargs)\n",
      "/home/gyh930/.conda/envs/ROICaT/lib/python3.9/site-packages/torch/nn/modules/module.py:1130: UserWarning: operator() profile_node %247 : int = prim::profile_ivalue(%out_dtype.1)\n",
      " does not have profile information (Triggered internally at  ../torch/csrc/jit/codegen/cuda/graph_fuser.cpp:104.)\n",
      "  return forward_call(*input, **kwargs)\n",
      "/home/gyh930/.conda/envs/ROICaT/lib/python3.9/site-packages/torch/nn/modules/module.py:1130: UserWarning: operator() profile_node %247 : int = prim::profile_ivalue(%out_dtype.1)\n",
      " does not have profile information (Triggered internally at  ../torch/csrc/jit/codegen/cuda/graph_fuser.cpp:104.)\n",
      "  return forward_call(*input, **kwargs)\n",
      "/home/gyh930/.conda/envs/ROICaT/lib/python3.9/site-packages/torch/nn/modules/module.py:1130: UserWarning: operator() profile_node %247 : int = prim::profile_ivalue(%out_dtype.1)\n",
      " does not have profile information (Triggered internally at  ../torch/csrc/jit/codegen/cuda/graph_fuser.cpp:104.)\n",
      "  return forward_call(*input, **kwargs)\n",
      "/home/gyh930/.conda/envs/ROICaT/lib/python3.9/site-packages/torch/nn/modules/module.py:1130: UserWarning: operator() profile_node %247 : int = prim::profile_ivalue(%out_dtype.1)\n",
      " does not have profile information (Triggered internally at  ../torch/csrc/jit/codegen/cuda/graph_fuser.cpp:104.)\n",
      "  return forward_call(*input, **kwargs)\n",
      "/home/gyh930/.conda/envs/ROICaT/lib/python3.9/site-packages/torch/nn/modules/module.py:1130: UserWarning: operator() profile_node %247 : int = prim::profile_ivalue(%out_dtype.1)\n",
      " does not have profile information (Triggered internally at  ../torch/csrc/jit/codegen/cuda/graph_fuser.cpp:104.)\n",
      "  return forward_call(*input, **kwargs)\n",
      "100%|██████████| 1125/1125 [02:05<00:00,  8.97it/s]"
     ]
    },
    {
     "name": "stdout",
     "output_type": "stream",
     "text": [
      "completed: running data through network\n"
     ]
    },
    {
     "name": "stderr",
     "output_type": "stream",
     "text": [
      "\n"
     ]
    }
   ],
   "source": [
    "roinet.generate_latents();"
   ]
  },
  {
   "cell_type": "code",
   "execution_count": 159,
   "id": "9dfd99b2",
   "metadata": {
    "scrolled": true
   },
   "outputs": [
    {
     "data": {
      "text/plain": [
       "torch.Size([8993, 256])"
      ]
     },
     "execution_count": 159,
     "metadata": {},
     "output_type": "execute_result"
    }
   ],
   "source": [
    "roinet.latents.size()"
   ]
  },
  {
   "cell_type": "markdown",
   "id": "06b239e7",
   "metadata": {},
   "source": [
    "# SWT"
   ]
  },
  {
   "cell_type": "code",
   "execution_count": 68,
   "id": "42f3aefc",
   "metadata": {},
   "outputs": [
    {
     "data": {
      "text/plain": [
       "(3201, 512, 705)"
      ]
     },
     "execution_count": 68,
     "metadata": {},
     "output_type": "execute_result"
    }
   ],
   "source": [
    "ROI_aligned.shape"
   ]
  },
  {
   "cell_type": "code",
   "execution_count": 64,
   "id": "0365797e",
   "metadata": {},
   "outputs": [
    {
     "data": {
      "text/plain": [
       "(2775, 360960)"
      ]
     },
     "execution_count": 64,
     "metadata": {},
     "output_type": "execute_result"
    }
   ],
   "source": [
    "ROIs_aligned[0].shape"
   ]
  },
  {
   "cell_type": "code",
   "execution_count": 66,
   "id": "def13649",
   "metadata": {},
   "outputs": [
    {
     "data": {
      "text/plain": [
       "(3017, 360960)"
      ]
     },
     "execution_count": 66,
     "metadata": {},
     "output_type": "execute_result"
    }
   ],
   "source": [
    "ROIs_aligned[1].shape"
   ]
  },
  {
   "cell_type": "code",
   "execution_count": 67,
   "id": "0dc3ee76",
   "metadata": {},
   "outputs": [
    {
     "data": {
      "text/plain": [
       "(3201, 360960)"
      ]
     },
     "execution_count": 67,
     "metadata": {},
     "output_type": "execute_result"
    }
   ],
   "source": [
    "ROIs_aligned[2].shape"
   ]
  },
  {
   "cell_type": "code",
   "execution_count": 69,
   "id": "7cada59e",
   "metadata": {
    "scrolled": true
   },
   "outputs": [
    {
     "name": "stdout",
     "output_type": "stream",
     "text": [
      "SWT initialized\n"
     ]
    }
   ],
   "source": [
    "swt = scatteringWaveletTransformer.SWT(\n",
    "    kwargs_Scattering2D={'J': 2, 'L': 8}, \n",
    "    image_shape=ROI_aligned[0].shape[0:2], \n",
    "    device='cuda:0'\n",
    ")"
   ]
  },
  {
   "cell_type": "code",
   "execution_count": null,
   "id": "975e40a5",
   "metadata": {},
   "outputs": [],
   "source": []
  },
  {
   "cell_type": "code",
   "execution_count": 71,
   "id": "ccb8c4fc",
   "metadata": {},
   "outputs": [
    {
     "name": "stdout",
     "output_type": "stream",
     "text": [
      "Starting: SWT transform on ROIs\n"
     ]
    },
    {
     "name": "stderr",
     "output_type": "stream",
     "text": [
      "\r",
      "  0%|          | 0/16389.12 [00:00<?, ?it/s]"
     ]
    },
    {
     "ename": "RuntimeError",
     "evalue": "Tensor must be of spatial size (512,705).",
     "output_type": "error",
     "traceback": [
      "\u001b[0;31m---------------------------------------------------------------------------\u001b[0m",
      "\u001b[0;31mRuntimeError\u001b[0m                              Traceback (most recent call last)",
      "Input \u001b[0;32mIn [71]\u001b[0m, in \u001b[0;36m<cell line: 1>\u001b[0;34m()\u001b[0m\n\u001b[0;32m----> 1\u001b[0m \u001b[43mswt\u001b[49m\u001b[38;5;241;43m.\u001b[39;49m\u001b[43mtransform\u001b[49m\u001b[43m(\u001b[49m\n\u001b[1;32m      2\u001b[0m \u001b[43m    \u001b[49m\u001b[43mROI_images\u001b[49m\u001b[38;5;241;43m=\u001b[39;49m\u001b[43mnp\u001b[49m\u001b[38;5;241;43m.\u001b[39;49m\u001b[43mconcatenate\u001b[49m\u001b[43m(\u001b[49m\u001b[43mROI_aligned\u001b[49m\u001b[43m,\u001b[49m\u001b[43m \u001b[49m\u001b[43maxis\u001b[49m\u001b[38;5;241;43m=\u001b[39;49m\u001b[38;5;241;43m0\u001b[39;49m\u001b[43m)\u001b[49m\u001b[43m,\u001b[49m\n\u001b[1;32m      3\u001b[0m \u001b[43m    \u001b[49m\u001b[43mbatch_size\u001b[49m\u001b[38;5;241;43m=\u001b[39;49m\u001b[38;5;241;43m100\u001b[39;49m\u001b[43m,\u001b[49m\n\u001b[1;32m      4\u001b[0m \u001b[43m)\u001b[49m\n",
      "File \u001b[0;32m/n/data1/hms/neurobio/sabatini/gyu/github_clone/ROICaT/tracking/scatteringWaveletTransformer.py:60\u001b[0m, in \u001b[0;36mSWT.transform\u001b[0;34m(self, ROI_images, batch_size)\u001b[0m\n\u001b[1;32m     58\u001b[0m     sfs \u001b[38;5;241m=\u001b[39m torch\u001b[38;5;241m.\u001b[39mas_tensor(np\u001b[38;5;241m.\u001b[39mascontiguousarray(ims_batch[\u001b[38;5;28;01mNone\u001b[39;00m,\u001b[38;5;241m.\u001b[39m\u001b[38;5;241m.\u001b[39m\u001b[38;5;241m.\u001b[39m]), device\u001b[38;5;241m=\u001b[39m\u001b[38;5;28mself\u001b[39m\u001b[38;5;241m.\u001b[39m_device, dtype\u001b[38;5;241m=\u001b[39mtorch\u001b[38;5;241m.\u001b[39mfloat32)\n\u001b[1;32m     59\u001b[0m     \u001b[38;5;28;01mreturn\u001b[39;00m \u001b[38;5;28mself\u001b[39m\u001b[38;5;241m.\u001b[39mswt(sfs[\u001b[38;5;28;01mNone\u001b[39;00m,\u001b[38;5;241m.\u001b[39m\u001b[38;5;241m.\u001b[39m\u001b[38;5;241m.\u001b[39m])\u001b[38;5;241m.\u001b[39msqueeze()\u001b[38;5;241m.\u001b[39mcpu()\n\u001b[0;32m---> 60\u001b[0m \u001b[38;5;28mself\u001b[39m\u001b[38;5;241m.\u001b[39mlatents \u001b[38;5;241m=\u001b[39m torch\u001b[38;5;241m.\u001b[39mcat([helper_swt(ims_batch) \u001b[38;5;28;01mfor\u001b[39;00m ims_batch \u001b[38;5;129;01min\u001b[39;00m tqdm(helpers\u001b[38;5;241m.\u001b[39mmake_batches(ROI_images, batch_size\u001b[38;5;241m=\u001b[39mbatch_size), total\u001b[38;5;241m=\u001b[39mROI_images\u001b[38;5;241m.\u001b[39mshape[\u001b[38;5;241m0\u001b[39m] \u001b[38;5;241m/\u001b[39m batch_size, mininterval\u001b[38;5;241m=\u001b[39m\u001b[38;5;241m60\u001b[39m)], dim\u001b[38;5;241m=\u001b[39m\u001b[38;5;241m0\u001b[39m)\n\u001b[1;32m     61\u001b[0m \u001b[38;5;28mself\u001b[39m\u001b[38;5;241m.\u001b[39mlatents \u001b[38;5;241m=\u001b[39m \u001b[38;5;28mself\u001b[39m\u001b[38;5;241m.\u001b[39mlatents\u001b[38;5;241m.\u001b[39mreshape(\u001b[38;5;28mself\u001b[39m\u001b[38;5;241m.\u001b[39mlatents\u001b[38;5;241m.\u001b[39mshape[\u001b[38;5;241m0\u001b[39m], \u001b[38;5;241m-\u001b[39m\u001b[38;5;241m1\u001b[39m)\n\u001b[1;32m     62\u001b[0m \u001b[38;5;28mprint\u001b[39m(\u001b[38;5;124m'\u001b[39m\u001b[38;5;124mCompleted: SWT transform on ROIs\u001b[39m\u001b[38;5;124m'\u001b[39m) \u001b[38;5;28;01mif\u001b[39;00m \u001b[38;5;28mself\u001b[39m\u001b[38;5;241m.\u001b[39m_verbose \u001b[38;5;28;01melse\u001b[39;00m \u001b[38;5;28;01mNone\u001b[39;00m\n",
      "File \u001b[0;32m/n/data1/hms/neurobio/sabatini/gyu/github_clone/ROICaT/tracking/scatteringWaveletTransformer.py:60\u001b[0m, in \u001b[0;36m<listcomp>\u001b[0;34m(.0)\u001b[0m\n\u001b[1;32m     58\u001b[0m     sfs \u001b[38;5;241m=\u001b[39m torch\u001b[38;5;241m.\u001b[39mas_tensor(np\u001b[38;5;241m.\u001b[39mascontiguousarray(ims_batch[\u001b[38;5;28;01mNone\u001b[39;00m,\u001b[38;5;241m.\u001b[39m\u001b[38;5;241m.\u001b[39m\u001b[38;5;241m.\u001b[39m]), device\u001b[38;5;241m=\u001b[39m\u001b[38;5;28mself\u001b[39m\u001b[38;5;241m.\u001b[39m_device, dtype\u001b[38;5;241m=\u001b[39mtorch\u001b[38;5;241m.\u001b[39mfloat32)\n\u001b[1;32m     59\u001b[0m     \u001b[38;5;28;01mreturn\u001b[39;00m \u001b[38;5;28mself\u001b[39m\u001b[38;5;241m.\u001b[39mswt(sfs[\u001b[38;5;28;01mNone\u001b[39;00m,\u001b[38;5;241m.\u001b[39m\u001b[38;5;241m.\u001b[39m\u001b[38;5;241m.\u001b[39m])\u001b[38;5;241m.\u001b[39msqueeze()\u001b[38;5;241m.\u001b[39mcpu()\n\u001b[0;32m---> 60\u001b[0m \u001b[38;5;28mself\u001b[39m\u001b[38;5;241m.\u001b[39mlatents \u001b[38;5;241m=\u001b[39m torch\u001b[38;5;241m.\u001b[39mcat([\u001b[43mhelper_swt\u001b[49m\u001b[43m(\u001b[49m\u001b[43mims_batch\u001b[49m\u001b[43m)\u001b[49m \u001b[38;5;28;01mfor\u001b[39;00m ims_batch \u001b[38;5;129;01min\u001b[39;00m tqdm(helpers\u001b[38;5;241m.\u001b[39mmake_batches(ROI_images, batch_size\u001b[38;5;241m=\u001b[39mbatch_size), total\u001b[38;5;241m=\u001b[39mROI_images\u001b[38;5;241m.\u001b[39mshape[\u001b[38;5;241m0\u001b[39m] \u001b[38;5;241m/\u001b[39m batch_size, mininterval\u001b[38;5;241m=\u001b[39m\u001b[38;5;241m60\u001b[39m)], dim\u001b[38;5;241m=\u001b[39m\u001b[38;5;241m0\u001b[39m)\n\u001b[1;32m     61\u001b[0m \u001b[38;5;28mself\u001b[39m\u001b[38;5;241m.\u001b[39mlatents \u001b[38;5;241m=\u001b[39m \u001b[38;5;28mself\u001b[39m\u001b[38;5;241m.\u001b[39mlatents\u001b[38;5;241m.\u001b[39mreshape(\u001b[38;5;28mself\u001b[39m\u001b[38;5;241m.\u001b[39mlatents\u001b[38;5;241m.\u001b[39mshape[\u001b[38;5;241m0\u001b[39m], \u001b[38;5;241m-\u001b[39m\u001b[38;5;241m1\u001b[39m)\n\u001b[1;32m     62\u001b[0m \u001b[38;5;28mprint\u001b[39m(\u001b[38;5;124m'\u001b[39m\u001b[38;5;124mCompleted: SWT transform on ROIs\u001b[39m\u001b[38;5;124m'\u001b[39m) \u001b[38;5;28;01mif\u001b[39;00m \u001b[38;5;28mself\u001b[39m\u001b[38;5;241m.\u001b[39m_verbose \u001b[38;5;28;01melse\u001b[39;00m \u001b[38;5;28;01mNone\u001b[39;00m\n",
      "File \u001b[0;32m/n/data1/hms/neurobio/sabatini/gyu/github_clone/ROICaT/tracking/scatteringWaveletTransformer.py:59\u001b[0m, in \u001b[0;36mSWT.transform.<locals>.helper_swt\u001b[0;34m(ims_batch)\u001b[0m\n\u001b[1;32m     57\u001b[0m \u001b[38;5;28;01mdef\u001b[39;00m \u001b[38;5;21mhelper_swt\u001b[39m(ims_batch):\n\u001b[1;32m     58\u001b[0m     sfs \u001b[38;5;241m=\u001b[39m torch\u001b[38;5;241m.\u001b[39mas_tensor(np\u001b[38;5;241m.\u001b[39mascontiguousarray(ims_batch[\u001b[38;5;28;01mNone\u001b[39;00m,\u001b[38;5;241m.\u001b[39m\u001b[38;5;241m.\u001b[39m\u001b[38;5;241m.\u001b[39m]), device\u001b[38;5;241m=\u001b[39m\u001b[38;5;28mself\u001b[39m\u001b[38;5;241m.\u001b[39m_device, dtype\u001b[38;5;241m=\u001b[39mtorch\u001b[38;5;241m.\u001b[39mfloat32)\n\u001b[0;32m---> 59\u001b[0m     \u001b[38;5;28;01mreturn\u001b[39;00m \u001b[38;5;28;43mself\u001b[39;49m\u001b[38;5;241;43m.\u001b[39;49m\u001b[43mswt\u001b[49m\u001b[43m(\u001b[49m\u001b[43msfs\u001b[49m\u001b[43m[\u001b[49m\u001b[38;5;28;43;01mNone\u001b[39;49;00m\u001b[43m,\u001b[49m\u001b[38;5;241;43m.\u001b[39;49m\u001b[38;5;241;43m.\u001b[39;49m\u001b[38;5;241;43m.\u001b[39;49m\u001b[43m]\u001b[49m\u001b[43m)\u001b[49m\u001b[38;5;241m.\u001b[39msqueeze()\u001b[38;5;241m.\u001b[39mcpu()\n",
      "File \u001b[0;32m~/.conda/envs/ROICaT/lib/python3.9/site-packages/torch/nn/modules/module.py:1130\u001b[0m, in \u001b[0;36mModule._call_impl\u001b[0;34m(self, *input, **kwargs)\u001b[0m\n\u001b[1;32m   1126\u001b[0m \u001b[38;5;66;03m# If we don't have any hooks, we want to skip the rest of the logic in\u001b[39;00m\n\u001b[1;32m   1127\u001b[0m \u001b[38;5;66;03m# this function, and just call forward.\u001b[39;00m\n\u001b[1;32m   1128\u001b[0m \u001b[38;5;28;01mif\u001b[39;00m \u001b[38;5;129;01mnot\u001b[39;00m (\u001b[38;5;28mself\u001b[39m\u001b[38;5;241m.\u001b[39m_backward_hooks \u001b[38;5;129;01mor\u001b[39;00m \u001b[38;5;28mself\u001b[39m\u001b[38;5;241m.\u001b[39m_forward_hooks \u001b[38;5;129;01mor\u001b[39;00m \u001b[38;5;28mself\u001b[39m\u001b[38;5;241m.\u001b[39m_forward_pre_hooks \u001b[38;5;129;01mor\u001b[39;00m _global_backward_hooks\n\u001b[1;32m   1129\u001b[0m         \u001b[38;5;129;01mor\u001b[39;00m _global_forward_hooks \u001b[38;5;129;01mor\u001b[39;00m _global_forward_pre_hooks):\n\u001b[0;32m-> 1130\u001b[0m     \u001b[38;5;28;01mreturn\u001b[39;00m \u001b[43mforward_call\u001b[49m\u001b[43m(\u001b[49m\u001b[38;5;241;43m*\u001b[39;49m\u001b[38;5;28;43minput\u001b[39;49m\u001b[43m,\u001b[49m\u001b[43m \u001b[49m\u001b[38;5;241;43m*\u001b[39;49m\u001b[38;5;241;43m*\u001b[39;49m\u001b[43mkwargs\u001b[49m\u001b[43m)\u001b[49m\n\u001b[1;32m   1131\u001b[0m \u001b[38;5;66;03m# Do not call functions when jit is used\u001b[39;00m\n\u001b[1;32m   1132\u001b[0m full_backward_hooks, non_full_backward_hooks \u001b[38;5;241m=\u001b[39m [], []\n",
      "File \u001b[0;32m~/.conda/envs/ROICaT/lib/python3.9/site-packages/kymatio/frontend/torch_frontend.py:23\u001b[0m, in \u001b[0;36mScatteringTorch.forward\u001b[0;34m(self, x)\u001b[0m\n\u001b[1;32m     19\u001b[0m \u001b[38;5;124;03m\"\"\"This method is an alias for `scattering`.\"\"\"\u001b[39;00m\n\u001b[1;32m     21\u001b[0m input_checks(x)\n\u001b[0;32m---> 23\u001b[0m \u001b[38;5;28;01mreturn\u001b[39;00m \u001b[38;5;28;43mself\u001b[39;49m\u001b[38;5;241;43m.\u001b[39;49m\u001b[43mscattering\u001b[49m\u001b[43m(\u001b[49m\u001b[43mx\u001b[49m\u001b[43m)\u001b[49m\n",
      "File \u001b[0;32m~/.conda/envs/ROICaT/lib/python3.9/site-packages/kymatio/scattering2d/frontend/torch_frontend.py:92\u001b[0m, in \u001b[0;36mScatteringTorch2D.scattering\u001b[0;34m(self, input)\u001b[0m\n\u001b[1;32m     89\u001b[0m     \u001b[38;5;28;01mraise\u001b[39;00m \u001b[38;5;167;01mRuntimeError\u001b[39;00m(\u001b[38;5;124m'\u001b[39m\u001b[38;5;124mTensor must be contiguous.\u001b[39m\u001b[38;5;124m'\u001b[39m)\n\u001b[1;32m     91\u001b[0m \u001b[38;5;28;01mif\u001b[39;00m (\u001b[38;5;28minput\u001b[39m\u001b[38;5;241m.\u001b[39mshape[\u001b[38;5;241m-\u001b[39m\u001b[38;5;241m1\u001b[39m] \u001b[38;5;241m!=\u001b[39m \u001b[38;5;28mself\u001b[39m\u001b[38;5;241m.\u001b[39mN \u001b[38;5;129;01mor\u001b[39;00m \u001b[38;5;28minput\u001b[39m\u001b[38;5;241m.\u001b[39mshape[\u001b[38;5;241m-\u001b[39m\u001b[38;5;241m2\u001b[39m] \u001b[38;5;241m!=\u001b[39m \u001b[38;5;28mself\u001b[39m\u001b[38;5;241m.\u001b[39mM) \u001b[38;5;129;01mand\u001b[39;00m \u001b[38;5;129;01mnot\u001b[39;00m \u001b[38;5;28mself\u001b[39m\u001b[38;5;241m.\u001b[39mpre_pad:\n\u001b[0;32m---> 92\u001b[0m     \u001b[38;5;28;01mraise\u001b[39;00m \u001b[38;5;167;01mRuntimeError\u001b[39;00m(\u001b[38;5;124m'\u001b[39m\u001b[38;5;124mTensor must be of spatial size (\u001b[39m\u001b[38;5;132;01m%i\u001b[39;00m\u001b[38;5;124m,\u001b[39m\u001b[38;5;132;01m%i\u001b[39;00m\u001b[38;5;124m).\u001b[39m\u001b[38;5;124m'\u001b[39m \u001b[38;5;241m%\u001b[39m (\u001b[38;5;28mself\u001b[39m\u001b[38;5;241m.\u001b[39mM, \u001b[38;5;28mself\u001b[39m\u001b[38;5;241m.\u001b[39mN))\n\u001b[1;32m     94\u001b[0m \u001b[38;5;28;01mif\u001b[39;00m (\u001b[38;5;28minput\u001b[39m\u001b[38;5;241m.\u001b[39mshape[\u001b[38;5;241m-\u001b[39m\u001b[38;5;241m1\u001b[39m] \u001b[38;5;241m!=\u001b[39m \u001b[38;5;28mself\u001b[39m\u001b[38;5;241m.\u001b[39mN_padded \u001b[38;5;129;01mor\u001b[39;00m \u001b[38;5;28minput\u001b[39m\u001b[38;5;241m.\u001b[39mshape[\u001b[38;5;241m-\u001b[39m\u001b[38;5;241m2\u001b[39m] \u001b[38;5;241m!=\u001b[39m \u001b[38;5;28mself\u001b[39m\u001b[38;5;241m.\u001b[39mM_padded) \u001b[38;5;129;01mand\u001b[39;00m \u001b[38;5;28mself\u001b[39m\u001b[38;5;241m.\u001b[39mpre_pad:\n\u001b[1;32m     95\u001b[0m     \u001b[38;5;28;01mraise\u001b[39;00m \u001b[38;5;167;01mRuntimeError\u001b[39;00m(\u001b[38;5;124m'\u001b[39m\u001b[38;5;124mPadded tensor must be of spatial size (\u001b[39m\u001b[38;5;132;01m%i\u001b[39;00m\u001b[38;5;124m,\u001b[39m\u001b[38;5;132;01m%i\u001b[39;00m\u001b[38;5;124m).\u001b[39m\u001b[38;5;124m'\u001b[39m \u001b[38;5;241m%\u001b[39m (\u001b[38;5;28mself\u001b[39m\u001b[38;5;241m.\u001b[39mM_padded, \u001b[38;5;28mself\u001b[39m\u001b[38;5;241m.\u001b[39mN_padded))\n",
      "\u001b[0;31mRuntimeError\u001b[0m: Tensor must be of spatial size (512,705)."
     ]
    }
   ],
   "source": [
    "swt.transform(\n",
    "    ROI_images=np.concatenate(ROI_aligned, axis=0),\n",
    "    batch_size=100,\n",
    ");"
   ]
  },
  {
   "cell_type": "code",
   "execution_count": null,
   "id": "ca4a6fe3",
   "metadata": {},
   "outputs": [],
   "source": [
    "gc.collect()\n",
    "torch.cuda.empty_cache()\n",
    "gc.collect()\n",
    "torch.cuda.empty_cache()"
   ]
  },
  {
   "cell_type": "code",
   "execution_count": null,
   "id": "ed5c4576",
   "metadata": {},
   "outputs": [],
   "source": []
  },
  {
   "cell_type": "code",
   "execution_count": null,
   "id": "2bf8a5e2",
   "metadata": {},
   "outputs": [],
   "source": []
  },
  {
   "cell_type": "markdown",
   "id": "1cd0bcdc",
   "metadata": {},
   "source": [
    "# Similarity matrix"
   ]
  },
  {
   "cell_type": "code",
   "execution_count": 81,
   "id": "f84557d1",
   "metadata": {},
   "outputs": [],
   "source": [
    "sim = similarity_graph.ROI_graph(\n",
    "    device='cpu',\n",
    "    n_workers=-1,\n",
    "    spatialFootprint_maskPower=0.8,\n",
    "    frame_height=512,\n",
    "    frame_width=705,\n",
    "    block_height=50,\n",
    "    block_width=50,\n",
    "    overlapping_width_Multiplier=0.1,\n",
    "    algorithm_nearestNeigbors_spatialFootprints='brute',\n",
    "    n_neighbors_nearestNeighbors_spatialFootprints='full',\n",
    "    locality=1.0,\n",
    "    verbose=True,\n",
    ")"
   ]
  },
  {
   "cell_type": "code",
   "execution_count": 82,
   "id": "c99ca0ef",
   "metadata": {},
   "outputs": [
    {
     "data": {
      "image/png": "[encoded data removed]",
      "text/plain": [
       "<Figure size 640x480 with 1 Axes>"
      ]
     },
     "metadata": {},
     "output_type": "display_data"
    }
   ],
   "source": [
    "sim.visualize_blocks()"
   ]
  },
  {
   "cell_type": "code",
   "execution_count": null,
   "id": "aabb800a",
   "metadata": {},
   "outputs": [],
   "source": []
  },
  {
   "cell_type": "code",
   "execution_count": null,
   "id": "02204bb2",
   "metadata": {},
   "outputs": [],
   "source": [
    "sim.compute_similarity_blockwise(\n",
    "    # spatialFootprints=blurrer.ROIs_blurred,\n",
    "    spatialFootprints=ROIs_aligned,\n",
    "    features_NN=roinet.latents,\n",
    "    features_SWT=swt.latents,\n",
    "    ROI_session_bool=data.sessionID_concat,\n",
    "    linkage_methods=['single', 'complete', 'ward', 'average'],\n",
    "    linkage_distances=helpers.bounded_logspace(0.02, 3, 70),\n",
    "    min_cluster_size=3,\n",
    "    max_cluster_size=None,\n",
    "    batch_size_hashing=300,\n",
    ");"
   ]
  },
  {
   "cell_type": "code",
   "execution_count": null,
   "id": "2a96fd77",
   "metadata": {},
   "outputs": [],
   "source": []
  },
  {
   "cell_type": "code",
   "execution_count": 145,
   "id": "aa77764c",
   "metadata": {},
   "outputs": [
    {
     "data": {
      "text/plain": [
       "(3201, 360960)"
      ]
     },
     "execution_count": 145,
     "metadata": {},
     "output_type": "execute_result"
    }
   ],
   "source": [
    "ROIs_aligned[2].shape"
   ]
  },
  {
   "cell_type": "code",
   "execution_count": 84,
   "id": "a1eb8c3d",
   "metadata": {},
   "outputs": [],
   "source": [
    "spatialFootprints = ROIs_aligned"
   ]
  },
  {
   "cell_type": "code",
   "execution_count": 85,
   "id": "aa49bf1a",
   "metadata": {},
   "outputs": [],
   "source": [
    "sf_cat = scipy.sparse.vstack(spatialFootprints)"
   ]
  },
  {
   "cell_type": "code",
   "execution_count": 88,
   "id": "02f574b9",
   "metadata": {},
   "outputs": [
    {
     "data": {
      "text/plain": [
       "(8993, 360960)"
      ]
     },
     "execution_count": 88,
     "metadata": {},
     "output_type": "execute_result"
    }
   ],
   "source": [
    "sf_cat.shape"
   ]
  },
  {
   "cell_type": "code",
   "execution_count": null,
   "id": "d64f81cb",
   "metadata": {},
   "outputs": [],
   "source": []
  },
  {
   "cell_type": "code",
   "execution_count": 78,
   "id": "02a62ccd",
   "metadata": {},
   "outputs": [],
   "source": []
  },
  {
   "cell_type": "code",
   "execution_count": 202,
   "id": "40c6bce8",
   "metadata": {},
   "outputs": [
    {
     "data": {
      "text/plain": [
       "array([ 88830,  88831,  88832, ..., 123422, 123423, 123424])"
      ]
     },
     "execution_count": 202,
     "metadata": {},
     "output_type": "execute_result"
    }
   ],
   "source": [
    "sim.idxPixels_block[3]"
   ]
  },
  {
   "cell_type": "code",
   "execution_count": 183,
   "id": "b8871114",
   "metadata": {},
   "outputs": [],
   "source": [
    "idxROI_block = np.where(sf_cat[:, sim.idxPixels_block[3]].sum(1) > 0)[0]"
   ]
  },
  {
   "cell_type": "code",
   "execution_count": 184,
   "id": "f7bada25",
   "metadata": {
    "scrolled": true
   },
   "outputs": [
    {
     "data": {
      "text/plain": [
       "82"
      ]
     },
     "execution_count": 184,
     "metadata": {},
     "output_type": "execute_result"
    }
   ],
   "source": [
    "len(idxROI_block)"
   ]
  },
  {
   "cell_type": "code",
   "execution_count": null,
   "id": "be0c0ee1",
   "metadata": {},
   "outputs": [],
   "source": []
  },
  {
   "cell_type": "code",
   "execution_count": 185,
   "id": "297ecd48",
   "metadata": {},
   "outputs": [],
   "source": [
    "features_NN = roinet.latents[idxROI_block]"
   ]
  },
  {
   "cell_type": "code",
   "execution_count": 186,
   "id": "05032cb6",
   "metadata": {
    "scrolled": true
   },
   "outputs": [
    {
     "data": {
      "text/plain": [
       "torch.Size([82, 256])"
      ]
     },
     "execution_count": 186,
     "metadata": {},
     "output_type": "execute_result"
    }
   ],
   "source": [
    "features_NN.size()"
   ]
  },
  {
   "cell_type": "code",
   "execution_count": 194,
   "id": "d9113e9c",
   "metadata": {},
   "outputs": [
    {
     "data": {
      "text/plain": [
       "<matplotlib.image.AxesImage at 0x7f45c00415b0>"
      ]
     },
     "execution_count": 194,
     "metadata": {},
     "output_type": "execute_result"
    },
    {
     "data": {
      "image/png": "[encoded data removed]",
      "text/plain": [
       "<Figure size 640x480 with 1 Axes>"
      ]
     },
     "metadata": {},
     "output_type": "display_data"
    }
   ],
   "source": [
    "plt.imshow(features_NN)"
   ]
  },
  {
   "cell_type": "code",
   "execution_count": 187,
   "id": "4100c99d",
   "metadata": {
    "scrolled": true
   },
   "outputs": [],
   "source": [
    "d_NN  = torch.cdist(features_NN.to('cpu'),  features_NN.to('cpu'),  p=2).cpu()"
   ]
  },
  {
   "cell_type": "code",
   "execution_count": 188,
   "id": "9f24b325",
   "metadata": {},
   "outputs": [
    {
     "data": {
      "text/plain": [
       "tensor(15189.4775)"
      ]
     },
     "execution_count": 188,
     "metadata": {},
     "output_type": "execute_result"
    }
   ],
   "source": [
    "d_NN.sum()"
   ]
  },
  {
   "cell_type": "code",
   "execution_count": 227,
   "id": "f92ec29c",
   "metadata": {},
   "outputs": [],
   "source": [
    "s_NN = 1 / (d_NN / d_NN.max())\n",
    "s_NN[s_NN < 0] = 0\n",
    "s_NN[range(s_NN.shape[0]), range(s_NN.shape[0])] = 0"
   ]
  },
  {
   "cell_type": "code",
   "execution_count": 228,
   "id": "a1c52d28",
   "metadata": {},
   "outputs": [
    {
     "data": {
      "text/plain": [
       "torch.Size([82, 82])"
      ]
     },
     "execution_count": 228,
     "metadata": {},
     "output_type": "execute_result"
    }
   ],
   "source": [
    "s_NN.shape"
   ]
  },
  {
   "cell_type": "code",
   "execution_count": 229,
   "id": "90090cf3",
   "metadata": {
    "scrolled": true
   },
   "outputs": [
    {
     "data": {
      "text/plain": [
       "tensor([[0.0000, 1.0474,    inf,  ...,    inf,    inf,    inf],\n",
       "        [1.0474, 0.0000, 1.0474,  ..., 1.0474, 1.0474, 1.0474],\n",
       "        [   inf, 1.0474, 0.0000,  ...,    inf,    inf,    inf],\n",
       "        ...,\n",
       "        [   inf, 1.0474,    inf,  ..., 0.0000,    inf,    inf],\n",
       "        [   inf, 1.0474,    inf,  ...,    inf, 0.0000,    inf],\n",
       "        [   inf, 1.0474,    inf,  ...,    inf,    inf, 0.0000]])"
      ]
     },
     "execution_count": 229,
     "metadata": {},
     "output_type": "execute_result"
    }
   ],
   "source": [
    "s_NN"
   ]
  },
  {
   "cell_type": "code",
   "execution_count": 225,
   "id": "8179df0d",
   "metadata": {},
   "outputs": [
    {
     "data": {
      "text/plain": [
       "<matplotlib.image.AxesImage at 0x7f466c4e7160>"
      ]
     },
     "execution_count": 225,
     "metadata": {},
     "output_type": "execute_result"
    },
    {
     "data": {
      "image/png": "[encoded data removed]",
      "text/plain": [
       "<Figure size 640x480 with 1 Axes>"
      ]
     },
     "metadata": {},
     "output_type": "display_data"
    }
   ],
   "source": [
    "plt.imshow(s_NN)"
   ]
  },
  {
   "cell_type": "code",
   "execution_count": null,
   "id": "2cccbccc",
   "metadata": {},
   "outputs": [],
   "source": []
  },
  {
   "cell_type": "code",
   "execution_count": 199,
   "id": "bac6375a",
   "metadata": {},
   "outputs": [],
   "source": [
    "spatialFootprints=sf_cat[idxROI_block][:, sim.idxPixels_block[3]].power(0.8)"
   ]
  },
  {
   "cell_type": "code",
   "execution_count": 200,
   "id": "991f66b9",
   "metadata": {},
   "outputs": [
    {
     "data": {
      "text/plain": [
       "(82, 2500)"
      ]
     },
     "execution_count": 200,
     "metadata": {},
     "output_type": "execute_result"
    }
   ],
   "source": [
    "spatialFootprints.shape"
   ]
  },
  {
   "cell_type": "code",
   "execution_count": 204,
   "id": "e1552888",
   "metadata": {},
   "outputs": [],
   "source": [
    "sf = scipy.sparse.vstack(spatialFootprints)\n",
    "sf = sf.power(0.8)\n",
    "sf = sf.multiply( 0.5 / sf.sum(1))\n",
    "sf = scipy.sparse.csr_matrix(sf)"
   ]
  },
  {
   "cell_type": "code",
   "execution_count": 207,
   "id": "98a6e393",
   "metadata": {},
   "outputs": [
    {
     "data": {
      "text/plain": [
       "matrix([[0.50000006]], dtype=float32)"
      ]
     },
     "execution_count": 207,
     "metadata": {},
     "output_type": "execute_result"
    }
   ],
   "source": [
    "sf.sum(1)[0]"
   ]
  },
  {
   "cell_type": "code",
   "execution_count": 209,
   "id": "7c611b66",
   "metadata": {},
   "outputs": [],
   "source": [
    "import sklearn\n",
    "d_sf = sklearn.neighbors.NearestNeighbors(\n",
    "            algorithm='brute',\n",
    "            metric='manhattan',\n",
    "            p=1,\n",
    "            # n_jobs=self._n_workers,\n",
    "            n_jobs=-1,\n",
    "        ).fit(sf).kneighbors_graph(\n",
    "            sf,\n",
    "            n_neighbors=sf.shape[0],\n",
    "            mode='distance'\n",
    "        )"
   ]
  },
  {
   "cell_type": "code",
   "execution_count": 214,
   "id": "ffba973b",
   "metadata": {},
   "outputs": [
    {
     "data": {
      "text/plain": [
       "<matplotlib.image.AxesImage at 0x7f456f45aeb0>"
      ]
     },
     "execution_count": 214,
     "metadata": {},
     "output_type": "execute_result"
    },
    {
     "data": {
      "image/png": "[encoded data removed]",
      "text/plain": [
       "<Figure size 640x480 with 1 Axes>"
      ]
     },
     "metadata": {},
     "output_type": "display_data"
    }
   ],
   "source": [
    "plt.imshow(d_sf.toarray())"
   ]
  },
  {
   "cell_type": "code",
   "execution_count": 231,
   "id": "409a3c58",
   "metadata": {},
   "outputs": [],
   "source": [
    "s_sf = 1 - d_sf.toarray()\n",
    "s_sf[s_sf < 1e-5] = 0  ## Likely due to numerical errors, some values are < 0 and very small. Rectify to fix.\n",
    "s_sf[range(s_sf.shape[0]), range(s_sf.shape[0])] = 0\n",
    "s_sf = torch.as_tensor(s_sf, dtype=torch.float32)"
   ]
  },
  {
   "cell_type": "code",
   "execution_count": 232,
   "id": "fd1e368e",
   "metadata": {},
   "outputs": [
    {
     "data": {
      "text/plain": [
       "<matplotlib.image.AxesImage at 0x7f456f2f31c0>"
      ]
     },
     "execution_count": 232,
     "metadata": {},
     "output_type": "execute_result"
    },
    {
     "data": {
      "image/png": "[encoded data removed]",
      "text/plain": [
       "<Figure size 640x480 with 1 Axes>"
      ]
     },
     "metadata": {},
     "output_type": "display_data"
    }
   ],
   "source": [
    "plt.imshow(s_sf)"
   ]
  },
  {
   "cell_type": "code",
   "execution_count": 234,
   "id": "51142a99",
   "metadata": {},
   "outputs": [
    {
     "data": {
      "text/plain": [
       "<matplotlib.image.AxesImage at 0x7f456f2ab280>"
      ]
     },
     "execution_count": 234,
     "metadata": {},
     "output_type": "execute_result"
    },
    {
     "data": {
      "image/png": "[encoded data removed]",
      "text/plain": [
       "<Figure size 640x480 with 1 Axes>"
      ]
     },
     "metadata": {},
     "output_type": "display_data"
    }
   ],
   "source": [
    "plt.imshow(s_sf * s_NN)"
   ]
  },
  {
   "cell_type": "code",
   "execution_count": null,
   "id": "57a2ea10",
   "metadata": {},
   "outputs": [],
   "source": []
  }
 ],
 "metadata": {
  "kernelspec": {
   "display_name": "Python 3",
   "language": "python",
   "name": "python3"
  },
  "language_info": {
   "codemirror_mode": {
    "name": "ipython",
    "version": 3
   },
   "file_extension": ".py",
   "mimetype": "text/x-python",
   "name": "python",
   "nbconvert_exporter": "python",
   "pygments_lexer": "ipython3",
   "version": "3.9.12"
  }
 },
 "nbformat": 4,
 "nbformat_minor": 5
}
