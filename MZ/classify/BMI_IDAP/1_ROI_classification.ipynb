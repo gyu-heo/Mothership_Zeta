{
 "cells": [
  {
   "cell_type": "code",
   "execution_count": null,
   "id": "3dc01dd5",
   "metadata": {},
   "outputs": [],
   "source": [
    "from IPython.display import display, HTML\n",
    "display(HTML(\"<style>.container { width:95% !important; }</style>\"))"
   ]
  },
  {
   "cell_type": "code",
   "execution_count": null,
   "id": "b1e2020b",
   "metadata": {},
   "outputs": [],
   "source": [
    "from pathlib import Path\n",
    "import numpy as np\n",
    "import copy\n",
    "import torch\n",
    "from tqdm.notebook import tqdm\n",
    "import pickle\n",
    "import matplotlib.pyplot as plt"
   ]
  },
  {
   "cell_type": "code",
   "execution_count": null,
   "id": "885a80f2",
   "metadata": {},
   "outputs": [],
   "source": [
    "import inspect\n",
    "inspect.getfile(pickle)"
   ]
  },
  {
   "cell_type": "code",
   "execution_count": null,
   "id": "2a2fb972",
   "metadata": {},
   "outputs": [],
   "source": []
  },
  {
   "cell_type": "code",
   "execution_count": null,
   "id": "227a779e",
   "metadata": {},
   "outputs": [],
   "source": [
    "## Directory containing cloned repos like GCaMP_ROI_classifier and basic_neural_processing_modules\n",
    "dir_github = Path(r'/n/data1/hms/neurobio/sabatini/gyu/github_clone/Mothership_Zeta/MZ').resolve()\n",
    "\n",
    "dir_analysisFiles = Path(r'D:\\RH_local\\data\\BMI_cage_g2F\\mouse_g2FB\\20221111\\analysis_data').resolve()\n",
    "\n",
    "## Directory with F.npy, stat.npy etc.\n",
    "dir_s2p         = Path(r'/n/data1/hms/neurobio/sabatini/gyu/analysis/suite2p_output/mouse_g2FB/20221113/scanimage_data/exp/jobNum_0/suite2p/plane0').resolve()\n",
    "\n",
    "## Directory to save outputs from this notebook like iscell\n",
    "dir_save = dir_analysisFiles\n",
    "\n",
    "\n",
    "## NN fileNames\n",
    "fileName_NN_pth = 'ResNet18_simCLR_model_202112078_EOD_transfmod=norm.pth' # name of pth file in dir_NNmodels directory\n",
    "fileName_NN_py  = 'ResNet18_simCLR_model_202112078_EOD_transfmod=norm' # EXCLUDE THE .PY AT THE END. name of py file in dir_NNmodels directory.\n",
    "fileName_classifier = 'logreg_model_0.01.pkl' # path to logististic classifier pickle file in dir_classifiers"
   ]
  },
  {
   "cell_type": "code",
   "execution_count": null,
   "id": "21caaa93",
   "metadata": {},
   "outputs": [],
   "source": [
    "dir_github"
   ]
  },
  {
   "cell_type": "code",
   "execution_count": null,
   "id": "cf9dd20c",
   "metadata": {},
   "outputs": [],
   "source": [
    "str(dir_github / 'classify/GCaMP_ROI_classifier')"
   ]
  },
  {
   "cell_type": "code",
   "execution_count": null,
   "id": "84c43ee1",
   "metadata": {},
   "outputs": [],
   "source": [
    "## Directories of Classifier stuff\n",
    "dir_classify = dir_github / 'classify'\n",
    "dir_GRC_repo = dir_classify / 'GCaMP_ROI_classifier'\n",
    "dir_GRC_EndUser = dir_GRC_repo / 'End_User'\n",
    "dir_NNmodels = dir_GRC_EndUser / 'simclr-models'\n",
    "dir_classifiers = dir_GRC_EndUser / 'classifier-models'\n",
    "dir_GRC_util = dir_GRC_repo / 'new_stuff'\n",
    "\n",
    "## Paths to NN and LR classifiers\n",
    "path_NN_pth = dir_NNmodels / fileName_NN_pth\n",
    "path_NN_py = dir_NNmodels / fileName_NN_py\n",
    "path_classifier = dir_classifiers / fileName_classifier\n",
    "\n",
    "path_statFile = dir_s2p / 'stat.npy'\n",
    "path_opsFile = dir_s2p / 'ops.npy'"
   ]
  },
  {
   "cell_type": "code",
   "execution_count": null,
   "id": "77f6bfb0",
   "metadata": {},
   "outputs": [],
   "source": [
    "test"
   ]
  },
  {
   "cell_type": "code",
   "execution_count": null,
   "id": "7cda17d0",
   "metadata": {},
   "outputs": [],
   "source": [
    "for session in test.rglob('*'):\n",
    "    if \"stat.npy\" in str(session):\n",
    "        print(str(session))"
   ]
  },
  {
   "cell_type": "code",
   "execution_count": null,
   "id": "27bd98d3",
   "metadata": {},
   "outputs": [],
   "source": [
    "import sys\n",
    "sys.path.append(str(dir_github))\n",
    "sys.path.append(str(dir_classify))\n",
    "# sys.path.append(str(dir_GRC_repo))\n",
    "# sys.path.append(str(dir_GRC_util))\n",
    "\n",
    "%load_ext autoreload\n",
    "%autoreload 2\n",
    "from GCaMP_ROI_classifier.new_stuff import util\n",
    "# from basic_neural_processing_modules import *\n",
    "from utils.basic_neural_processing_modules import torch_helpers, plotting_helpers, file_helpers"
   ]
  },
  {
   "cell_type": "code",
   "execution_count": null,
   "id": "05a18e2c",
   "metadata": {},
   "outputs": [],
   "source": [
    "## Device to use for NN model\n",
    "DEVICE = torch_helpers.set_device(use_GPU=True)"
   ]
  },
  {
   "cell_type": "code",
   "execution_count": null,
   "id": "025b37fe",
   "metadata": {},
   "outputs": [],
   "source": [
    "## TODO: Troubleshoot the runtime on this\n",
    "# def drop_nan_imgs(rois):\n",
    "#     ROIs_without_NaNs = torch.where(~torch.any(torch.any(torch.isnan(rois), dim=1), dim=1))[0]\n",
    "#     return rois[ROIs_without_NaNs]\n",
    "\n",
    "def dataloader_to_latents(dataloader, model, DEVICE='cpu'):\n",
    "    def subset_to_latents(data):\n",
    "        return model.get_head(model.base_model(data[0][0].to(DEVICE))).detach().cpu()\n",
    "    return torch.cat([subset_to_latents(data) for data in tqdm(dataloader)], dim=0)\n",
    "\n",
    "def load_classifier_model(classifier_name):\n",
    "    with open(classifier_name, 'rb') as classifier_model_file:\n",
    "        classifier = pickle.load(classifier_model_file)\n",
    "    return classifier"
   ]
  },
  {
   "cell_type": "code",
   "execution_count": null,
   "id": "940296e4",
   "metadata": {},
   "outputs": [],
   "source": [
    "spatial_footprints = torch.as_tensor(\n",
    "    util.statFile_to_spatialFootprints(path_statFile, out_height_width=[36,36], max_footprint_width=455)\n",
    ")\n",
    "\n",
    "spatial_footprints = spatial_footprints / torch.sum(spatial_footprints, dim=(1,2), keepdim=True)\n",
    "\n",
    "# spatial_footprints = drop_nan_imgs(spatial_footprints)\n",
    "print(spatial_footprints.shape[0], 'ROIs loaded.')"
   ]
  },
  {
   "cell_type": "code",
   "execution_count": null,
   "id": "20b7e3b5",
   "metadata": {},
   "outputs": [],
   "source": [
    "# Instantiate Model\n",
    "import importlib\n",
    "# model_file = importlib.util.spec_from_file_location('path_NN_py')\n",
    "sys.path.append(str(dir_NNmodels))\n",
    "model_file = importlib.import_module(fileName_NN_py)\n",
    "# model_file = importlib.import_module(tester)\n",
    "model = model_file.get_model(path_NN_pth)\n",
    "model.eval();"
   ]
  },
  {
   "cell_type": "code",
   "execution_count": null,
   "id": "089600cd",
   "metadata": {},
   "outputs": [],
   "source": [
    "# Create Data Sets / Data Loaders\n",
    "dataset, dataloader = model_file.get_dataset_dataloader(spatial_footprints, batch_size=64, device=DEVICE) ## TODO: Troubleshoot the runtime on this"
   ]
  },
  {
   "cell_type": "code",
   "execution_count": null,
   "id": "59a87bcf",
   "metadata": {},
   "outputs": [],
   "source": [
    "model.to(DEVICE);"
   ]
  },
  {
   "cell_type": "code",
   "execution_count": null,
   "id": "5b903092",
   "metadata": {},
   "outputs": [],
   "source": [
    "# Get Model Latents\n",
    "latents = dataloader_to_latents(dataloader, model, DEVICE=DEVICE).numpy()"
   ]
  },
  {
   "cell_type": "code",
   "execution_count": null,
   "id": "fdc4cf24",
   "metadata": {},
   "outputs": [],
   "source": [
    "# Load Logistic Model\n",
    "classifier_model = load_classifier_model(path_classifier)"
   ]
  },
  {
   "cell_type": "code",
   "execution_count": null,
   "id": "ece63fec",
   "metadata": {},
   "outputs": [],
   "source": [
    "# Predict ROIs — Save to File\n",
    "proba = classifier_model.predict_proba(latents)\n",
    "preds = np.argmax(proba, axis=-1)\n",
    "uncertainty = util.loss_uncertainty(torch.as_tensor(proba), temperature=1, class_value=None).detach().cpu().numpy()\n",
    "    \n",
    "params = classifier_model.get_params()"
   ]
  },
  {
   "cell_type": "code",
   "execution_count": null,
   "id": "5ae95706",
   "metadata": {},
   "outputs": [],
   "source": [
    "ROI_classifier_outputs = {\n",
    "    'latents': latents,\n",
    "    'proba': proba,\n",
    "    'preds': preds,\n",
    "    'uncertainty': uncertainty,\n",
    "    'LR_params': params\n",
    "}"
   ]
  },
  {
   "cell_type": "code",
   "execution_count": null,
   "id": "28eb315e",
   "metadata": {},
   "outputs": [],
   "source": [
    "%matplotlib inline\n",
    "plt.figure()\n",
    "plt.hist(preds, 50);"
   ]
  },
  {
   "cell_type": "code",
   "execution_count": null,
   "id": "4a728250",
   "metadata": {},
   "outputs": [],
   "source": [
    "%matplotlib inline\n",
    "plt.figure()\n",
    "plt.hist(preds, 50);"
   ]
  },
  {
   "cell_type": "code",
   "execution_count": null,
   "id": "7cb3c526",
   "metadata": {},
   "outputs": [],
   "source": [
    "len(iscell_NN)"
   ]
  },
  {
   "cell_type": "code",
   "execution_count": null,
   "id": "06decad6",
   "metadata": {},
   "outputs": [],
   "source": [
    "preds_toUse = [0,1]\n",
    "\n",
    "iscell_NN = np.isin(preds, preds_toUse)\n",
    "iscell_NN_idx = np.where(iscell_NN)[0]\n",
    "\n",
    "print(f'number of included ROIs: {len(iscell_NN_idx)}')"
   ]
  },
  {
   "cell_type": "code",
   "execution_count": null,
   "id": "55f0cf14",
   "metadata": {},
   "outputs": [],
   "source": [
    "%matplotlib notebook\n",
    "\n",
    "grid_shape = (7,7)\n",
    "\n",
    "print('including')\n",
    "plotting_helpers.plot_image_grid(\n",
    "    spatial_footprints[np.random.choice(iscell_NN_idx, np.prod(grid_shape))],\n",
    "    grid_shape=grid_shape, \n",
    "    show_axis='off', \n",
    ");\n",
    "\n",
    "print('excluding')\n",
    "plotting_helpers.plot_image_grid(\n",
    "    spatial_footprints[np.random.choice(np.where(~iscell_NN)[0], np.prod(grid_shape))],\n",
    "    grid_shape=grid_shape, \n",
    "    show_axis='off', \n",
    ");"
   ]
  },
  {
   "cell_type": "code",
   "execution_count": null,
   "id": "c2c78913",
   "metadata": {},
   "outputs": [],
   "source": [
    "%load_ext autoreload\n",
    "%autoreload 2\n",
    "from Big_Ugly_ROI_Tracker.multiEps.multiEps_modules import *\n",
    "\n",
    "sf_toShow = spatial_footprints[iscell_NN]\n",
    "\n",
    "%matplotlib notebook\n",
    "display_toggle_image_stack(sf_toShow, clim=None)"
   ]
  },
  {
   "cell_type": "code",
   "execution_count": null,
   "id": "9b313b4e",
   "metadata": {},
   "outputs": [],
   "source": [
    "np.save(\n",
    "    file=dir_save / 'iscell_NN.npy',\n",
    "    arr=iscell_NN\n",
    ")\n",
    "\n",
    "# pickle_helpers.simple_save(\n",
    "#     obj=ROI_classifier_outputs,\n",
    "#     filename=dir_save / 'ROI_classifier_outputs.pkl'\n",
    "# )\n",
    "file_helpers.pickle_save(\n",
    "    obj=ROI_classifier_outputs,\n",
    "    path_save=dir_save / 'ROI_classifier_outputs.pkl'\n",
    ")"
   ]
  },
  {
   "cell_type": "code",
   "execution_count": null,
   "id": "bcbd0327",
   "metadata": {},
   "outputs": [],
   "source": []
  },
  {
   "cell_type": "code",
   "execution_count": null,
   "id": "be15c536",
   "metadata": {},
   "outputs": [],
   "source": [
    "sys.path.append('/n/data1/hms/neurobio/sabatini/gyu/github_clone')"
   ]
  },
  {
   "cell_type": "code",
   "execution_count": null,
   "id": "d0864e89",
   "metadata": {},
   "outputs": [],
   "source": [
    "import Mothership_Zeta.MZ.extract_process"
   ]
  },
  {
   "cell_type": "code",
   "execution_count": null,
   "id": "121b2062",
   "metadata": {},
   "outputs": [],
   "source": []
  },
  {
   "cell_type": "code",
   "execution_count": null,
   "id": "71008adf",
   "metadata": {},
   "outputs": [],
   "source": [
    "sf = convert_stat_to_sparse_spatial_footprints(path_statFile, path_ops=path_opsFile, normalize='max')\n",
    "\n",
    "sf_classes = [sf[preds==ii].sum(0).todense() for ii in np.unique(preds)]\n",
    "\n",
    "%matplotlib notebook\n",
    "display_toggle_image_stack(sf_classes, clim=None)"
   ]
  },
  {
   "cell_type": "code",
   "execution_count": null,
   "id": "062619b1",
   "metadata": {},
   "outputs": [],
   "source": [
    "sf = convert_stat_to_sparse_spatial_footprints(path_statFile, path_ops=path_opsFile, normalize='max')\n",
    "\n",
    "sf_classes = [sf[preds==ii].sum(0).todense() for ii in np.unique(preds)]\n",
    "\n",
    "%matplotlib notebook\n",
    "display_toggle_image_stack(sf_classes, clim=None)"
   ]
  },
  {
   "cell_type": "code",
   "execution_count": null,
   "id": "d5e8dfc3",
   "metadata": {},
   "outputs": [],
   "source": []
  },
  {
   "cell_type": "code",
   "execution_count": null,
   "id": "08e2ed06",
   "metadata": {},
   "outputs": [],
   "source": []
  },
  {
   "cell_type": "code",
   "execution_count": null,
   "id": "b6592157",
   "metadata": {},
   "outputs": [],
   "source": []
  },
  {
   "cell_type": "code",
   "execution_count": null,
   "id": "c1507e6f",
   "metadata": {},
   "outputs": [],
   "source": []
  },
  {
   "cell_type": "code",
   "execution_count": null,
   "id": "e4ce8314",
   "metadata": {},
   "outputs": [],
   "source": []
  },
  {
   "cell_type": "code",
   "execution_count": null,
   "id": "9a28dff8",
   "metadata": {},
   "outputs": [],
   "source": []
  },
  {
   "cell_type": "code",
   "execution_count": null,
   "id": "7ed683e6",
   "metadata": {},
   "outputs": [],
   "source": []
  },
  {
   "cell_type": "code",
   "execution_count": null,
   "id": "4a8fc68a",
   "metadata": {},
   "outputs": [],
   "source": []
  },
  {
   "cell_type": "code",
   "execution_count": null,
   "id": "ab7f0725",
   "metadata": {},
   "outputs": [],
   "source": []
  },
  {
   "cell_type": "code",
   "execution_count": null,
   "id": "ae1236e2",
   "metadata": {},
   "outputs": [],
   "source": []
  },
  {
   "cell_type": "code",
   "execution_count": null,
   "id": "d385c0f4",
   "metadata": {},
   "outputs": [],
   "source": []
  },
  {
   "cell_type": "code",
   "execution_count": null,
   "id": "f535cbf2",
   "metadata": {},
   "outputs": [],
   "source": []
  },
  {
   "cell_type": "code",
   "execution_count": null,
   "id": "f0720d5e",
   "metadata": {},
   "outputs": [],
   "source": []
  },
  {
   "cell_type": "code",
   "execution_count": null,
   "id": "f95e7d29",
   "metadata": {},
   "outputs": [],
   "source": []
  },
  {
   "cell_type": "code",
   "execution_count": null,
   "id": "f2b14fcf",
   "metadata": {},
   "outputs": [],
   "source": []
  },
  {
   "cell_type": "code",
   "execution_count": null,
   "id": "b7e7a4cc",
   "metadata": {},
   "outputs": [],
   "source": []
  },
  {
   "cell_type": "code",
   "execution_count": null,
   "id": "90729604",
   "metadata": {},
   "outputs": [],
   "source": []
  },
  {
   "cell_type": "code",
   "execution_count": null,
   "id": "dbe5577b",
   "metadata": {},
   "outputs": [],
   "source": []
  },
  {
   "cell_type": "code",
   "execution_count": null,
   "id": "ac6dceff",
   "metadata": {},
   "outputs": [],
   "source": []
  },
  {
   "cell_type": "code",
   "execution_count": null,
   "id": "7a9a42d8",
   "metadata": {},
   "outputs": [],
   "source": []
  },
  {
   "cell_type": "code",
   "execution_count": null,
   "id": "006f31ec",
   "metadata": {},
   "outputs": [],
   "source": []
  },
  {
   "cell_type": "code",
   "execution_count": null,
   "id": "72e1d649",
   "metadata": {},
   "outputs": [],
   "source": []
  },
  {
   "cell_type": "code",
   "execution_count": null,
   "id": "0ad96547",
   "metadata": {},
   "outputs": [],
   "source": []
  },
  {
   "cell_type": "code",
   "execution_count": null,
   "id": "2650b4da",
   "metadata": {},
   "outputs": [],
   "source": []
  },
  {
   "cell_type": "code",
   "execution_count": null,
   "id": "c01b0f4c",
   "metadata": {},
   "outputs": [],
   "source": []
  }
 ],
 "metadata": {
  "kernelspec": {
   "display_name": "Python 3",
   "language": "python",
   "name": "python3"
  },
  "language_info": {
   "codemirror_mode": {
    "name": "ipython",
    "version": 3
   },
   "file_extension": ".py",
   "mimetype": "text/x-python",
   "name": "python",
   "nbconvert_exporter": "python",
   "pygments_lexer": "ipython3",
   "version": "3.9.13"
  }
 },
 "nbformat": 4,
 "nbformat_minor": 5
}
